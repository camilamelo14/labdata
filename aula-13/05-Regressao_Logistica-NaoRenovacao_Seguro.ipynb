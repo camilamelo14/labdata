{
 "cells": [
  {
   "cell_type": "code",
   "execution_count": 1,
   "metadata": {},
   "outputs": [],
   "source": [
    "import numpy as np\n",
    "import pandas as pd\n",
    "import seaborn as sns\n",
    "import matplotlib.pyplot as plt\n",
    "%matplotlib inline"
   ]
  },
  {
   "cell_type": "code",
   "execution_count": 2,
   "metadata": {},
   "outputs": [
    {
     "data": {
      "text/html": [
       "<div>\n",
       "<style scoped>\n",
       "    .dataframe tbody tr th:only-of-type {\n",
       "        vertical-align: middle;\n",
       "    }\n",
       "\n",
       "    .dataframe tbody tr th {\n",
       "        vertical-align: top;\n",
       "    }\n",
       "\n",
       "    .dataframe thead th {\n",
       "        text-align: right;\n",
       "    }\n",
       "</style>\n",
       "<table border=\"1\" class=\"dataframe\">\n",
       "  <thead>\n",
       "    <tr style=\"text-align: right;\">\n",
       "      <th></th>\n",
       "      <th>Nao_Renovou</th>\n",
       "      <th>Renda</th>\n",
       "      <th>Reclamacoes</th>\n",
       "      <th>Educacao</th>\n",
       "      <th>Tempo_cliente</th>\n",
       "      <th>Classe_idade</th>\n",
       "      <th>Idade_carro</th>\n",
       "      <th>Debito_autom</th>\n",
       "    </tr>\n",
       "  </thead>\n",
       "  <tbody>\n",
       "    <tr>\n",
       "      <th>0</th>\n",
       "      <td>1</td>\n",
       "      <td>03_&gt;R$ 5000</td>\n",
       "      <td>04_&gt;5</td>\n",
       "      <td>04_Pos-graduacao</td>\n",
       "      <td>01_Ate 1 ano</td>\n",
       "      <td>03_36 a 55</td>\n",
       "      <td>02_1 a 3 anos</td>\n",
       "      <td>01_Nao</td>\n",
       "    </tr>\n",
       "    <tr>\n",
       "      <th>1</th>\n",
       "      <td>1</td>\n",
       "      <td>03_&gt;R$ 5000</td>\n",
       "      <td>04_&gt;5</td>\n",
       "      <td>04_Pos-graduacao</td>\n",
       "      <td>01_Ate 1 ano</td>\n",
       "      <td>03_36 a 55</td>\n",
       "      <td>02_1 a 3 anos</td>\n",
       "      <td>01_Nao</td>\n",
       "    </tr>\n",
       "    <tr>\n",
       "      <th>2</th>\n",
       "      <td>1</td>\n",
       "      <td>03_&gt;R$ 5000</td>\n",
       "      <td>03_3 a 5</td>\n",
       "      <td>04_Pos-graduacao</td>\n",
       "      <td>01_Ate 1 ano</td>\n",
       "      <td>02_26 a 35</td>\n",
       "      <td>01_Zero</td>\n",
       "      <td>01_Nao</td>\n",
       "    </tr>\n",
       "    <tr>\n",
       "      <th>3</th>\n",
       "      <td>1</td>\n",
       "      <td>03_&gt;R$ 5000</td>\n",
       "      <td>03_3 a 5</td>\n",
       "      <td>04_Pos-graduacao</td>\n",
       "      <td>01_Ate 1 ano</td>\n",
       "      <td>04_&gt;55</td>\n",
       "      <td>02_1 a 3 anos</td>\n",
       "      <td>01_Nao</td>\n",
       "    </tr>\n",
       "    <tr>\n",
       "      <th>4</th>\n",
       "      <td>1</td>\n",
       "      <td>02_Entre R$ 2001 e R$ 5000</td>\n",
       "      <td>04_&gt;5</td>\n",
       "      <td>03_Curso superior</td>\n",
       "      <td>02_1 a 3 anos</td>\n",
       "      <td>03_36 a 55</td>\n",
       "      <td>04_7 a 9 anos</td>\n",
       "      <td>01_Nao</td>\n",
       "    </tr>\n",
       "    <tr>\n",
       "      <th>...</th>\n",
       "      <td>...</td>\n",
       "      <td>...</td>\n",
       "      <td>...</td>\n",
       "      <td>...</td>\n",
       "      <td>...</td>\n",
       "      <td>...</td>\n",
       "      <td>...</td>\n",
       "      <td>...</td>\n",
       "    </tr>\n",
       "    <tr>\n",
       "      <th>2138</th>\n",
       "      <td>0</td>\n",
       "      <td>02_Entre R$ 2001 e R$ 5000</td>\n",
       "      <td>03_3 a 5</td>\n",
       "      <td>02_Ensino Medio</td>\n",
       "      <td>02_1 a 3 anos</td>\n",
       "      <td>03_36 a 55</td>\n",
       "      <td>05_&gt;=10 anos</td>\n",
       "      <td>02_Sim</td>\n",
       "    </tr>\n",
       "    <tr>\n",
       "      <th>2139</th>\n",
       "      <td>0</td>\n",
       "      <td>02_Entre R$ 2001 e R$ 5000</td>\n",
       "      <td>04_&gt;5</td>\n",
       "      <td>01_Ensino Fundamental</td>\n",
       "      <td>03_&gt;3 anos</td>\n",
       "      <td>03_36 a 55</td>\n",
       "      <td>03_4 a 6 anos</td>\n",
       "      <td>02_Sim</td>\n",
       "    </tr>\n",
       "    <tr>\n",
       "      <th>2140</th>\n",
       "      <td>0</td>\n",
       "      <td>01_Ate R$ 2000</td>\n",
       "      <td>01_Nenhuma</td>\n",
       "      <td>02_Ensino Medio</td>\n",
       "      <td>02_1 a 3 anos</td>\n",
       "      <td>03_36 a 55</td>\n",
       "      <td>01_Zero</td>\n",
       "      <td>01_Nao</td>\n",
       "    </tr>\n",
       "    <tr>\n",
       "      <th>2141</th>\n",
       "      <td>0</td>\n",
       "      <td>03_&gt;R$ 5000</td>\n",
       "      <td>04_&gt;5</td>\n",
       "      <td>01_Ensino Fundamental</td>\n",
       "      <td>03_&gt;3 anos</td>\n",
       "      <td>02_26 a 35</td>\n",
       "      <td>02_1 a 3 anos</td>\n",
       "      <td>01_Nao</td>\n",
       "    </tr>\n",
       "    <tr>\n",
       "      <th>2142</th>\n",
       "      <td>0</td>\n",
       "      <td>01_Ate R$ 2000</td>\n",
       "      <td>03_3 a 5</td>\n",
       "      <td>02_Ensino Medio</td>\n",
       "      <td>03_&gt;3 anos</td>\n",
       "      <td>02_26 a 35</td>\n",
       "      <td>05_&gt;=10 anos</td>\n",
       "      <td>01_Nao</td>\n",
       "    </tr>\n",
       "  </tbody>\n",
       "</table>\n",
       "<p>2143 rows × 8 columns</p>\n",
       "</div>"
      ],
      "text/plain": [
       "      Nao_Renovou                       Renda Reclamacoes  \\\n",
       "0               1                 03_>R$ 5000       04_>5   \n",
       "1               1                 03_>R$ 5000       04_>5   \n",
       "2               1                 03_>R$ 5000    03_3 a 5   \n",
       "3               1                 03_>R$ 5000    03_3 a 5   \n",
       "4               1  02_Entre R$ 2001 e R$ 5000       04_>5   \n",
       "...           ...                         ...         ...   \n",
       "2138            0  02_Entre R$ 2001 e R$ 5000    03_3 a 5   \n",
       "2139            0  02_Entre R$ 2001 e R$ 5000       04_>5   \n",
       "2140            0              01_Ate R$ 2000  01_Nenhuma   \n",
       "2141            0                 03_>R$ 5000       04_>5   \n",
       "2142            0              01_Ate R$ 2000    03_3 a 5   \n",
       "\n",
       "                   Educacao  Tempo_cliente Classe_idade    Idade_carro  \\\n",
       "0          04_Pos-graduacao   01_Ate 1 ano   03_36 a 55  02_1 a 3 anos   \n",
       "1          04_Pos-graduacao   01_Ate 1 ano   03_36 a 55  02_1 a 3 anos   \n",
       "2          04_Pos-graduacao   01_Ate 1 ano   02_26 a 35        01_Zero   \n",
       "3          04_Pos-graduacao   01_Ate 1 ano       04_>55  02_1 a 3 anos   \n",
       "4         03_Curso superior  02_1 a 3 anos   03_36 a 55  04_7 a 9 anos   \n",
       "...                     ...            ...          ...            ...   \n",
       "2138        02_Ensino Medio  02_1 a 3 anos   03_36 a 55   05_>=10 anos   \n",
       "2139  01_Ensino Fundamental     03_>3 anos   03_36 a 55  03_4 a 6 anos   \n",
       "2140        02_Ensino Medio  02_1 a 3 anos   03_36 a 55        01_Zero   \n",
       "2141  01_Ensino Fundamental     03_>3 anos   02_26 a 35  02_1 a 3 anos   \n",
       "2142        02_Ensino Medio     03_>3 anos   02_26 a 35   05_>=10 anos   \n",
       "\n",
       "     Debito_autom  \n",
       "0          01_Nao  \n",
       "1          01_Nao  \n",
       "2          01_Nao  \n",
       "3          01_Nao  \n",
       "4          01_Nao  \n",
       "...           ...  \n",
       "2138       02_Sim  \n",
       "2139       02_Sim  \n",
       "2140       01_Nao  \n",
       "2141       01_Nao  \n",
       "2142       01_Nao  \n",
       "\n",
       "[2143 rows x 8 columns]"
      ]
     },
     "execution_count": 2,
     "metadata": {},
     "output_type": "execute_result"
    }
   ],
   "source": [
    "# Leitura da base de dados\n",
    "seg_auto = pd.read_table(\"Reg_Log_NaoRenovacao_SeguroAuto.txt\")\n",
    "seg_auto"
   ]
  },
  {
   "cell_type": "code",
   "execution_count": 3,
   "metadata": {},
   "outputs": [
    {
     "data": {
      "text/plain": [
       "(2143, 8)"
      ]
     },
     "execution_count": 3,
     "metadata": {},
     "output_type": "execute_result"
    }
   ],
   "source": [
    "seg_auto.shape"
   ]
  },
  {
   "cell_type": "code",
   "execution_count": 4,
   "metadata": {},
   "outputs": [
    {
     "data": {
      "text/plain": [
       "Nao_Renovou       int64\n",
       "Renda            object\n",
       "Reclamacoes      object\n",
       "Educacao         object\n",
       "Tempo_cliente    object\n",
       "Classe_idade     object\n",
       "Idade_carro      object\n",
       "Debito_autom     object\n",
       "dtype: object"
      ]
     },
     "execution_count": 4,
     "metadata": {},
     "output_type": "execute_result"
    }
   ],
   "source": [
    "seg_auto.dtypes"
   ]
  },
  {
   "cell_type": "code",
   "execution_count": 5,
   "metadata": {},
   "outputs": [
    {
     "data": {
      "text/html": [
       "<div>\n",
       "<style scoped>\n",
       "    .dataframe tbody tr th:only-of-type {\n",
       "        vertical-align: middle;\n",
       "    }\n",
       "\n",
       "    .dataframe tbody tr th {\n",
       "        vertical-align: top;\n",
       "    }\n",
       "\n",
       "    .dataframe thead th {\n",
       "        text-align: right;\n",
       "    }\n",
       "</style>\n",
       "<table border=\"1\" class=\"dataframe\">\n",
       "  <thead>\n",
       "    <tr style=\"text-align: right;\">\n",
       "      <th></th>\n",
       "      <th>count</th>\n",
       "      <th>mean</th>\n",
       "      <th>std</th>\n",
       "      <th>min</th>\n",
       "      <th>25%</th>\n",
       "      <th>50%</th>\n",
       "      <th>75%</th>\n",
       "      <th>max</th>\n",
       "    </tr>\n",
       "  </thead>\n",
       "  <tbody>\n",
       "    <tr>\n",
       "      <th>Nao_Renovou</th>\n",
       "      <td>2143.0</td>\n",
       "      <td>0.458236</td>\n",
       "      <td>0.498369</td>\n",
       "      <td>0.0</td>\n",
       "      <td>0.0</td>\n",
       "      <td>0.0</td>\n",
       "      <td>1.0</td>\n",
       "      <td>1.0</td>\n",
       "    </tr>\n",
       "  </tbody>\n",
       "</table>\n",
       "</div>"
      ],
      "text/plain": [
       "              count      mean       std  min  25%  50%  75%  max\n",
       "Nao_Renovou  2143.0  0.458236  0.498369  0.0  0.0  0.0  1.0  1.0"
      ]
     },
     "execution_count": 5,
     "metadata": {},
     "output_type": "execute_result"
    }
   ],
   "source": [
    "seg_auto.describe().transpose()"
   ]
  },
  {
   "cell_type": "code",
   "execution_count": 6,
   "metadata": {},
   "outputs": [
    {
     "data": {
      "text/plain": [
       "01_Ate R$ 2000                42.417172\n",
       "02_Entre R$ 2001 e R$ 5000    34.857676\n",
       "03_>R$ 5000                   22.725152\n",
       "Name: Renda, dtype: float64"
      ]
     },
     "execution_count": 6,
     "metadata": {},
     "output_type": "execute_result"
    }
   ],
   "source": [
    "# Contagem relativa das variáveis qualitativas\n",
    "seg_auto.Renda.value_counts(normalize=True) * 100"
   ]
  },
  {
   "cell_type": "code",
   "execution_count": 7,
   "metadata": {},
   "outputs": [
    {
     "data": {
      "text/plain": [
       "01_Ate R$ 2000                909\n",
       "02_Entre R$ 2001 e R$ 5000    747\n",
       "03_>R$ 5000                   487\n",
       "Name: Renda, dtype: int64"
      ]
     },
     "execution_count": 7,
     "metadata": {},
     "output_type": "execute_result"
    }
   ],
   "source": [
    "seg_auto.Renda.value_counts() #Frequência Absoluna"
   ]
  },
  {
   "cell_type": "code",
   "execution_count": 8,
   "metadata": {},
   "outputs": [
    {
     "data": {
      "text/plain": [
       "03_3 a 5      34.437704\n",
       "02_Ate 3      27.718152\n",
       "01_Nenhuma    23.098460\n",
       "04_>5         14.745684\n",
       "Name: Reclamacoes, dtype: float64"
      ]
     },
     "execution_count": 8,
     "metadata": {},
     "output_type": "execute_result"
    }
   ],
   "source": [
    "seg_auto.Reclamacoes.value_counts(normalize=True) * 100"
   ]
  },
  {
   "cell_type": "code",
   "execution_count": 45,
   "metadata": {},
   "outputs": [
    {
     "data": {
      "text/plain": [
       "01_Ensino Fundamental    18.898740\n",
       "02_Ensino Medio          35.277648\n",
       "03_Curso superior        25.618292\n",
       "04_Pos-graduacao         20.205320\n",
       "Name: Educacao, dtype: float64"
      ]
     },
     "execution_count": 45,
     "metadata": {},
     "output_type": "execute_result"
    }
   ],
   "source": [
    "seg_auto.Educacao.value_counts(normalize=True).sort_index() * 100"
   ]
  },
  {
   "cell_type": "code",
   "execution_count": 10,
   "metadata": {},
   "outputs": [
    {
     "data": {
      "text/plain": [
       "03_>3 anos       36.117592\n",
       "01_Ate 1 ano     35.324312\n",
       "02_1 a 3 anos    28.558096\n",
       "Name: Tempo_cliente, dtype: float64"
      ]
     },
     "execution_count": 10,
     "metadata": {},
     "output_type": "execute_result"
    }
   ],
   "source": [
    "seg_auto.Tempo_cliente.value_counts(normalize=True) * 100"
   ]
  },
  {
   "cell_type": "markdown",
   "metadata": {},
   "source": [
    "## Fazer a tabela de frequencias para as demais variáveis qualitativas"
   ]
  },
  {
   "cell_type": "code",
   "execution_count": 11,
   "metadata": {},
   "outputs": [
    {
     "data": {
      "text/plain": [
       "03_36 a 55    42.883808\n",
       "02_26 a 35    35.277648\n",
       "04_>55        12.179188\n",
       "01_Ate 25      9.659356\n",
       "Name: Classe_idade, dtype: float64"
      ]
     },
     "execution_count": 11,
     "metadata": {},
     "output_type": "execute_result"
    }
   ],
   "source": [
    "seg_auto.Classe_idade.value_counts(normalize=True) * 100"
   ]
  },
  {
   "cell_type": "code",
   "execution_count": 12,
   "metadata": {},
   "outputs": [
    {
     "data": {
      "text/plain": [
       "01_Zero          25.944937\n",
       "02_1 a 3 anos    19.785348\n",
       "03_4 a 6 anos    19.785348\n",
       "04_7 a 9 anos    19.412039\n",
       "05_>=10 anos     15.072329\n",
       "Name: Idade_carro, dtype: float64"
      ]
     },
     "execution_count": 12,
     "metadata": {},
     "output_type": "execute_result"
    }
   ],
   "source": [
    "seg_auto.Idade_carro.value_counts(normalize=True) * 100"
   ]
  },
  {
   "cell_type": "code",
   "execution_count": 13,
   "metadata": {},
   "outputs": [
    {
     "data": {
      "text/plain": [
       "01_Nao    74.381708\n",
       "02_Sim    25.618292\n",
       "Name: Debito_autom, dtype: float64"
      ]
     },
     "execution_count": 13,
     "metadata": {},
     "output_type": "execute_result"
    }
   ],
   "source": [
    "seg_auto.Debito_autom.value_counts(normalize=True) * 100"
   ]
  },
  {
   "cell_type": "markdown",
   "metadata": {},
   "source": [
    "## Tabelas cruzadas com a variável resposta"
   ]
  },
  {
   "cell_type": "code",
   "execution_count": 17,
   "metadata": {},
   "outputs": [
    {
     "data": {
      "text/html": [
       "<div>\n",
       "<style scoped>\n",
       "    .dataframe tbody tr th:only-of-type {\n",
       "        vertical-align: middle;\n",
       "    }\n",
       "\n",
       "    .dataframe tbody tr th {\n",
       "        vertical-align: top;\n",
       "    }\n",
       "\n",
       "    .dataframe thead th {\n",
       "        text-align: right;\n",
       "    }\n",
       "</style>\n",
       "<table border=\"1\" class=\"dataframe\">\n",
       "  <thead>\n",
       "    <tr style=\"text-align: right;\">\n",
       "      <th>Nao_Renovou</th>\n",
       "      <th>0</th>\n",
       "      <th>1</th>\n",
       "    </tr>\n",
       "    <tr>\n",
       "      <th>Renda</th>\n",
       "      <th></th>\n",
       "      <th></th>\n",
       "    </tr>\n",
       "  </thead>\n",
       "  <tbody>\n",
       "    <tr>\n",
       "      <th>01_Ate R$ 2000</th>\n",
       "      <td>0.851485</td>\n",
       "      <td>0.148515</td>\n",
       "    </tr>\n",
       "    <tr>\n",
       "      <th>02_Entre R$ 2001 e R$ 5000</th>\n",
       "      <td>0.337349</td>\n",
       "      <td>0.662651</td>\n",
       "    </tr>\n",
       "    <tr>\n",
       "      <th>03_&gt;R$ 5000</th>\n",
       "      <td>0.277207</td>\n",
       "      <td>0.722793</td>\n",
       "    </tr>\n",
       "  </tbody>\n",
       "</table>\n",
       "</div>"
      ],
      "text/plain": [
       "Nao_Renovou                        0         1\n",
       "Renda                                         \n",
       "01_Ate R$ 2000              0.851485  0.148515\n",
       "02_Entre R$ 2001 e R$ 5000  0.337349  0.662651\n",
       "03_>R$ 5000                 0.277207  0.722793"
      ]
     },
     "execution_count": 17,
     "metadata": {},
     "output_type": "execute_result"
    }
   ],
   "source": [
    "Renda_tab = pd.crosstab(seg_auto[\"Renda\"],seg_auto[\"Nao_Renovou\"], normalize='index')\n",
    "Renda_tab"
   ]
  },
  {
   "cell_type": "code",
   "execution_count": 18,
   "metadata": {},
   "outputs": [
    {
     "data": {
      "text/html": [
       "<div>\n",
       "<style scoped>\n",
       "    .dataframe tbody tr th:only-of-type {\n",
       "        vertical-align: middle;\n",
       "    }\n",
       "\n",
       "    .dataframe tbody tr th {\n",
       "        vertical-align: top;\n",
       "    }\n",
       "\n",
       "    .dataframe thead th {\n",
       "        text-align: right;\n",
       "    }\n",
       "</style>\n",
       "<table border=\"1\" class=\"dataframe\">\n",
       "  <thead>\n",
       "    <tr style=\"text-align: right;\">\n",
       "      <th>Nao_Renovou</th>\n",
       "      <th>0</th>\n",
       "      <th>1</th>\n",
       "    </tr>\n",
       "    <tr>\n",
       "      <th>Reclamacoes</th>\n",
       "      <th></th>\n",
       "      <th></th>\n",
       "    </tr>\n",
       "  </thead>\n",
       "  <tbody>\n",
       "    <tr>\n",
       "      <th>01_Nenhuma</th>\n",
       "      <td>0.890909</td>\n",
       "      <td>0.109091</td>\n",
       "    </tr>\n",
       "    <tr>\n",
       "      <th>02_Ate 3</th>\n",
       "      <td>0.757576</td>\n",
       "      <td>0.242424</td>\n",
       "    </tr>\n",
       "    <tr>\n",
       "      <th>03_3 a 5</th>\n",
       "      <td>0.268293</td>\n",
       "      <td>0.731707</td>\n",
       "    </tr>\n",
       "    <tr>\n",
       "      <th>04_&gt;5</th>\n",
       "      <td>0.227848</td>\n",
       "      <td>0.772152</td>\n",
       "    </tr>\n",
       "  </tbody>\n",
       "</table>\n",
       "</div>"
      ],
      "text/plain": [
       "Nao_Renovou         0         1\n",
       "Reclamacoes                    \n",
       "01_Nenhuma   0.890909  0.109091\n",
       "02_Ate 3     0.757576  0.242424\n",
       "03_3 a 5     0.268293  0.731707\n",
       "04_>5        0.227848  0.772152"
      ]
     },
     "execution_count": 18,
     "metadata": {},
     "output_type": "execute_result"
    }
   ],
   "source": [
    "Reclamacoes_tab = pd.crosstab(seg_auto[\"Reclamacoes\"],seg_auto[\"Nao_Renovou\"],normalize='index')\n",
    "Reclamacoes_tab"
   ]
  },
  {
   "cell_type": "code",
   "execution_count": 19,
   "metadata": {},
   "outputs": [
    {
     "data": {
      "text/html": [
       "<div>\n",
       "<style scoped>\n",
       "    .dataframe tbody tr th:only-of-type {\n",
       "        vertical-align: middle;\n",
       "    }\n",
       "\n",
       "    .dataframe tbody tr th {\n",
       "        vertical-align: top;\n",
       "    }\n",
       "\n",
       "    .dataframe thead th {\n",
       "        text-align: right;\n",
       "    }\n",
       "</style>\n",
       "<table border=\"1\" class=\"dataframe\">\n",
       "  <thead>\n",
       "    <tr style=\"text-align: right;\">\n",
       "      <th>Nao_Renovou</th>\n",
       "      <th>0</th>\n",
       "      <th>1</th>\n",
       "    </tr>\n",
       "    <tr>\n",
       "      <th>Educacao</th>\n",
       "      <th></th>\n",
       "      <th></th>\n",
       "    </tr>\n",
       "  </thead>\n",
       "  <tbody>\n",
       "    <tr>\n",
       "      <th>01_Ensino Fundamental</th>\n",
       "      <td>0.755556</td>\n",
       "      <td>0.244444</td>\n",
       "    </tr>\n",
       "    <tr>\n",
       "      <th>02_Ensino Medio</th>\n",
       "      <td>0.797619</td>\n",
       "      <td>0.202381</td>\n",
       "    </tr>\n",
       "    <tr>\n",
       "      <th>03_Curso superior</th>\n",
       "      <td>0.327869</td>\n",
       "      <td>0.672131</td>\n",
       "    </tr>\n",
       "    <tr>\n",
       "      <th>04_Pos-graduacao</th>\n",
       "      <td>0.166282</td>\n",
       "      <td>0.833718</td>\n",
       "    </tr>\n",
       "  </tbody>\n",
       "</table>\n",
       "</div>"
      ],
      "text/plain": [
       "Nao_Renovou                   0         1\n",
       "Educacao                                 \n",
       "01_Ensino Fundamental  0.755556  0.244444\n",
       "02_Ensino Medio        0.797619  0.202381\n",
       "03_Curso superior      0.327869  0.672131\n",
       "04_Pos-graduacao       0.166282  0.833718"
      ]
     },
     "execution_count": 19,
     "metadata": {},
     "output_type": "execute_result"
    }
   ],
   "source": [
    "Educacao_tab = pd.crosstab(seg_auto[\"Educacao\"],seg_auto[\"Nao_Renovou\"],normalize='index')\n",
    "Educacao_tab"
   ]
  },
  {
   "cell_type": "markdown",
   "metadata": {},
   "source": [
    "## Fazer análise bidimensional:  Covariável x Resposta para as demais covariáveis"
   ]
  },
  {
   "cell_type": "code",
   "execution_count": 20,
   "metadata": {
    "scrolled": true
   },
   "outputs": [
    {
     "data": {
      "text/html": [
       "<div>\n",
       "<style scoped>\n",
       "    .dataframe tbody tr th:only-of-type {\n",
       "        vertical-align: middle;\n",
       "    }\n",
       "\n",
       "    .dataframe tbody tr th {\n",
       "        vertical-align: top;\n",
       "    }\n",
       "\n",
       "    .dataframe thead th {\n",
       "        text-align: right;\n",
       "    }\n",
       "</style>\n",
       "<table border=\"1\" class=\"dataframe\">\n",
       "  <thead>\n",
       "    <tr style=\"text-align: right;\">\n",
       "      <th>Nao_Renovou</th>\n",
       "      <th>0</th>\n",
       "      <th>1</th>\n",
       "    </tr>\n",
       "    <tr>\n",
       "      <th>Tempo_cliente</th>\n",
       "      <th></th>\n",
       "      <th></th>\n",
       "    </tr>\n",
       "  </thead>\n",
       "  <tbody>\n",
       "    <tr>\n",
       "      <th>01_Ate 1 ano</th>\n",
       "      <td>0.166446</td>\n",
       "      <td>0.833554</td>\n",
       "    </tr>\n",
       "    <tr>\n",
       "      <th>02_1 a 3 anos</th>\n",
       "      <td>0.529412</td>\n",
       "      <td>0.470588</td>\n",
       "    </tr>\n",
       "    <tr>\n",
       "      <th>03_&gt;3 anos</th>\n",
       "      <td>0.918605</td>\n",
       "      <td>0.081395</td>\n",
       "    </tr>\n",
       "  </tbody>\n",
       "</table>\n",
       "</div>"
      ],
      "text/plain": [
       "Nao_Renovou           0         1\n",
       "Tempo_cliente                    \n",
       "01_Ate 1 ano   0.166446  0.833554\n",
       "02_1 a 3 anos  0.529412  0.470588\n",
       "03_>3 anos     0.918605  0.081395"
      ]
     },
     "execution_count": 20,
     "metadata": {},
     "output_type": "execute_result"
    }
   ],
   "source": [
    "Tempo_cliente_tab = pd.crosstab(seg_auto[\"Tempo_cliente\"],seg_auto[\"Nao_Renovou\"],normalize='index')\n",
    "Tempo_cliente_tab"
   ]
  },
  {
   "cell_type": "markdown",
   "metadata": {},
   "source": [
    "A maioria dos clientes ainda não renovaram, pois não chegou no período de renovação"
   ]
  },
  {
   "cell_type": "code",
   "execution_count": 21,
   "metadata": {},
   "outputs": [
    {
     "data": {
      "text/html": [
       "<div>\n",
       "<style scoped>\n",
       "    .dataframe tbody tr th:only-of-type {\n",
       "        vertical-align: middle;\n",
       "    }\n",
       "\n",
       "    .dataframe tbody tr th {\n",
       "        vertical-align: top;\n",
       "    }\n",
       "\n",
       "    .dataframe thead th {\n",
       "        text-align: right;\n",
       "    }\n",
       "</style>\n",
       "<table border=\"1\" class=\"dataframe\">\n",
       "  <thead>\n",
       "    <tr style=\"text-align: right;\">\n",
       "      <th>Nao_Renovou</th>\n",
       "      <th>0</th>\n",
       "      <th>1</th>\n",
       "    </tr>\n",
       "    <tr>\n",
       "      <th>Tempo_cliente</th>\n",
       "      <th></th>\n",
       "      <th></th>\n",
       "    </tr>\n",
       "  </thead>\n",
       "  <tbody>\n",
       "    <tr>\n",
       "      <th>01_Ate 1 ano</th>\n",
       "      <td>0.166446</td>\n",
       "      <td>0.833554</td>\n",
       "    </tr>\n",
       "    <tr>\n",
       "      <th>02_1 a 3 anos</th>\n",
       "      <td>0.529412</td>\n",
       "      <td>0.470588</td>\n",
       "    </tr>\n",
       "    <tr>\n",
       "      <th>03_&gt;3 anos</th>\n",
       "      <td>0.918605</td>\n",
       "      <td>0.081395</td>\n",
       "    </tr>\n",
       "  </tbody>\n",
       "</table>\n",
       "</div>"
      ],
      "text/plain": [
       "Nao_Renovou           0         1\n",
       "Tempo_cliente                    \n",
       "01_Ate 1 ano   0.166446  0.833554\n",
       "02_1 a 3 anos  0.529412  0.470588\n",
       "03_>3 anos     0.918605  0.081395"
      ]
     },
     "execution_count": 21,
     "metadata": {},
     "output_type": "execute_result"
    }
   ],
   "source": [
    "Tempo_cliente_tab = pd.crosstab(seg_auto[\"Tempo_cliente\"],seg_auto[\"Nao_Renovou\"],normalize='index')\n",
    "Tempo_cliente_tab"
   ]
  },
  {
   "cell_type": "code",
   "execution_count": 22,
   "metadata": {},
   "outputs": [
    {
     "data": {
      "text/html": [
       "<div>\n",
       "<style scoped>\n",
       "    .dataframe tbody tr th:only-of-type {\n",
       "        vertical-align: middle;\n",
       "    }\n",
       "\n",
       "    .dataframe tbody tr th {\n",
       "        vertical-align: top;\n",
       "    }\n",
       "\n",
       "    .dataframe thead th {\n",
       "        text-align: right;\n",
       "    }\n",
       "</style>\n",
       "<table border=\"1\" class=\"dataframe\">\n",
       "  <thead>\n",
       "    <tr style=\"text-align: right;\">\n",
       "      <th>Nao_Renovou</th>\n",
       "      <th>0</th>\n",
       "      <th>1</th>\n",
       "    </tr>\n",
       "    <tr>\n",
       "      <th>Classe_idade</th>\n",
       "      <th></th>\n",
       "      <th></th>\n",
       "    </tr>\n",
       "  </thead>\n",
       "  <tbody>\n",
       "    <tr>\n",
       "      <th>01_Ate 25</th>\n",
       "      <td>0.608696</td>\n",
       "      <td>0.391304</td>\n",
       "    </tr>\n",
       "    <tr>\n",
       "      <th>02_26 a 35</th>\n",
       "      <td>0.785714</td>\n",
       "      <td>0.214286</td>\n",
       "    </tr>\n",
       "    <tr>\n",
       "      <th>03_36 a 55</th>\n",
       "      <td>0.421110</td>\n",
       "      <td>0.578890</td>\n",
       "    </tr>\n",
       "    <tr>\n",
       "      <th>04_&gt;55</th>\n",
       "      <td>0.206897</td>\n",
       "      <td>0.793103</td>\n",
       "    </tr>\n",
       "  </tbody>\n",
       "</table>\n",
       "</div>"
      ],
      "text/plain": [
       "Nao_Renovou          0         1\n",
       "Classe_idade                    \n",
       "01_Ate 25     0.608696  0.391304\n",
       "02_26 a 35    0.785714  0.214286\n",
       "03_36 a 55    0.421110  0.578890\n",
       "04_>55        0.206897  0.793103"
      ]
     },
     "execution_count": 22,
     "metadata": {},
     "output_type": "execute_result"
    }
   ],
   "source": [
    "Classe_idade_tab = pd.crosstab(seg_auto[\"Classe_idade\"],seg_auto[\"Nao_Renovou\"],normalize='index')\n",
    "Classe_idade_tab"
   ]
  },
  {
   "cell_type": "code",
   "execution_count": 23,
   "metadata": {},
   "outputs": [
    {
     "data": {
      "text/html": [
       "<div>\n",
       "<style scoped>\n",
       "    .dataframe tbody tr th:only-of-type {\n",
       "        vertical-align: middle;\n",
       "    }\n",
       "\n",
       "    .dataframe tbody tr th {\n",
       "        vertical-align: top;\n",
       "    }\n",
       "\n",
       "    .dataframe thead th {\n",
       "        text-align: right;\n",
       "    }\n",
       "</style>\n",
       "<table border=\"1\" class=\"dataframe\">\n",
       "  <thead>\n",
       "    <tr style=\"text-align: right;\">\n",
       "      <th>Nao_Renovou</th>\n",
       "      <th>0</th>\n",
       "      <th>1</th>\n",
       "    </tr>\n",
       "    <tr>\n",
       "      <th>Idade_carro</th>\n",
       "      <th></th>\n",
       "      <th></th>\n",
       "    </tr>\n",
       "  </thead>\n",
       "  <tbody>\n",
       "    <tr>\n",
       "      <th>01_Zero</th>\n",
       "      <td>0.341727</td>\n",
       "      <td>0.658273</td>\n",
       "    </tr>\n",
       "    <tr>\n",
       "      <th>02_1 a 3 anos</th>\n",
       "      <td>0.497642</td>\n",
       "      <td>0.502358</td>\n",
       "    </tr>\n",
       "    <tr>\n",
       "      <th>03_4 a 6 anos</th>\n",
       "      <td>0.601415</td>\n",
       "      <td>0.398585</td>\n",
       "    </tr>\n",
       "    <tr>\n",
       "      <th>04_7 a 9 anos</th>\n",
       "      <td>0.665865</td>\n",
       "      <td>0.334135</td>\n",
       "    </tr>\n",
       "    <tr>\n",
       "      <th>05_&gt;=10 anos</th>\n",
       "      <td>0.705882</td>\n",
       "      <td>0.294118</td>\n",
       "    </tr>\n",
       "  </tbody>\n",
       "</table>\n",
       "</div>"
      ],
      "text/plain": [
       "Nao_Renovou           0         1\n",
       "Idade_carro                      \n",
       "01_Zero        0.341727  0.658273\n",
       "02_1 a 3 anos  0.497642  0.502358\n",
       "03_4 a 6 anos  0.601415  0.398585\n",
       "04_7 a 9 anos  0.665865  0.334135\n",
       "05_>=10 anos   0.705882  0.294118"
      ]
     },
     "execution_count": 23,
     "metadata": {},
     "output_type": "execute_result"
    }
   ],
   "source": [
    "Idade_carro_tab = pd.crosstab(seg_auto[\"Idade_carro\"],seg_auto[\"Nao_Renovou\"],normalize='index')\n",
    "Idade_carro_tab"
   ]
  },
  {
   "cell_type": "code",
   "execution_count": 24,
   "metadata": {},
   "outputs": [
    {
     "data": {
      "text/html": [
       "<div>\n",
       "<style scoped>\n",
       "    .dataframe tbody tr th:only-of-type {\n",
       "        vertical-align: middle;\n",
       "    }\n",
       "\n",
       "    .dataframe tbody tr th {\n",
       "        vertical-align: top;\n",
       "    }\n",
       "\n",
       "    .dataframe thead th {\n",
       "        text-align: right;\n",
       "    }\n",
       "</style>\n",
       "<table border=\"1\" class=\"dataframe\">\n",
       "  <thead>\n",
       "    <tr style=\"text-align: right;\">\n",
       "      <th>Nao_Renovou</th>\n",
       "      <th>0</th>\n",
       "      <th>1</th>\n",
       "    </tr>\n",
       "    <tr>\n",
       "      <th>Debito_autom</th>\n",
       "      <th></th>\n",
       "      <th></th>\n",
       "    </tr>\n",
       "  </thead>\n",
       "  <tbody>\n",
       "    <tr>\n",
       "      <th>01_Nao</th>\n",
       "      <td>0.472396</td>\n",
       "      <td>0.527604</td>\n",
       "    </tr>\n",
       "    <tr>\n",
       "      <th>02_Sim</th>\n",
       "      <td>0.743169</td>\n",
       "      <td>0.256831</td>\n",
       "    </tr>\n",
       "  </tbody>\n",
       "</table>\n",
       "</div>"
      ],
      "text/plain": [
       "Nao_Renovou          0         1\n",
       "Debito_autom                    \n",
       "01_Nao        0.472396  0.527604\n",
       "02_Sim        0.743169  0.256831"
      ]
     },
     "execution_count": 24,
     "metadata": {},
     "output_type": "execute_result"
    }
   ],
   "source": [
    "Debito_autom_tab = pd.crosstab(seg_auto[\"Debito_autom\"],seg_auto[\"Nao_Renovou\"],normalize='index')\n",
    "Debito_autom_tab"
   ]
  },
  {
   "cell_type": "markdown",
   "metadata": {},
   "source": [
    "## Análise da relação entra as covariáveis - Estatística de Cramers'v "
   ]
  },
  {
   "cell_type": "code",
   "execution_count": 25,
   "metadata": {},
   "outputs": [],
   "source": [
    "from scipy.stats import chi2_contingency\n",
    "import numpy as np"
   ]
  },
  {
   "cell_type": "code",
   "execution_count": 58,
   "metadata": {},
   "outputs": [
    {
     "data": {
      "text/plain": [
       "array([[351, 306, 126, 126],\n",
       "       [ 81, 207, 351, 108],\n",
       "       [ 63,  81, 261,  82]], dtype=int64)"
      ]
     },
     "execution_count": 58,
     "metadata": {},
     "output_type": "execute_result"
    }
   ],
   "source": [
    "crosstab = np.array(pd.crosstab(seg_auto[\"Renda\"],seg_auto[\"Reclamacoes\"])) # Construção da tabela cruzada\n",
    "crosstab"
   ]
  },
  {
   "cell_type": "code",
   "execution_count": 59,
   "metadata": {},
   "outputs": [
    {
     "data": {
      "text/plain": [
       "398.04138817443106"
      ]
     },
     "execution_count": 59,
     "metadata": {},
     "output_type": "execute_result"
    }
   ],
   "source": [
    "stat = chi2_contingency(crosstab)[0] # Valor da estatística Qui-quadrado\n",
    "stat\n",
    "#Valores altos, Qui-quadrado representam que as variáveis tem algum tipo de dependencia"
   ]
  },
  {
   "cell_type": "code",
   "execution_count": 60,
   "metadata": {},
   "outputs": [
    {
     "data": {
      "text/plain": [
       "2143"
      ]
     },
     "execution_count": 60,
     "metadata": {},
     "output_type": "execute_result"
    }
   ],
   "source": [
    "n = np.sum(crosstab) # Numero de observações da tabela cruzada\n",
    "n"
   ]
  },
  {
   "cell_type": "code",
   "execution_count": 61,
   "metadata": {},
   "outputs": [
    {
     "data": {
      "text/plain": [
       "2"
      ]
     },
     "execution_count": 61,
     "metadata": {},
     "output_type": "execute_result"
    }
   ],
   "source": [
    "mini = min(crosstab.shape)-1 # Função \"min\" pega o valor mínimo entre linha e coluna da tabela cruzada\n",
    "mini"
   ]
  },
  {
   "cell_type": "code",
   "execution_count": 62,
   "metadata": {},
   "outputs": [
    {
     "data": {
      "text/plain": [
       "0.3047460132064015"
      ]
     },
     "execution_count": 62,
     "metadata": {},
     "output_type": "execute_result"
    }
   ],
   "source": [
    "CramerV =  np.sqrt(stat/(n*mini))\n",
    "CramerV"
   ]
  },
  {
   "cell_type": "markdown",
   "metadata": {},
   "source": [
    "### Calcular a estatística V de Cramer para Renda e Educacao"
   ]
  },
  {
   "cell_type": "code",
   "execution_count": 63,
   "metadata": {},
   "outputs": [
    {
     "data": {
      "text/plain": [
       "array([[216, 459, 144,  90],\n",
       "       [ 99, 225, 378,  45],\n",
       "       [ 90,  72,  27, 298]], dtype=int64)"
      ]
     },
     "execution_count": 63,
     "metadata": {},
     "output_type": "execute_result"
    }
   ],
   "source": [
    "crosstab = np.array(pd.crosstab(seg_auto[\"Renda\"],seg_auto[\"Educacao\"])) # Construção da tabela cruzada\n",
    "crosstab"
   ]
  },
  {
   "cell_type": "code",
   "execution_count": 64,
   "metadata": {},
   "outputs": [
    {
     "data": {
      "text/plain": [
       "966.8280342433225"
      ]
     },
     "execution_count": 64,
     "metadata": {},
     "output_type": "execute_result"
    }
   ],
   "source": [
    "stat = chi2_contingency(crosstab)[0] # Valor da estatística Qui-quadrado\n",
    "stat\n",
    "#Valores altos, Qui-quadrado representam que as variáveis tem algum tipo de dependencia"
   ]
  },
  {
   "cell_type": "code",
   "execution_count": 65,
   "metadata": {},
   "outputs": [
    {
     "data": {
      "text/plain": [
       "2143"
      ]
     },
     "execution_count": 65,
     "metadata": {},
     "output_type": "execute_result"
    }
   ],
   "source": [
    "n = np.sum(crosstab) # Numero de observações da tabela cruzada\n",
    "n"
   ]
  },
  {
   "cell_type": "code",
   "execution_count": 66,
   "metadata": {},
   "outputs": [
    {
     "data": {
      "text/plain": [
       "2"
      ]
     },
     "execution_count": 66,
     "metadata": {},
     "output_type": "execute_result"
    }
   ],
   "source": [
    "mini = min(crosstab.shape)-1 # Função \"min\" pega o valor mínimo entre linha e coluna da tabela cruzada\n",
    "mini"
   ]
  },
  {
   "cell_type": "code",
   "execution_count": 67,
   "metadata": {},
   "outputs": [
    {
     "data": {
      "text/plain": [
       "0.47495070212126106"
      ]
     },
     "execution_count": 67,
     "metadata": {},
     "output_type": "execute_result"
    }
   ],
   "source": [
    "CramerV =  np.sqrt(stat/(n*mini))\n",
    "CramerV"
   ]
  },
  {
   "cell_type": "markdown",
   "metadata": {},
   "source": [
    "# Modelo de Regressão Logística"
   ]
  },
  {
   "cell_type": "code",
   "execution_count": 68,
   "metadata": {},
   "outputs": [],
   "source": [
    "import statsmodels.api as sm"
   ]
  },
  {
   "cell_type": "code",
   "execution_count": 69,
   "metadata": {},
   "outputs": [],
   "source": [
    "model = sm.GLM.from_formula(\"Nao_Renovou ~ Renda + Reclamacoes + Educacao + Tempo_cliente + Classe_idade + Idade_carro + Debito_autom\", \n",
    "                            family = sm.families.Binomial(), data=seg_auto)"
   ]
  },
  {
   "cell_type": "code",
   "execution_count": 33,
   "metadata": {},
   "outputs": [
    {
     "data": {
      "text/html": [
       "<table class=\"simpletable\">\n",
       "<caption>Generalized Linear Model Regression Results</caption>\n",
       "<tr>\n",
       "  <th>Dep. Variable:</th>      <td>Nao_Renovou</td>   <th>  No. Observations:  </th>  <td>  2143</td> \n",
       "</tr>\n",
       "<tr>\n",
       "  <th>Model:</th>                  <td>GLM</td>       <th>  Df Residuals:      </th>  <td>  2124</td> \n",
       "</tr>\n",
       "<tr>\n",
       "  <th>Model Family:</th>        <td>Binomial</td>     <th>  Df Model:          </th>  <td>    18</td> \n",
       "</tr>\n",
       "<tr>\n",
       "  <th>Link Function:</th>         <td>logit</td>      <th>  Scale:             </th> <td>  1.0000</td>\n",
       "</tr>\n",
       "<tr>\n",
       "  <th>Method:</th>                <td>IRLS</td>       <th>  Log-Likelihood:    </th> <td> -313.42</td>\n",
       "</tr>\n",
       "<tr>\n",
       "  <th>Date:</th>            <td>Wed, 20 Jan 2021</td> <th>  Deviance:          </th> <td>  626.85</td>\n",
       "</tr>\n",
       "<tr>\n",
       "  <th>Time:</th>                <td>20:46:57</td>     <th>  Pearson chi2:      </th>  <td>  838.</td> \n",
       "</tr>\n",
       "<tr>\n",
       "  <th>No. Iterations:</th>          <td>9</td>        <th>                     </th>     <td> </td>   \n",
       "</tr>\n",
       "<tr>\n",
       "  <th>Covariance Type:</th>     <td>nonrobust</td>    <th>                     </th>     <td> </td>   \n",
       "</tr>\n",
       "</table>\n",
       "<table class=\"simpletable\">\n",
       "<tr>\n",
       "                   <td></td>                      <th>coef</th>     <th>std err</th>      <th>z</th>      <th>P>|z|</th>  <th>[0.025</th>    <th>0.975]</th>  \n",
       "</tr>\n",
       "<tr>\n",
       "  <th>Intercept</th>                           <td>   -6.2330</td> <td>    0.934</td> <td>   -6.672</td> <td> 0.000</td> <td>   -8.064</td> <td>   -4.402</td>\n",
       "</tr>\n",
       "<tr>\n",
       "  <th>Renda[T.02_Entre R$ 2001 e R$ 5000]</th> <td>    2.8393</td> <td>    0.333</td> <td>    8.520</td> <td> 0.000</td> <td>    2.186</td> <td>    3.493</td>\n",
       "</tr>\n",
       "<tr>\n",
       "  <th>Renda[T.03_>R$ 5000]</th>                <td>    2.8682</td> <td>    0.427</td> <td>    6.709</td> <td> 0.000</td> <td>    2.030</td> <td>    3.706</td>\n",
       "</tr>\n",
       "<tr>\n",
       "  <th>Reclamacoes[T.02_Ate 3]</th>             <td>    3.3185</td> <td>    0.548</td> <td>    6.051</td> <td> 0.000</td> <td>    2.244</td> <td>    4.393</td>\n",
       "</tr>\n",
       "<tr>\n",
       "  <th>Reclamacoes[T.03_3 a 5]</th>             <td>    7.8430</td> <td>    0.679</td> <td>   11.546</td> <td> 0.000</td> <td>    6.512</td> <td>    9.174</td>\n",
       "</tr>\n",
       "<tr>\n",
       "  <th>Reclamacoes[T.04_>5]</th>                <td>    8.2638</td> <td>    0.780</td> <td>   10.591</td> <td> 0.000</td> <td>    6.734</td> <td>    9.793</td>\n",
       "</tr>\n",
       "<tr>\n",
       "  <th>Educacao[T.02_Ensino Medio]</th>         <td>   -0.7381</td> <td>    0.406</td> <td>   -1.818</td> <td> 0.069</td> <td>   -1.534</td> <td>    0.058</td>\n",
       "</tr>\n",
       "<tr>\n",
       "  <th>Educacao[T.03_Curso superior]</th>       <td>    3.0278</td> <td>    0.494</td> <td>    6.132</td> <td> 0.000</td> <td>    2.060</td> <td>    3.996</td>\n",
       "</tr>\n",
       "<tr>\n",
       "  <th>Educacao[T.04_Pos-graduacao]</th>        <td>    3.1661</td> <td>    0.513</td> <td>    6.166</td> <td> 0.000</td> <td>    2.160</td> <td>    4.172</td>\n",
       "</tr>\n",
       "<tr>\n",
       "  <th>Tempo_cliente[T.02_1 a 3 anos]</th>      <td>   -2.4161</td> <td>    0.341</td> <td>   -7.091</td> <td> 0.000</td> <td>   -3.084</td> <td>   -1.748</td>\n",
       "</tr>\n",
       "<tr>\n",
       "  <th>Tempo_cliente[T.03_>3 anos]</th>         <td>   -5.5590</td> <td>    0.413</td> <td>  -13.459</td> <td> 0.000</td> <td>   -6.369</td> <td>   -4.749</td>\n",
       "</tr>\n",
       "<tr>\n",
       "  <th>Classe_idade[T.02_26 a 35]</th>          <td>   -1.1821</td> <td>    0.725</td> <td>   -1.630</td> <td> 0.103</td> <td>   -2.603</td> <td>    0.239</td>\n",
       "</tr>\n",
       "<tr>\n",
       "  <th>Classe_idade[T.03_36 a 55]</th>          <td>    1.8034</td> <td>    0.663</td> <td>    2.719</td> <td> 0.007</td> <td>    0.503</td> <td>    3.103</td>\n",
       "</tr>\n",
       "<tr>\n",
       "  <th>Classe_idade[T.04_>55]</th>              <td>    2.9121</td> <td>    0.641</td> <td>    4.540</td> <td> 0.000</td> <td>    1.655</td> <td>    4.169</td>\n",
       "</tr>\n",
       "<tr>\n",
       "  <th>Idade_carro[T.02_1 a 3 anos]</th>        <td>   -0.1822</td> <td>    0.303</td> <td>   -0.601</td> <td> 0.548</td> <td>   -0.776</td> <td>    0.412</td>\n",
       "</tr>\n",
       "<tr>\n",
       "  <th>Idade_carro[T.03_4 a 6 anos]</th>        <td>   -0.9793</td> <td>    0.306</td> <td>   -3.196</td> <td> 0.001</td> <td>   -1.580</td> <td>   -0.379</td>\n",
       "</tr>\n",
       "<tr>\n",
       "  <th>Idade_carro[T.04_7 a 9 anos]</th>        <td>   -1.2720</td> <td>    0.308</td> <td>   -4.134</td> <td> 0.000</td> <td>   -1.875</td> <td>   -0.669</td>\n",
       "</tr>\n",
       "<tr>\n",
       "  <th>Idade_carro[T.05_>=10 anos]</th>         <td>   -1.6919</td> <td>    0.348</td> <td>   -4.858</td> <td> 0.000</td> <td>   -2.375</td> <td>   -1.009</td>\n",
       "</tr>\n",
       "<tr>\n",
       "  <th>Debito_autom[T.02_Sim]</th>              <td>   -1.4137</td> <td>    0.251</td> <td>   -5.623</td> <td> 0.000</td> <td>   -1.906</td> <td>   -0.921</td>\n",
       "</tr>\n",
       "</table>"
      ],
      "text/plain": [
       "<class 'statsmodels.iolib.summary.Summary'>\n",
       "\"\"\"\n",
       "                 Generalized Linear Model Regression Results                  \n",
       "==============================================================================\n",
       "Dep. Variable:            Nao_Renovou   No. Observations:                 2143\n",
       "Model:                            GLM   Df Residuals:                     2124\n",
       "Model Family:                Binomial   Df Model:                           18\n",
       "Link Function:                  logit   Scale:                          1.0000\n",
       "Method:                          IRLS   Log-Likelihood:                -313.42\n",
       "Date:                Wed, 20 Jan 2021   Deviance:                       626.85\n",
       "Time:                        20:46:57   Pearson chi2:                     838.\n",
       "No. Iterations:                     9                                         \n",
       "Covariance Type:            nonrobust                                         \n",
       "=======================================================================================================\n",
       "                                          coef    std err          z      P>|z|      [0.025      0.975]\n",
       "-------------------------------------------------------------------------------------------------------\n",
       "Intercept                              -6.2330      0.934     -6.672      0.000      -8.064      -4.402\n",
       "Renda[T.02_Entre R$ 2001 e R$ 5000]     2.8393      0.333      8.520      0.000       2.186       3.493\n",
       "Renda[T.03_>R$ 5000]                    2.8682      0.427      6.709      0.000       2.030       3.706\n",
       "Reclamacoes[T.02_Ate 3]                 3.3185      0.548      6.051      0.000       2.244       4.393\n",
       "Reclamacoes[T.03_3 a 5]                 7.8430      0.679     11.546      0.000       6.512       9.174\n",
       "Reclamacoes[T.04_>5]                    8.2638      0.780     10.591      0.000       6.734       9.793\n",
       "Educacao[T.02_Ensino Medio]            -0.7381      0.406     -1.818      0.069      -1.534       0.058\n",
       "Educacao[T.03_Curso superior]           3.0278      0.494      6.132      0.000       2.060       3.996\n",
       "Educacao[T.04_Pos-graduacao]            3.1661      0.513      6.166      0.000       2.160       4.172\n",
       "Tempo_cliente[T.02_1 a 3 anos]         -2.4161      0.341     -7.091      0.000      -3.084      -1.748\n",
       "Tempo_cliente[T.03_>3 anos]            -5.5590      0.413    -13.459      0.000      -6.369      -4.749\n",
       "Classe_idade[T.02_26 a 35]             -1.1821      0.725     -1.630      0.103      -2.603       0.239\n",
       "Classe_idade[T.03_36 a 55]              1.8034      0.663      2.719      0.007       0.503       3.103\n",
       "Classe_idade[T.04_>55]                  2.9121      0.641      4.540      0.000       1.655       4.169\n",
       "Idade_carro[T.02_1 a 3 anos]           -0.1822      0.303     -0.601      0.548      -0.776       0.412\n",
       "Idade_carro[T.03_4 a 6 anos]           -0.9793      0.306     -3.196      0.001      -1.580      -0.379\n",
       "Idade_carro[T.04_7 a 9 anos]           -1.2720      0.308     -4.134      0.000      -1.875      -0.669\n",
       "Idade_carro[T.05_>=10 anos]            -1.6919      0.348     -4.858      0.000      -2.375      -1.009\n",
       "Debito_autom[T.02_Sim]                 -1.4137      0.251     -5.623      0.000      -1.906      -0.921\n",
       "=======================================================================================================\n",
       "\"\"\""
      ]
     },
     "execution_count": 33,
     "metadata": {},
     "output_type": "execute_result"
    }
   ],
   "source": [
    "result = model.fit()\n",
    "result.summary()"
   ]
  },
  {
   "attachments": {
    "image.png": {
     "image/png": "[encoded data removed]"
    }
   },
   "cell_type": "markdown",
   "metadata": {},
   "source": [
    "O que devemos olhar:\n",
    "\n",
    "Se adotar 5% a variavel Idade_Carro sairia\n",
    "\n",
    "![image.png](attachment:image.png)"
   ]
  },
  {
   "cell_type": "code",
   "execution_count": 70,
   "metadata": {},
   "outputs": [],
   "source": [
    "# Salvando a probabilidade predita\n",
    "seg_auto['prob'] = result.fittedvalues"
   ]
  },
  {
   "cell_type": "code",
   "execution_count": 78,
   "metadata": {},
   "outputs": [
    {
     "data": {
      "text/html": [
       "<div>\n",
       "<style scoped>\n",
       "    .dataframe tbody tr th:only-of-type {\n",
       "        vertical-align: middle;\n",
       "    }\n",
       "\n",
       "    .dataframe tbody tr th {\n",
       "        vertical-align: top;\n",
       "    }\n",
       "\n",
       "    .dataframe thead th {\n",
       "        text-align: right;\n",
       "    }\n",
       "</style>\n",
       "<table border=\"1\" class=\"dataframe\">\n",
       "  <thead>\n",
       "    <tr style=\"text-align: right;\">\n",
       "      <th></th>\n",
       "      <th>Nao_Renovou</th>\n",
       "      <th>Renda</th>\n",
       "      <th>Reclamacoes</th>\n",
       "      <th>Educacao</th>\n",
       "      <th>Tempo_cliente</th>\n",
       "      <th>Classe_idade</th>\n",
       "      <th>Idade_carro</th>\n",
       "      <th>Debito_autom</th>\n",
       "      <th>prob</th>\n",
       "      <th>propenso</th>\n",
       "    </tr>\n",
       "  </thead>\n",
       "  <tbody>\n",
       "    <tr>\n",
       "      <th>0</th>\n",
       "      <td>1</td>\n",
       "      <td>03_&gt;R$ 5000</td>\n",
       "      <td>04_&gt;5</td>\n",
       "      <td>04_Pos-graduacao</td>\n",
       "      <td>01_Ate 1 ano</td>\n",
       "      <td>03_36 a 55</td>\n",
       "      <td>02_1 a 3 anos</td>\n",
       "      <td>01_Nao</td>\n",
       "      <td>0.999938</td>\n",
       "      <td>1</td>\n",
       "    </tr>\n",
       "    <tr>\n",
       "      <th>1</th>\n",
       "      <td>1</td>\n",
       "      <td>03_&gt;R$ 5000</td>\n",
       "      <td>04_&gt;5</td>\n",
       "      <td>04_Pos-graduacao</td>\n",
       "      <td>01_Ate 1 ano</td>\n",
       "      <td>03_36 a 55</td>\n",
       "      <td>02_1 a 3 anos</td>\n",
       "      <td>01_Nao</td>\n",
       "      <td>0.999938</td>\n",
       "      <td>1</td>\n",
       "    </tr>\n",
       "    <tr>\n",
       "      <th>2</th>\n",
       "      <td>1</td>\n",
       "      <td>03_&gt;R$ 5000</td>\n",
       "      <td>03_3 a 5</td>\n",
       "      <td>04_Pos-graduacao</td>\n",
       "      <td>01_Ate 1 ano</td>\n",
       "      <td>02_26 a 35</td>\n",
       "      <td>01_Zero</td>\n",
       "      <td>01_Nao</td>\n",
       "      <td>0.998441</td>\n",
       "      <td>1</td>\n",
       "    </tr>\n",
       "    <tr>\n",
       "      <th>3</th>\n",
       "      <td>1</td>\n",
       "      <td>03_&gt;R$ 5000</td>\n",
       "      <td>03_3 a 5</td>\n",
       "      <td>04_Pos-graduacao</td>\n",
       "      <td>01_Ate 1 ano</td>\n",
       "      <td>04_&gt;55</td>\n",
       "      <td>02_1 a 3 anos</td>\n",
       "      <td>01_Nao</td>\n",
       "      <td>0.999969</td>\n",
       "      <td>1</td>\n",
       "    </tr>\n",
       "    <tr>\n",
       "      <th>4</th>\n",
       "      <td>1</td>\n",
       "      <td>02_Entre R$ 2001 e R$ 5000</td>\n",
       "      <td>04_&gt;5</td>\n",
       "      <td>03_Curso superior</td>\n",
       "      <td>02_1 a 3 anos</td>\n",
       "      <td>03_36 a 55</td>\n",
       "      <td>04_7 a 9 anos</td>\n",
       "      <td>01_Nao</td>\n",
       "      <td>0.997560</td>\n",
       "      <td>1</td>\n",
       "    </tr>\n",
       "  </tbody>\n",
       "</table>\n",
       "</div>"
      ],
      "text/plain": [
       "   Nao_Renovou                       Renda Reclamacoes           Educacao  \\\n",
       "0            1                 03_>R$ 5000       04_>5   04_Pos-graduacao   \n",
       "1            1                 03_>R$ 5000       04_>5   04_Pos-graduacao   \n",
       "2            1                 03_>R$ 5000    03_3 a 5   04_Pos-graduacao   \n",
       "3            1                 03_>R$ 5000    03_3 a 5   04_Pos-graduacao   \n",
       "4            1  02_Entre R$ 2001 e R$ 5000       04_>5  03_Curso superior   \n",
       "\n",
       "   Tempo_cliente Classe_idade    Idade_carro Debito_autom      prob  propenso  \n",
       "0   01_Ate 1 ano   03_36 a 55  02_1 a 3 anos       01_Nao  0.999938         1  \n",
       "1   01_Ate 1 ano   03_36 a 55  02_1 a 3 anos       01_Nao  0.999938         1  \n",
       "2   01_Ate 1 ano   02_26 a 35        01_Zero       01_Nao  0.998441         1  \n",
       "3   01_Ate 1 ano       04_>55  02_1 a 3 anos       01_Nao  0.999969         1  \n",
       "4  02_1 a 3 anos   03_36 a 55  04_7 a 9 anos       01_Nao  0.997560         1  "
      ]
     },
     "execution_count": 78,
     "metadata": {},
     "output_type": "execute_result"
    }
   ],
   "source": [
    "seg_auto.head(5)"
   ]
  },
  {
   "cell_type": "code",
   "execution_count": 71,
   "metadata": {},
   "outputs": [],
   "source": [
    "# Marcando os propensos - Usa ponto de corte da média da base\n",
    "seg_auto['propenso'] = np.where(seg_auto['prob'] >= seg_auto['Nao_Renovou'].mean(), 1, 0)"
   ]
  },
  {
   "cell_type": "code",
   "execution_count": 72,
   "metadata": {},
   "outputs": [
    {
     "data": {
      "text/html": [
       "<div>\n",
       "<style scoped>\n",
       "    .dataframe tbody tr th:only-of-type {\n",
       "        vertical-align: middle;\n",
       "    }\n",
       "\n",
       "    .dataframe tbody tr th {\n",
       "        vertical-align: top;\n",
       "    }\n",
       "\n",
       "    .dataframe thead th {\n",
       "        text-align: right;\n",
       "    }\n",
       "</style>\n",
       "<table border=\"1\" class=\"dataframe\">\n",
       "  <thead>\n",
       "    <tr style=\"text-align: right;\">\n",
       "      <th>propenso</th>\n",
       "      <th>0</th>\n",
       "      <th>1</th>\n",
       "    </tr>\n",
       "    <tr>\n",
       "      <th>Nao_Renovou</th>\n",
       "      <th></th>\n",
       "      <th></th>\n",
       "    </tr>\n",
       "  </thead>\n",
       "  <tbody>\n",
       "    <tr>\n",
       "      <th>0</th>\n",
       "      <td>1081</td>\n",
       "      <td>80</td>\n",
       "    </tr>\n",
       "    <tr>\n",
       "      <th>1</th>\n",
       "      <td>52</td>\n",
       "      <td>930</td>\n",
       "    </tr>\n",
       "  </tbody>\n",
       "</table>\n",
       "</div>"
      ],
      "text/plain": [
       "propenso        0    1\n",
       "Nao_Renovou           \n",
       "0            1081   80\n",
       "1              52  930"
      ]
     },
     "execution_count": 72,
     "metadata": {},
     "output_type": "execute_result"
    }
   ],
   "source": [
    "tabela_desempenho = pd.crosstab(seg_auto['Nao_Renovou'], seg_auto['propenso'])\n",
    "tabela_desempenho"
   ]
  },
  {
   "cell_type": "code",
   "execution_count": 73,
   "metadata": {},
   "outputs": [
    {
     "data": {
      "text/plain": [
       "0.9384041063929072"
      ]
     },
     "execution_count": 73,
     "metadata": {},
     "output_type": "execute_result"
    }
   ],
   "source": [
    "acuracia = (tabela_desempenho[0][0] + tabela_desempenho[1][1])/tabela_desempenho.sum().sum()\n",
    "acuracia"
   ]
  },
  {
   "cell_type": "code",
   "execution_count": 74,
   "metadata": {},
   "outputs": [
    {
     "data": {
      "text/plain": [
       "propenso\n",
       "0    1133\n",
       "1    1010\n",
       "dtype: int64"
      ]
     },
     "execution_count": 74,
     "metadata": {},
     "output_type": "execute_result"
    }
   ],
   "source": [
    "# Entendendo a função .sum()\n",
    "tabela_desempenho.sum()"
   ]
  },
  {
   "cell_type": "code",
   "execution_count": 75,
   "metadata": {},
   "outputs": [
    {
     "data": {
      "text/plain": [
       "2143"
      ]
     },
     "execution_count": 75,
     "metadata": {},
     "output_type": "execute_result"
    }
   ],
   "source": [
    "# Entendendo a função .sum().sum()\n",
    "tabela_desempenho.sum().sum()"
   ]
  },
  {
   "cell_type": "code",
   "execution_count": 76,
   "metadata": {},
   "outputs": [
    {
     "data": {
      "text/plain": [
       "0.9470468431771895"
      ]
     },
     "execution_count": 76,
     "metadata": {},
     "output_type": "execute_result"
    }
   ],
   "source": [
    "sensibilidade = (tabela_desempenho[1][1])/(tabela_desempenho[1][1] + tabela_desempenho[0][1])\n",
    "sensibilidade"
   ]
  },
  {
   "cell_type": "code",
   "execution_count": 77,
   "metadata": {},
   "outputs": [
    {
     "data": {
      "text/plain": [
       "0.9310938845822567"
      ]
     },
     "execution_count": 77,
     "metadata": {},
     "output_type": "execute_result"
    }
   ],
   "source": [
    "especificidade = (tabela_desempenho[0][0])/(tabela_desempenho[0][0] + tabela_desempenho[1][0])\n",
    "especificidade"
   ]
  },
  {
   "cell_type": "markdown",
   "metadata": {},
   "source": [
    "## Área abaixo da curva ROC"
   ]
  },
  {
   "cell_type": "code",
   "execution_count": 42,
   "metadata": {},
   "outputs": [],
   "source": [
    "import numpy as np\n",
    "from sklearn.metrics import roc_auc_score"
   ]
  },
  {
   "cell_type": "code",
   "execution_count": 43,
   "metadata": {},
   "outputs": [
    {
     "data": {
      "text/plain": [
       "0.986926169763758"
      ]
     },
     "execution_count": 43,
     "metadata": {},
     "output_type": "execute_result"
    }
   ],
   "source": [
    "roc_auc_score(seg_auto['Nao_Renovou'], seg_auto['prob'])"
   ]
  },
  {
   "cell_type": "markdown",
   "metadata": {},
   "source": [
    "#### Realizar o processo de redução até que todos o parâmetros fiquem significantes ao nível 5% e avaliar o ajuste do modelo"
   ]
  },
  {
   "cell_type": "code",
   "execution_count": 122,
   "metadata": {},
   "outputs": [],
   "source": [
    "model = sm.GLM.from_formula(\"Nao_Renovou ~ Renda + Reclamacoes + Tempo_cliente  + Debito_autom\", \n",
    "                            family = sm.families.Binomial(), data=seg_auto)"
   ]
  },
  {
   "cell_type": "code",
   "execution_count": 123,
   "metadata": {},
   "outputs": [
    {
     "data": {
      "text/html": [
       "<table class=\"simpletable\">\n",
       "<caption>Generalized Linear Model Regression Results</caption>\n",
       "<tr>\n",
       "  <th>Dep. Variable:</th>      <td>Nao_Renovou</td>   <th>  No. Observations:  </th>  <td>  2143</td> \n",
       "</tr>\n",
       "<tr>\n",
       "  <th>Model:</th>                  <td>GLM</td>       <th>  Df Residuals:      </th>  <td>  2134</td> \n",
       "</tr>\n",
       "<tr>\n",
       "  <th>Model Family:</th>        <td>Binomial</td>     <th>  Df Model:          </th>  <td>     8</td> \n",
       "</tr>\n",
       "<tr>\n",
       "  <th>Link Function:</th>         <td>logit</td>      <th>  Scale:             </th> <td>  1.0000</td>\n",
       "</tr>\n",
       "<tr>\n",
       "  <th>Method:</th>                <td>IRLS</td>       <th>  Log-Likelihood:    </th> <td> -515.81</td>\n",
       "</tr>\n",
       "<tr>\n",
       "  <th>Date:</th>            <td>Wed, 20 Jan 2021</td> <th>  Deviance:          </th> <td>  1031.6</td>\n",
       "</tr>\n",
       "<tr>\n",
       "  <th>Time:</th>                <td>22:11:06</td>     <th>  Pearson chi2:      </th> <td>1.12e+03</td>\n",
       "</tr>\n",
       "<tr>\n",
       "  <th>No. Iterations:</th>          <td>7</td>        <th>                     </th>     <td> </td>   \n",
       "</tr>\n",
       "<tr>\n",
       "  <th>Covariance Type:</th>     <td>nonrobust</td>    <th>                     </th>     <td> </td>   \n",
       "</tr>\n",
       "</table>\n",
       "<table class=\"simpletable\">\n",
       "<tr>\n",
       "                   <td></td>                      <th>coef</th>     <th>std err</th>      <th>z</th>      <th>P>|z|</th>  <th>[0.025</th>    <th>0.975]</th>  \n",
       "</tr>\n",
       "<tr>\n",
       "  <th>Intercept</th>                           <td>   -2.0555</td> <td>    0.279</td> <td>   -7.380</td> <td> 0.000</td> <td>   -2.601</td> <td>   -1.510</td>\n",
       "</tr>\n",
       "<tr>\n",
       "  <th>Renda[T.02_Entre R$ 2001 e R$ 5000]</th> <td>    2.9007</td> <td>    0.230</td> <td>   12.607</td> <td> 0.000</td> <td>    2.450</td> <td>    3.352</td>\n",
       "</tr>\n",
       "<tr>\n",
       "  <th>Renda[T.03_>R$ 5000]</th>                <td>    2.3114</td> <td>    0.243</td> <td>    9.516</td> <td> 0.000</td> <td>    1.835</td> <td>    2.787</td>\n",
       "</tr>\n",
       "<tr>\n",
       "  <th>Reclamacoes[T.02_Ate 3]</th>             <td>    1.3071</td> <td>    0.266</td> <td>    4.916</td> <td> 0.000</td> <td>    0.786</td> <td>    1.828</td>\n",
       "</tr>\n",
       "<tr>\n",
       "  <th>Reclamacoes[T.03_3 a 5]</th>             <td>    4.0565</td> <td>    0.294</td> <td>   13.819</td> <td> 0.000</td> <td>    3.481</td> <td>    4.632</td>\n",
       "</tr>\n",
       "<tr>\n",
       "  <th>Reclamacoes[T.04_>5]</th>                <td>    4.8162</td> <td>    0.338</td> <td>   14.270</td> <td> 0.000</td> <td>    4.155</td> <td>    5.478</td>\n",
       "</tr>\n",
       "<tr>\n",
       "  <th>Tempo_cliente[T.02_1 a 3 anos]</th>      <td>   -2.4490</td> <td>    0.216</td> <td>  -11.327</td> <td> 0.000</td> <td>   -2.873</td> <td>   -2.025</td>\n",
       "</tr>\n",
       "<tr>\n",
       "  <th>Tempo_cliente[T.03_>3 anos]</th>         <td>   -5.1432</td> <td>    0.270</td> <td>  -19.035</td> <td> 0.000</td> <td>   -5.673</td> <td>   -4.614</td>\n",
       "</tr>\n",
       "<tr>\n",
       "  <th>Debito_autom[T.02_Sim]</th>              <td>   -1.5727</td> <td>    0.191</td> <td>   -8.247</td> <td> 0.000</td> <td>   -1.947</td> <td>   -1.199</td>\n",
       "</tr>\n",
       "</table>"
      ],
      "text/plain": [
       "<class 'statsmodels.iolib.summary.Summary'>\n",
       "\"\"\"\n",
       "                 Generalized Linear Model Regression Results                  \n",
       "==============================================================================\n",
       "Dep. Variable:            Nao_Renovou   No. Observations:                 2143\n",
       "Model:                            GLM   Df Residuals:                     2134\n",
       "Model Family:                Binomial   Df Model:                            8\n",
       "Link Function:                  logit   Scale:                          1.0000\n",
       "Method:                          IRLS   Log-Likelihood:                -515.81\n",
       "Date:                Wed, 20 Jan 2021   Deviance:                       1031.6\n",
       "Time:                        22:11:06   Pearson chi2:                 1.12e+03\n",
       "No. Iterations:                     7                                         \n",
       "Covariance Type:            nonrobust                                         \n",
       "=======================================================================================================\n",
       "                                          coef    std err          z      P>|z|      [0.025      0.975]\n",
       "-------------------------------------------------------------------------------------------------------\n",
       "Intercept                              -2.0555      0.279     -7.380      0.000      -2.601      -1.510\n",
       "Renda[T.02_Entre R$ 2001 e R$ 5000]     2.9007      0.230     12.607      0.000       2.450       3.352\n",
       "Renda[T.03_>R$ 5000]                    2.3114      0.243      9.516      0.000       1.835       2.787\n",
       "Reclamacoes[T.02_Ate 3]                 1.3071      0.266      4.916      0.000       0.786       1.828\n",
       "Reclamacoes[T.03_3 a 5]                 4.0565      0.294     13.819      0.000       3.481       4.632\n",
       "Reclamacoes[T.04_>5]                    4.8162      0.338     14.270      0.000       4.155       5.478\n",
       "Tempo_cliente[T.02_1 a 3 anos]         -2.4490      0.216    -11.327      0.000      -2.873      -2.025\n",
       "Tempo_cliente[T.03_>3 anos]            -5.1432      0.270    -19.035      0.000      -5.673      -4.614\n",
       "Debito_autom[T.02_Sim]                 -1.5727      0.191     -8.247      0.000      -1.947      -1.199\n",
       "=======================================================================================================\n",
       "\"\"\""
      ]
     },
     "execution_count": 123,
     "metadata": {},
     "output_type": "execute_result"
    }
   ],
   "source": [
    "result = model.fit()\n",
    "result.summary()"
   ]
  },
  {
   "cell_type": "code",
   "execution_count": 130,
   "metadata": {},
   "outputs": [],
   "source": [
    "# Salvando a probabilidade predita\n",
    "seg_auto['prob'] = result.fittedvalues"
   ]
  },
  {
   "cell_type": "code",
   "execution_count": 131,
   "metadata": {},
   "outputs": [],
   "source": [
    "# Marcando os propensos - Usa ponto de corte da média da base\n",
    "seg_auto['propenso'] = np.where(seg_auto['prob'] >= seg_auto['Nao_Renovou'].mean(), 1, 0)"
   ]
  },
  {
   "cell_type": "code",
   "execution_count": 136,
   "metadata": {},
   "outputs": [
    {
     "data": {
      "text/html": [
       "<div>\n",
       "<style scoped>\n",
       "    .dataframe tbody tr th:only-of-type {\n",
       "        vertical-align: middle;\n",
       "    }\n",
       "\n",
       "    .dataframe tbody tr th {\n",
       "        vertical-align: top;\n",
       "    }\n",
       "\n",
       "    .dataframe thead th {\n",
       "        text-align: right;\n",
       "    }\n",
       "</style>\n",
       "<table border=\"1\" class=\"dataframe\">\n",
       "  <thead>\n",
       "    <tr style=\"text-align: right;\">\n",
       "      <th>propenso</th>\n",
       "      <th>0</th>\n",
       "      <th>1</th>\n",
       "    </tr>\n",
       "    <tr>\n",
       "      <th>Nao_Renovou</th>\n",
       "      <th></th>\n",
       "      <th></th>\n",
       "    </tr>\n",
       "  </thead>\n",
       "  <tbody>\n",
       "    <tr>\n",
       "      <th>0</th>\n",
       "      <td>1009</td>\n",
       "      <td>152</td>\n",
       "    </tr>\n",
       "    <tr>\n",
       "      <th>1</th>\n",
       "      <td>126</td>\n",
       "      <td>856</td>\n",
       "    </tr>\n",
       "  </tbody>\n",
       "</table>\n",
       "</div>"
      ],
      "text/plain": [
       "propenso        0    1\n",
       "Nao_Renovou           \n",
       "0            1009  152\n",
       "1             126  856"
      ]
     },
     "execution_count": 136,
     "metadata": {},
     "output_type": "execute_result"
    }
   ],
   "source": [
    "# Copiar as celulas depois do ajuste do modelo completo\n",
    "tabela_desempenho = pd.crosstab(seg_auto['Nao_Renovou'], seg_auto['propenso'])\n",
    "tabela_desempenho"
   ]
  },
  {
   "cell_type": "code",
   "execution_count": 137,
   "metadata": {},
   "outputs": [
    {
     "data": {
      "text/plain": [
       "0.8702753149790013"
      ]
     },
     "execution_count": 137,
     "metadata": {},
     "output_type": "execute_result"
    }
   ],
   "source": [
    "acuracia = (tabela_desempenho[0][0] + tabela_desempenho[1][1])/tabela_desempenho.sum().sum()\n",
    "acuracia"
   ]
  },
  {
   "cell_type": "code",
   "execution_count": 138,
   "metadata": {},
   "outputs": [
    {
     "data": {
      "text/plain": [
       "0.8716904276985743"
      ]
     },
     "execution_count": 138,
     "metadata": {},
     "output_type": "execute_result"
    }
   ],
   "source": [
    "sensibilidade = (tabela_desempenho[1][1])/(tabela_desempenho[1][1] + tabela_desempenho[0][1])\n",
    "sensibilidade"
   ]
  },
  {
   "cell_type": "code",
   "execution_count": 139,
   "metadata": {},
   "outputs": [
    {
     "data": {
      "text/plain": [
       "0.8690783807062877"
      ]
     },
     "execution_count": 139,
     "metadata": {},
     "output_type": "execute_result"
    }
   ],
   "source": [
    "especificidade = (tabela_desempenho[0][0])/(tabela_desempenho[0][0] + tabela_desempenho[1][0])\n",
    "especificidade"
   ]
  },
  {
   "cell_type": "code",
   "execution_count": 140,
   "metadata": {},
   "outputs": [
    {
     "data": {
      "text/plain": [
       "0.9615810690622418"
      ]
     },
     "execution_count": 140,
     "metadata": {},
     "output_type": "execute_result"
    }
   ],
   "source": [
    "roc_auc_score(seg_auto['Nao_Renovou'], seg_auto['prob'])"
   ]
  },
  {
   "cell_type": "markdown",
   "metadata": {},
   "source": [
    "Avaliar estatistica de Cramer-V"
   ]
  }
 ],
 "metadata": {
  "kernelspec": {
   "display_name": "Python 3",
   "language": "python",
   "name": "python3"
  },
  "language_info": {
   "codemirror_mode": {
    "name": "ipython",
    "version": 3
   },
   "file_extension": ".py",
   "mimetype": "text/x-python",
   "name": "python",
   "nbconvert_exporter": "python",
   "pygments_lexer": "ipython3",
   "version": "3.8.3"
  }
 },
 "nbformat": 4,
 "nbformat_minor": 4
}
