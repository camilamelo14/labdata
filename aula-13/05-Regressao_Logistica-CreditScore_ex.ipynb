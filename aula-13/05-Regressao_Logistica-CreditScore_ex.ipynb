{
 "cells": [
  {
   "cell_type": "code",
   "execution_count": 1,
   "metadata": {},
   "outputs": [],
   "source": [
    "import numpy as np\n",
    "import pandas as pd\n",
    "import seaborn as sns\n",
    "import matplotlib.pyplot as plt\n",
    "%matplotlib inline"
   ]
  },
  {
   "cell_type": "code",
   "execution_count": 3,
   "metadata": {},
   "outputs": [
    {
     "data": {
      "text/html": [
       "<div>\n",
       "<style scoped>\n",
       "    .dataframe tbody tr th:only-of-type {\n",
       "        vertical-align: middle;\n",
       "    }\n",
       "\n",
       "    .dataframe tbody tr th {\n",
       "        vertical-align: top;\n",
       "    }\n",
       "\n",
       "    .dataframe thead th {\n",
       "        text-align: right;\n",
       "    }\n",
       "</style>\n",
       "<table border=\"1\" class=\"dataframe\">\n",
       "  <thead>\n",
       "    <tr style=\"text-align: right;\">\n",
       "      <th></th>\n",
       "      <th>CLIENTE_NUMBER</th>\n",
       "      <th>FX_IDADE</th>\n",
       "      <th>CEP_GRUPO_RISCO</th>\n",
       "      <th>FX_RENDA</th>\n",
       "      <th>INDICADOR_RESTRITIVO</th>\n",
       "      <th>QTDE_CONSULTAS_CREDITO</th>\n",
       "      <th>RESPOSTA</th>\n",
       "    </tr>\n",
       "  </thead>\n",
       "  <tbody>\n",
       "    <tr>\n",
       "      <th>0</th>\n",
       "      <td>1</td>\n",
       "      <td>(5) &gt;=46</td>\n",
       "      <td>(5) altissimo</td>\n",
       "      <td>(3) De 1500 a 2500</td>\n",
       "      <td>0</td>\n",
       "      <td>3 ou mais</td>\n",
       "      <td>0</td>\n",
       "    </tr>\n",
       "    <tr>\n",
       "      <th>1</th>\n",
       "      <td>2</td>\n",
       "      <td>(5) &gt;=46</td>\n",
       "      <td>(3) medio</td>\n",
       "      <td>(4) De 2501 a 5000</td>\n",
       "      <td>0</td>\n",
       "      <td>0</td>\n",
       "      <td>0</td>\n",
       "    </tr>\n",
       "    <tr>\n",
       "      <th>2</th>\n",
       "      <td>3</td>\n",
       "      <td>(5) &gt;=46</td>\n",
       "      <td>(2) baixo</td>\n",
       "      <td>(6) &gt;7000</td>\n",
       "      <td>0</td>\n",
       "      <td>0</td>\n",
       "      <td>0</td>\n",
       "    </tr>\n",
       "    <tr>\n",
       "      <th>3</th>\n",
       "      <td>4</td>\n",
       "      <td>(2) 25 a 34</td>\n",
       "      <td>(5) altissimo</td>\n",
       "      <td>(3) De 1500 a 2500</td>\n",
       "      <td>0</td>\n",
       "      <td>1</td>\n",
       "      <td>0</td>\n",
       "    </tr>\n",
       "    <tr>\n",
       "      <th>4</th>\n",
       "      <td>5</td>\n",
       "      <td>(2) 25 a 34</td>\n",
       "      <td>(4) alto</td>\n",
       "      <td>(2) &lt;1500</td>\n",
       "      <td>0</td>\n",
       "      <td>0</td>\n",
       "      <td>0</td>\n",
       "    </tr>\n",
       "    <tr>\n",
       "      <th>...</th>\n",
       "      <td>...</td>\n",
       "      <td>...</td>\n",
       "      <td>...</td>\n",
       "      <td>...</td>\n",
       "      <td>...</td>\n",
       "      <td>...</td>\n",
       "      <td>...</td>\n",
       "    </tr>\n",
       "    <tr>\n",
       "      <th>49813</th>\n",
       "      <td>49814</td>\n",
       "      <td>(5) &gt;=46</td>\n",
       "      <td>(3) medio</td>\n",
       "      <td>(5) 5001 a 7000</td>\n",
       "      <td>0</td>\n",
       "      <td>1</td>\n",
       "      <td>0</td>\n",
       "    </tr>\n",
       "    <tr>\n",
       "      <th>49814</th>\n",
       "      <td>49815</td>\n",
       "      <td>(4) 40 a 45</td>\n",
       "      <td>(5) altissimo</td>\n",
       "      <td>(3) De 1500 a 2500</td>\n",
       "      <td>0</td>\n",
       "      <td>2</td>\n",
       "      <td>0</td>\n",
       "    </tr>\n",
       "    <tr>\n",
       "      <th>49815</th>\n",
       "      <td>49816</td>\n",
       "      <td>(1) &lt;=24</td>\n",
       "      <td>(4) alto</td>\n",
       "      <td>(4) De 2501 a 5000</td>\n",
       "      <td>0</td>\n",
       "      <td>1</td>\n",
       "      <td>0</td>\n",
       "    </tr>\n",
       "    <tr>\n",
       "      <th>49816</th>\n",
       "      <td>49817</td>\n",
       "      <td>sem informacao</td>\n",
       "      <td>(5) altissimo</td>\n",
       "      <td>(1) nao informado</td>\n",
       "      <td>0</td>\n",
       "      <td>0</td>\n",
       "      <td>0</td>\n",
       "    </tr>\n",
       "    <tr>\n",
       "      <th>49817</th>\n",
       "      <td>49818</td>\n",
       "      <td>(5) &gt;=46</td>\n",
       "      <td>(2) baixo</td>\n",
       "      <td>(6) &gt;7000</td>\n",
       "      <td>0</td>\n",
       "      <td>1</td>\n",
       "      <td>0</td>\n",
       "    </tr>\n",
       "  </tbody>\n",
       "</table>\n",
       "<p>49818 rows × 7 columns</p>\n",
       "</div>"
      ],
      "text/plain": [
       "       CLIENTE_NUMBER        FX_IDADE CEP_GRUPO_RISCO            FX_RENDA  \\\n",
       "0                   1        (5) >=46   (5) altissimo  (3) De 1500 a 2500   \n",
       "1                   2        (5) >=46       (3) medio  (4) De 2501 a 5000   \n",
       "2                   3        (5) >=46       (2) baixo           (6) >7000   \n",
       "3                   4     (2) 25 a 34   (5) altissimo  (3) De 1500 a 2500   \n",
       "4                   5     (2) 25 a 34        (4) alto           (2) <1500   \n",
       "...               ...             ...             ...                 ...   \n",
       "49813           49814        (5) >=46       (3) medio     (5) 5001 a 7000   \n",
       "49814           49815     (4) 40 a 45   (5) altissimo  (3) De 1500 a 2500   \n",
       "49815           49816        (1) <=24        (4) alto  (4) De 2501 a 5000   \n",
       "49816           49817  sem informacao   (5) altissimo   (1) nao informado   \n",
       "49817           49818        (5) >=46       (2) baixo           (6) >7000   \n",
       "\n",
       "       INDICADOR_RESTRITIVO QTDE_CONSULTAS_CREDITO  RESPOSTA  \n",
       "0                         0              3 ou mais         0  \n",
       "1                         0                      0         0  \n",
       "2                         0                      0         0  \n",
       "3                         0                      1         0  \n",
       "4                         0                      0         0  \n",
       "...                     ...                    ...       ...  \n",
       "49813                     0                      1         0  \n",
       "49814                     0                      2         0  \n",
       "49815                     0                      1         0  \n",
       "49816                     0                      0         0  \n",
       "49817                     0                      1         0  \n",
       "\n",
       "[49818 rows x 7 columns]"
      ]
     },
     "execution_count": 3,
     "metadata": {},
     "output_type": "execute_result"
    }
   ],
   "source": [
    "# Leitura da base de dados\n",
    "credit = pd.read_table(\"CreditScore_r.txt\")\n",
    "credit"
   ]
  },
  {
   "cell_type": "code",
   "execution_count": 4,
   "metadata": {},
   "outputs": [
    {
     "data": {
      "text/plain": [
       "(49818, 7)"
      ]
     },
     "execution_count": 4,
     "metadata": {},
     "output_type": "execute_result"
    }
   ],
   "source": [
    "credit.shape"
   ]
  },
  {
   "cell_type": "code",
   "execution_count": 5,
   "metadata": {},
   "outputs": [
    {
     "data": {
      "text/plain": [
       "CLIENTE_NUMBER             int64\n",
       "FX_IDADE                  object\n",
       "CEP_GRUPO_RISCO           object\n",
       "FX_RENDA                  object\n",
       "INDICADOR_RESTRITIVO       int64\n",
       "QTDE_CONSULTAS_CREDITO    object\n",
       "RESPOSTA                   int64\n",
       "dtype: object"
      ]
     },
     "execution_count": 5,
     "metadata": {},
     "output_type": "execute_result"
    }
   ],
   "source": [
    "credit.dtypes"
   ]
  },
  {
   "cell_type": "code",
   "execution_count": 6,
   "metadata": {},
   "outputs": [
    {
     "data": {
      "text/html": [
       "<div>\n",
       "<style scoped>\n",
       "    .dataframe tbody tr th:only-of-type {\n",
       "        vertical-align: middle;\n",
       "    }\n",
       "\n",
       "    .dataframe tbody tr th {\n",
       "        vertical-align: top;\n",
       "    }\n",
       "\n",
       "    .dataframe thead th {\n",
       "        text-align: right;\n",
       "    }\n",
       "</style>\n",
       "<table border=\"1\" class=\"dataframe\">\n",
       "  <thead>\n",
       "    <tr style=\"text-align: right;\">\n",
       "      <th></th>\n",
       "      <th>count</th>\n",
       "      <th>mean</th>\n",
       "      <th>std</th>\n",
       "      <th>min</th>\n",
       "      <th>25%</th>\n",
       "      <th>50%</th>\n",
       "      <th>75%</th>\n",
       "      <th>max</th>\n",
       "    </tr>\n",
       "  </thead>\n",
       "  <tbody>\n",
       "    <tr>\n",
       "      <th>CLIENTE_NUMBER</th>\n",
       "      <td>49818.0</td>\n",
       "      <td>24909.500000</td>\n",
       "      <td>14381.362192</td>\n",
       "      <td>1.0</td>\n",
       "      <td>12455.25</td>\n",
       "      <td>24909.5</td>\n",
       "      <td>37363.75</td>\n",
       "      <td>49818.0</td>\n",
       "    </tr>\n",
       "    <tr>\n",
       "      <th>INDICADOR_RESTRITIVO</th>\n",
       "      <td>49818.0</td>\n",
       "      <td>0.020816</td>\n",
       "      <td>0.142769</td>\n",
       "      <td>0.0</td>\n",
       "      <td>0.00</td>\n",
       "      <td>0.0</td>\n",
       "      <td>0.00</td>\n",
       "      <td>1.0</td>\n",
       "    </tr>\n",
       "    <tr>\n",
       "      <th>RESPOSTA</th>\n",
       "      <td>49818.0</td>\n",
       "      <td>0.120699</td>\n",
       "      <td>0.325781</td>\n",
       "      <td>0.0</td>\n",
       "      <td>0.00</td>\n",
       "      <td>0.0</td>\n",
       "      <td>0.00</td>\n",
       "      <td>1.0</td>\n",
       "    </tr>\n",
       "  </tbody>\n",
       "</table>\n",
       "</div>"
      ],
      "text/plain": [
       "                        count          mean           std  min       25%  \\\n",
       "CLIENTE_NUMBER        49818.0  24909.500000  14381.362192  1.0  12455.25   \n",
       "INDICADOR_RESTRITIVO  49818.0      0.020816      0.142769  0.0      0.00   \n",
       "RESPOSTA              49818.0      0.120699      0.325781  0.0      0.00   \n",
       "\n",
       "                          50%       75%      max  \n",
       "CLIENTE_NUMBER        24909.5  37363.75  49818.0  \n",
       "INDICADOR_RESTRITIVO      0.0      0.00      1.0  \n",
       "RESPOSTA                  0.0      0.00      1.0  "
      ]
     },
     "execution_count": 6,
     "metadata": {},
     "output_type": "execute_result"
    }
   ],
   "source": [
    "credit.describe().transpose()"
   ]
  },
  {
   "cell_type": "code",
   "execution_count": 7,
   "metadata": {},
   "outputs": [
    {
     "data": {
      "text/plain": [
       "CLIENTE_NUMBER            0\n",
       "FX_IDADE                  0\n",
       "CEP_GRUPO_RISCO           0\n",
       "FX_RENDA                  0\n",
       "INDICADOR_RESTRITIVO      0\n",
       "QTDE_CONSULTAS_CREDITO    0\n",
       "RESPOSTA                  0\n",
       "dtype: int64"
      ]
     },
     "execution_count": 7,
     "metadata": {},
     "output_type": "execute_result"
    }
   ],
   "source": [
    "# Verificando quantidade de missings\n",
    "credit.isnull().sum()"
   ]
  },
  {
   "cell_type": "code",
   "execution_count": 8,
   "metadata": {},
   "outputs": [
    {
     "data": {
      "text/plain": [
       "(5) >=46          16575\n",
       "(2) 25 a 34       14279\n",
       "sem informacao     5411\n",
       "(1) <=24           4941\n",
       "(3) 35 a 39        4450\n",
       "(4) 40 a 45        4162\n",
       "Name: FX_IDADE, dtype: int64"
      ]
     },
     "execution_count": 8,
     "metadata": {},
     "output_type": "execute_result"
    }
   ],
   "source": [
    "# Contagem das variáveis categóricas\n",
    "credit.FX_IDADE.value_counts()"
   ]
  },
  {
   "cell_type": "code",
   "execution_count": 9,
   "metadata": {},
   "outputs": [
    {
     "data": {
      "text/plain": [
       "(3) medio         14330\n",
       "(2) baixo         13387\n",
       "(5) altissimo      9962\n",
       "(4) alto           7544\n",
       "(1) baissiximo     4595\n",
       "Name: CEP_GRUPO_RISCO, dtype: int64"
      ]
     },
     "execution_count": 9,
     "metadata": {},
     "output_type": "execute_result"
    }
   ],
   "source": [
    "credit.CEP_GRUPO_RISCO.value_counts()"
   ]
  },
  {
   "cell_type": "code",
   "execution_count": 10,
   "metadata": {},
   "outputs": [
    {
     "data": {
      "text/plain": [
       "(3) De 1500 a 2500    17359\n",
       "(4) De 2501 a 5000    13913\n",
       "(5) 5001 a 7000        8615\n",
       "(1) nao informado      4401\n",
       "(6) >7000              2924\n",
       "(2) <1500              2606\n",
       "Name: FX_RENDA, dtype: int64"
      ]
     },
     "execution_count": 10,
     "metadata": {},
     "output_type": "execute_result"
    }
   ],
   "source": [
    "credit.FX_RENDA.value_counts()"
   ]
  },
  {
   "cell_type": "code",
   "execution_count": 11,
   "metadata": {},
   "outputs": [
    {
     "data": {
      "text/plain": [
       "0            28648\n",
       "1            12991\n",
       "2             4790\n",
       "3 ou mais     3389\n",
       "Name: QTDE_CONSULTAS_CREDITO, dtype: int64"
      ]
     },
     "execution_count": 11,
     "metadata": {},
     "output_type": "execute_result"
    }
   ],
   "source": [
    "credit.QTDE_CONSULTAS_CREDITO.value_counts()"
   ]
  },
  {
   "cell_type": "markdown",
   "metadata": {},
   "source": [
    "## Tabelas cruzadas com a variável resposta"
   ]
  },
  {
   "cell_type": "code",
   "execution_count": 12,
   "metadata": {},
   "outputs": [
    {
     "data": {
      "text/html": [
       "<div>\n",
       "<style scoped>\n",
       "    .dataframe tbody tr th:only-of-type {\n",
       "        vertical-align: middle;\n",
       "    }\n",
       "\n",
       "    .dataframe tbody tr th {\n",
       "        vertical-align: top;\n",
       "    }\n",
       "\n",
       "    .dataframe thead th {\n",
       "        text-align: right;\n",
       "    }\n",
       "</style>\n",
       "<table border=\"1\" class=\"dataframe\">\n",
       "  <thead>\n",
       "    <tr style=\"text-align: right;\">\n",
       "      <th>RESPOSTA</th>\n",
       "      <th>0</th>\n",
       "      <th>1</th>\n",
       "    </tr>\n",
       "    <tr>\n",
       "      <th>FX_IDADE</th>\n",
       "      <th></th>\n",
       "      <th></th>\n",
       "    </tr>\n",
       "  </thead>\n",
       "  <tbody>\n",
       "    <tr>\n",
       "      <th>(1) &lt;=24</th>\n",
       "      <td>0.809148</td>\n",
       "      <td>0.190852</td>\n",
       "    </tr>\n",
       "    <tr>\n",
       "      <th>(2) 25 a 34</th>\n",
       "      <td>0.883185</td>\n",
       "      <td>0.116815</td>\n",
       "    </tr>\n",
       "    <tr>\n",
       "      <th>(3) 35 a 39</th>\n",
       "      <td>0.897528</td>\n",
       "      <td>0.102472</td>\n",
       "    </tr>\n",
       "    <tr>\n",
       "      <th>(4) 40 a 45</th>\n",
       "      <td>0.902931</td>\n",
       "      <td>0.097069</td>\n",
       "    </tr>\n",
       "    <tr>\n",
       "      <th>(5) &gt;=46</th>\n",
       "      <td>0.922474</td>\n",
       "      <td>0.077526</td>\n",
       "    </tr>\n",
       "    <tr>\n",
       "      <th>sem informacao</th>\n",
       "      <td>0.767695</td>\n",
       "      <td>0.232305</td>\n",
       "    </tr>\n",
       "  </tbody>\n",
       "</table>\n",
       "</div>"
      ],
      "text/plain": [
       "RESPOSTA               0         1\n",
       "FX_IDADE                          \n",
       "(1) <=24        0.809148  0.190852\n",
       "(2) 25 a 34     0.883185  0.116815\n",
       "(3) 35 a 39     0.897528  0.102472\n",
       "(4) 40 a 45     0.902931  0.097069\n",
       "(5) >=46        0.922474  0.077526\n",
       "sem informacao  0.767695  0.232305"
      ]
     },
     "execution_count": 12,
     "metadata": {},
     "output_type": "execute_result"
    }
   ],
   "source": [
    "fx_idade_tab = pd.crosstab(credit[\"FX_IDADE\"],credit[\"RESPOSTA\"], normalize='index')\n",
    "fx_idade_tab"
   ]
  },
  {
   "cell_type": "code",
   "execution_count": 13,
   "metadata": {},
   "outputs": [
    {
     "data": {
      "text/html": [
       "<div>\n",
       "<style scoped>\n",
       "    .dataframe tbody tr th:only-of-type {\n",
       "        vertical-align: middle;\n",
       "    }\n",
       "\n",
       "    .dataframe tbody tr th {\n",
       "        vertical-align: top;\n",
       "    }\n",
       "\n",
       "    .dataframe thead th {\n",
       "        text-align: right;\n",
       "    }\n",
       "</style>\n",
       "<table border=\"1\" class=\"dataframe\">\n",
       "  <thead>\n",
       "    <tr style=\"text-align: right;\">\n",
       "      <th>RESPOSTA</th>\n",
       "      <th>0</th>\n",
       "      <th>1</th>\n",
       "    </tr>\n",
       "    <tr>\n",
       "      <th>CEP_GRUPO_RISCO</th>\n",
       "      <th></th>\n",
       "      <th></th>\n",
       "    </tr>\n",
       "  </thead>\n",
       "  <tbody>\n",
       "    <tr>\n",
       "      <th>(1) baissiximo</th>\n",
       "      <td>0.952557</td>\n",
       "      <td>0.047443</td>\n",
       "    </tr>\n",
       "    <tr>\n",
       "      <th>(2) baixo</th>\n",
       "      <td>0.914320</td>\n",
       "      <td>0.085680</td>\n",
       "    </tr>\n",
       "    <tr>\n",
       "      <th>(3) medio</th>\n",
       "      <td>0.884438</td>\n",
       "      <td>0.115562</td>\n",
       "    </tr>\n",
       "    <tr>\n",
       "      <th>(4) alto</th>\n",
       "      <td>0.865589</td>\n",
       "      <td>0.134411</td>\n",
       "    </tr>\n",
       "    <tr>\n",
       "      <th>(5) altissimo</th>\n",
       "      <td>0.801445</td>\n",
       "      <td>0.198555</td>\n",
       "    </tr>\n",
       "  </tbody>\n",
       "</table>\n",
       "</div>"
      ],
      "text/plain": [
       "RESPOSTA                0         1\n",
       "CEP_GRUPO_RISCO                    \n",
       "(1) baissiximo   0.952557  0.047443\n",
       "(2) baixo        0.914320  0.085680\n",
       "(3) medio        0.884438  0.115562\n",
       "(4) alto         0.865589  0.134411\n",
       "(5) altissimo    0.801445  0.198555"
      ]
     },
     "execution_count": 13,
     "metadata": {},
     "output_type": "execute_result"
    }
   ],
   "source": [
    "cep_grupo_risco_tab = pd.crosstab(credit[\"CEP_GRUPO_RISCO\"],credit[\"RESPOSTA\"], normalize='index')\n",
    "cep_grupo_risco_tab"
   ]
  },
  {
   "cell_type": "code",
   "execution_count": 14,
   "metadata": {},
   "outputs": [
    {
     "data": {
      "text/html": [
       "<div>\n",
       "<style scoped>\n",
       "    .dataframe tbody tr th:only-of-type {\n",
       "        vertical-align: middle;\n",
       "    }\n",
       "\n",
       "    .dataframe tbody tr th {\n",
       "        vertical-align: top;\n",
       "    }\n",
       "\n",
       "    .dataframe thead th {\n",
       "        text-align: right;\n",
       "    }\n",
       "</style>\n",
       "<table border=\"1\" class=\"dataframe\">\n",
       "  <thead>\n",
       "    <tr style=\"text-align: right;\">\n",
       "      <th>RESPOSTA</th>\n",
       "      <th>0</th>\n",
       "      <th>1</th>\n",
       "    </tr>\n",
       "    <tr>\n",
       "      <th>FX_RENDA</th>\n",
       "      <th></th>\n",
       "      <th></th>\n",
       "    </tr>\n",
       "  </thead>\n",
       "  <tbody>\n",
       "    <tr>\n",
       "      <th>(1) nao informado</th>\n",
       "      <td>0.770507</td>\n",
       "      <td>0.229493</td>\n",
       "    </tr>\n",
       "    <tr>\n",
       "      <th>(2) &lt;1500</th>\n",
       "      <td>0.854183</td>\n",
       "      <td>0.145817</td>\n",
       "    </tr>\n",
       "    <tr>\n",
       "      <th>(3) De 1500 a 2500</th>\n",
       "      <td>0.862146</td>\n",
       "      <td>0.137854</td>\n",
       "    </tr>\n",
       "    <tr>\n",
       "      <th>(4) De 2501 a 5000</th>\n",
       "      <td>0.891612</td>\n",
       "      <td>0.108388</td>\n",
       "    </tr>\n",
       "    <tr>\n",
       "      <th>(5) 5001 a 7000</th>\n",
       "      <td>0.932792</td>\n",
       "      <td>0.067208</td>\n",
       "    </tr>\n",
       "    <tr>\n",
       "      <th>(6) &gt;7000</th>\n",
       "      <td>0.951094</td>\n",
       "      <td>0.048906</td>\n",
       "    </tr>\n",
       "  </tbody>\n",
       "</table>\n",
       "</div>"
      ],
      "text/plain": [
       "RESPOSTA                   0         1\n",
       "FX_RENDA                              \n",
       "(1) nao informado   0.770507  0.229493\n",
       "(2) <1500           0.854183  0.145817\n",
       "(3) De 1500 a 2500  0.862146  0.137854\n",
       "(4) De 2501 a 5000  0.891612  0.108388\n",
       "(5) 5001 a 7000     0.932792  0.067208\n",
       "(6) >7000           0.951094  0.048906"
      ]
     },
     "execution_count": 14,
     "metadata": {},
     "output_type": "execute_result"
    }
   ],
   "source": [
    "fx_renda_tab = pd.crosstab(credit[\"FX_RENDA\"],credit[\"RESPOSTA\"], normalize='index')\n",
    "fx_renda_tab"
   ]
  },
  {
   "cell_type": "code",
   "execution_count": 15,
   "metadata": {},
   "outputs": [
    {
     "data": {
      "text/html": [
       "<div>\n",
       "<style scoped>\n",
       "    .dataframe tbody tr th:only-of-type {\n",
       "        vertical-align: middle;\n",
       "    }\n",
       "\n",
       "    .dataframe tbody tr th {\n",
       "        vertical-align: top;\n",
       "    }\n",
       "\n",
       "    .dataframe thead th {\n",
       "        text-align: right;\n",
       "    }\n",
       "</style>\n",
       "<table border=\"1\" class=\"dataframe\">\n",
       "  <thead>\n",
       "    <tr style=\"text-align: right;\">\n",
       "      <th>RESPOSTA</th>\n",
       "      <th>0</th>\n",
       "      <th>1</th>\n",
       "    </tr>\n",
       "    <tr>\n",
       "      <th>QTDE_CONSULTAS_CREDITO</th>\n",
       "      <th></th>\n",
       "      <th></th>\n",
       "    </tr>\n",
       "  </thead>\n",
       "  <tbody>\n",
       "    <tr>\n",
       "      <th>0</th>\n",
       "      <td>0.892977</td>\n",
       "      <td>0.107023</td>\n",
       "    </tr>\n",
       "    <tr>\n",
       "      <th>1</th>\n",
       "      <td>0.885228</td>\n",
       "      <td>0.114772</td>\n",
       "    </tr>\n",
       "    <tr>\n",
       "      <th>2</th>\n",
       "      <td>0.853236</td>\n",
       "      <td>0.146764</td>\n",
       "    </tr>\n",
       "    <tr>\n",
       "      <th>3 ou mais</th>\n",
       "      <td>0.777811</td>\n",
       "      <td>0.222189</td>\n",
       "    </tr>\n",
       "  </tbody>\n",
       "</table>\n",
       "</div>"
      ],
      "text/plain": [
       "RESPOSTA                       0         1\n",
       "QTDE_CONSULTAS_CREDITO                    \n",
       "0                       0.892977  0.107023\n",
       "1                       0.885228  0.114772\n",
       "2                       0.853236  0.146764\n",
       "3 ou mais               0.777811  0.222189"
      ]
     },
     "execution_count": 15,
     "metadata": {},
     "output_type": "execute_result"
    }
   ],
   "source": [
    "qtde_consultas_credito_tab = pd.crosstab(credit[\"QTDE_CONSULTAS_CREDITO\"],credit[\"RESPOSTA\"], normalize='index')\n",
    "qtde_consultas_credito_tab"
   ]
  },
  {
   "cell_type": "code",
   "execution_count": 16,
   "metadata": {},
   "outputs": [
    {
     "data": {
      "text/html": [
       "<div>\n",
       "<style scoped>\n",
       "    .dataframe tbody tr th:only-of-type {\n",
       "        vertical-align: middle;\n",
       "    }\n",
       "\n",
       "    .dataframe tbody tr th {\n",
       "        vertical-align: top;\n",
       "    }\n",
       "\n",
       "    .dataframe thead th {\n",
       "        text-align: right;\n",
       "    }\n",
       "</style>\n",
       "<table border=\"1\" class=\"dataframe\">\n",
       "  <thead>\n",
       "    <tr style=\"text-align: right;\">\n",
       "      <th>RESPOSTA</th>\n",
       "      <th>0</th>\n",
       "      <th>1</th>\n",
       "    </tr>\n",
       "    <tr>\n",
       "      <th>INDICADOR_RESTRITIVO</th>\n",
       "      <th></th>\n",
       "      <th></th>\n",
       "    </tr>\n",
       "  </thead>\n",
       "  <tbody>\n",
       "    <tr>\n",
       "      <th>0</th>\n",
       "      <td>0.879871</td>\n",
       "      <td>0.120129</td>\n",
       "    </tr>\n",
       "    <tr>\n",
       "      <th>1</th>\n",
       "      <td>0.852459</td>\n",
       "      <td>0.147541</td>\n",
       "    </tr>\n",
       "  </tbody>\n",
       "</table>\n",
       "</div>"
      ],
      "text/plain": [
       "RESPOSTA                     0         1\n",
       "INDICADOR_RESTRITIVO                    \n",
       "0                     0.879871  0.120129\n",
       "1                     0.852459  0.147541"
      ]
     },
     "execution_count": 16,
     "metadata": {},
     "output_type": "execute_result"
    }
   ],
   "source": [
    "ind_restritivo_tab = pd.crosstab(credit[\"INDICADOR_RESTRITIVO\"],credit[\"RESPOSTA\"], normalize='index')\n",
    "ind_restritivo_tab"
   ]
  },
  {
   "cell_type": "markdown",
   "metadata": {},
   "source": [
    "## Análise da relação entra as covariáveis - Estatística de Cramers'v "
   ]
  },
  {
   "cell_type": "code",
   "execution_count": 19,
   "metadata": {},
   "outputs": [],
   "source": [
    "from scipy.stats import chi2_contingency\n",
    "import numpy as np"
   ]
  },
  {
   "cell_type": "code",
   "execution_count": 18,
   "metadata": {},
   "outputs": [
    {
     "data": {
      "text/plain": [
       "0.13968945351637282"
      ]
     },
     "execution_count": 18,
     "metadata": {},
     "output_type": "execute_result"
    }
   ],
   "source": [
    "crosstab = np.array(pd.crosstab(credit[\"FX_IDADE\"],credit[\"FX_RENDA\"])) # Construção da tabela cruzada\n",
    "stat = chi2_contingency(crosstab)[0] # Valor da estatística Qui-quadrado\n",
    "n = np.sum(crosstab) # Numero de observações da tabela cruzada\n",
    "mini = min(crosstab.shape)-1 # Função \"min\" pega o valor mínimo entre linha e coluna da tabela cruzada\n",
    "CramerV =  stat/(n*mini)\n",
    "CramerV"
   ]
  },
  {
   "cell_type": "markdown",
   "metadata": {},
   "source": [
    "# Modelo de Regressão Logística"
   ]
  },
  {
   "cell_type": "code",
   "execution_count": 20,
   "metadata": {},
   "outputs": [],
   "source": [
    "import statsmodels.api as sm"
   ]
  },
  {
   "cell_type": "code",
   "execution_count": 21,
   "metadata": {},
   "outputs": [],
   "source": [
    "model = sm.GLM.from_formula(\"RESPOSTA ~ FX_IDADE + CEP_GRUPO_RISCO + INDICADOR_RESTRITIVO + QTDE_CONSULTAS_CREDITO\", \n",
    "                            family = sm.families.Binomial(), data=credit)"
   ]
  },
  {
   "cell_type": "code",
   "execution_count": 22,
   "metadata": {},
   "outputs": [
    {
     "data": {
      "text/html": [
       "<table class=\"simpletable\">\n",
       "<caption>Generalized Linear Model Regression Results</caption>\n",
       "<tr>\n",
       "  <th>Dep. Variable:</th>       <td>RESPOSTA</td>     <th>  No. Observations:  </th>  <td> 49818</td> \n",
       "</tr>\n",
       "<tr>\n",
       "  <th>Model:</th>                  <td>GLM</td>       <th>  Df Residuals:      </th>  <td> 49804</td> \n",
       "</tr>\n",
       "<tr>\n",
       "  <th>Model Family:</th>        <td>Binomial</td>     <th>  Df Model:          </th>  <td>    13</td> \n",
       "</tr>\n",
       "<tr>\n",
       "  <th>Link Function:</th>         <td>logit</td>      <th>  Scale:             </th> <td>  1.0000</td>\n",
       "</tr>\n",
       "<tr>\n",
       "  <th>Method:</th>                <td>IRLS</td>       <th>  Log-Likelihood:    </th> <td> -17342.</td>\n",
       "</tr>\n",
       "<tr>\n",
       "  <th>Date:</th>            <td>Sun, 31 Jan 2021</td> <th>  Deviance:          </th> <td>  34684.</td>\n",
       "</tr>\n",
       "<tr>\n",
       "  <th>Time:</th>                <td>20:20:32</td>     <th>  Pearson chi2:      </th> <td>4.96e+04</td>\n",
       "</tr>\n",
       "<tr>\n",
       "  <th>No. Iterations:</th>          <td>6</td>        <th>                     </th>     <td> </td>   \n",
       "</tr>\n",
       "<tr>\n",
       "  <th>Covariance Type:</th>     <td>nonrobust</td>    <th>                     </th>     <td> </td>   \n",
       "</tr>\n",
       "</table>\n",
       "<table class=\"simpletable\">\n",
       "<tr>\n",
       "                   <td></td>                      <th>coef</th>     <th>std err</th>      <th>z</th>      <th>P>|z|</th>  <th>[0.025</th>    <th>0.975]</th>  \n",
       "</tr>\n",
       "<tr>\n",
       "  <th>Intercept</th>                           <td>   -2.5382</td> <td>    0.081</td> <td>  -31.529</td> <td> 0.000</td> <td>   -2.696</td> <td>   -2.380</td>\n",
       "</tr>\n",
       "<tr>\n",
       "  <th>FX_IDADE[T.(2) 25 a 34]</th>             <td>   -0.5534</td> <td>    0.045</td> <td>  -12.235</td> <td> 0.000</td> <td>   -0.642</td> <td>   -0.465</td>\n",
       "</tr>\n",
       "<tr>\n",
       "  <th>FX_IDADE[T.(3) 35 a 39]</th>             <td>   -0.7055</td> <td>    0.062</td> <td>  -11.369</td> <td> 0.000</td> <td>   -0.827</td> <td>   -0.584</td>\n",
       "</tr>\n",
       "<tr>\n",
       "  <th>FX_IDADE[T.(4) 40 a 45]</th>             <td>   -0.7469</td> <td>    0.064</td> <td>  -11.589</td> <td> 0.000</td> <td>   -0.873</td> <td>   -0.621</td>\n",
       "</tr>\n",
       "<tr>\n",
       "  <th>FX_IDADE[T.(5) >=46]</th>                <td>   -0.9409</td> <td>    0.047</td> <td>  -19.929</td> <td> 0.000</td> <td>   -1.033</td> <td>   -0.848</td>\n",
       "</tr>\n",
       "<tr>\n",
       "  <th>FX_IDADE[T.sem informacao]</th>          <td>    0.0507</td> <td>    0.054</td> <td>    0.935</td> <td> 0.350</td> <td>   -0.056</td> <td>    0.157</td>\n",
       "</tr>\n",
       "<tr>\n",
       "  <th>CEP_GRUPO_RISCO[T.(2) baixo]</th>        <td>    0.5744</td> <td>    0.077</td> <td>    7.503</td> <td> 0.000</td> <td>    0.424</td> <td>    0.724</td>\n",
       "</tr>\n",
       "<tr>\n",
       "  <th>CEP_GRUPO_RISCO[T.(3) medio]</th>        <td>    0.8871</td> <td>    0.075</td> <td>   11.855</td> <td> 0.000</td> <td>    0.740</td> <td>    1.034</td>\n",
       "</tr>\n",
       "<tr>\n",
       "  <th>CEP_GRUPO_RISCO[T.(4) alto]</th>         <td>    1.0368</td> <td>    0.078</td> <td>   13.298</td> <td> 0.000</td> <td>    0.884</td> <td>    1.190</td>\n",
       "</tr>\n",
       "<tr>\n",
       "  <th>CEP_GRUPO_RISCO[T.(5) altissimo]</th>    <td>    1.2757</td> <td>    0.077</td> <td>   16.468</td> <td> 0.000</td> <td>    1.124</td> <td>    1.427</td>\n",
       "</tr>\n",
       "<tr>\n",
       "  <th>QTDE_CONSULTAS_CREDITO[T.1]</th>         <td>    0.2000</td> <td>    0.034</td> <td>    5.814</td> <td> 0.000</td> <td>    0.133</td> <td>    0.267</td>\n",
       "</tr>\n",
       "<tr>\n",
       "  <th>QTDE_CONSULTAS_CREDITO[T.2]</th>         <td>    0.5030</td> <td>    0.046</td> <td>   10.861</td> <td> 0.000</td> <td>    0.412</td> <td>    0.594</td>\n",
       "</tr>\n",
       "<tr>\n",
       "  <th>QTDE_CONSULTAS_CREDITO[T.3 ou mais]</th> <td>    1.0065</td> <td>    0.047</td> <td>   21.395</td> <td> 0.000</td> <td>    0.914</td> <td>    1.099</td>\n",
       "</tr>\n",
       "<tr>\n",
       "  <th>INDICADOR_RESTRITIVO</th>                <td>    0.4647</td> <td>    0.091</td> <td>    5.105</td> <td> 0.000</td> <td>    0.286</td> <td>    0.643</td>\n",
       "</tr>\n",
       "</table>"
      ],
      "text/plain": [
       "<class 'statsmodels.iolib.summary.Summary'>\n",
       "\"\"\"\n",
       "                 Generalized Linear Model Regression Results                  \n",
       "==============================================================================\n",
       "Dep. Variable:               RESPOSTA   No. Observations:                49818\n",
       "Model:                            GLM   Df Residuals:                    49804\n",
       "Model Family:                Binomial   Df Model:                           13\n",
       "Link Function:                  logit   Scale:                          1.0000\n",
       "Method:                          IRLS   Log-Likelihood:                -17342.\n",
       "Date:                Sun, 31 Jan 2021   Deviance:                       34684.\n",
       "Time:                        20:20:32   Pearson chi2:                 4.96e+04\n",
       "No. Iterations:                     6                                         \n",
       "Covariance Type:            nonrobust                                         \n",
       "=======================================================================================================\n",
       "                                          coef    std err          z      P>|z|      [0.025      0.975]\n",
       "-------------------------------------------------------------------------------------------------------\n",
       "Intercept                              -2.5382      0.081    -31.529      0.000      -2.696      -2.380\n",
       "FX_IDADE[T.(2) 25 a 34]                -0.5534      0.045    -12.235      0.000      -0.642      -0.465\n",
       "FX_IDADE[T.(3) 35 a 39]                -0.7055      0.062    -11.369      0.000      -0.827      -0.584\n",
       "FX_IDADE[T.(4) 40 a 45]                -0.7469      0.064    -11.589      0.000      -0.873      -0.621\n",
       "FX_IDADE[T.(5) >=46]                   -0.9409      0.047    -19.929      0.000      -1.033      -0.848\n",
       "FX_IDADE[T.sem informacao]              0.0507      0.054      0.935      0.350      -0.056       0.157\n",
       "CEP_GRUPO_RISCO[T.(2) baixo]            0.5744      0.077      7.503      0.000       0.424       0.724\n",
       "CEP_GRUPO_RISCO[T.(3) medio]            0.8871      0.075     11.855      0.000       0.740       1.034\n",
       "CEP_GRUPO_RISCO[T.(4) alto]             1.0368      0.078     13.298      0.000       0.884       1.190\n",
       "CEP_GRUPO_RISCO[T.(5) altissimo]        1.2757      0.077     16.468      0.000       1.124       1.427\n",
       "QTDE_CONSULTAS_CREDITO[T.1]             0.2000      0.034      5.814      0.000       0.133       0.267\n",
       "QTDE_CONSULTAS_CREDITO[T.2]             0.5030      0.046     10.861      0.000       0.412       0.594\n",
       "QTDE_CONSULTAS_CREDITO[T.3 ou mais]     1.0065      0.047     21.395      0.000       0.914       1.099\n",
       "INDICADOR_RESTRITIVO                    0.4647      0.091      5.105      0.000       0.286       0.643\n",
       "=======================================================================================================\n",
       "\"\"\""
      ]
     },
     "execution_count": 22,
     "metadata": {},
     "output_type": "execute_result"
    }
   ],
   "source": [
    "result = model.fit()\n",
    "result.summary()"
   ]
  },
  {
   "cell_type": "code",
   "execution_count": 23,
   "metadata": {},
   "outputs": [],
   "source": [
    "# Salvando a probabilidade predita\n",
    "credit['prob'] = result.fittedvalues"
   ]
  },
  {
   "cell_type": "code",
   "execution_count": 24,
   "metadata": {},
   "outputs": [],
   "source": [
    "# Marcando os propensos\n",
    "credit['propenso'] = np.where(credit['prob'] >= credit['RESPOSTA'].mean(), 1, 0)"
   ]
  },
  {
   "cell_type": "code",
   "execution_count": 25,
   "metadata": {},
   "outputs": [
    {
     "data": {
      "text/html": [
       "<div>\n",
       "<style scoped>\n",
       "    .dataframe tbody tr th:only-of-type {\n",
       "        vertical-align: middle;\n",
       "    }\n",
       "\n",
       "    .dataframe tbody tr th {\n",
       "        vertical-align: top;\n",
       "    }\n",
       "\n",
       "    .dataframe thead th {\n",
       "        text-align: right;\n",
       "    }\n",
       "</style>\n",
       "<table border=\"1\" class=\"dataframe\">\n",
       "  <thead>\n",
       "    <tr style=\"text-align: right;\">\n",
       "      <th>propenso</th>\n",
       "      <th>0</th>\n",
       "      <th>1</th>\n",
       "    </tr>\n",
       "    <tr>\n",
       "      <th>RESPOSTA</th>\n",
       "      <th></th>\n",
       "      <th></th>\n",
       "    </tr>\n",
       "  </thead>\n",
       "  <tbody>\n",
       "    <tr>\n",
       "      <th>0</th>\n",
       "      <td>29570</td>\n",
       "      <td>14235</td>\n",
       "    </tr>\n",
       "    <tr>\n",
       "      <th>1</th>\n",
       "      <td>2556</td>\n",
       "      <td>3457</td>\n",
       "    </tr>\n",
       "  </tbody>\n",
       "</table>\n",
       "</div>"
      ],
      "text/plain": [
       "propenso      0      1\n",
       "RESPOSTA              \n",
       "0         29570  14235\n",
       "1          2556   3457"
      ]
     },
     "execution_count": 25,
     "metadata": {},
     "output_type": "execute_result"
    }
   ],
   "source": [
    "tabela_desempenho = pd.crosstab(credit['RESPOSTA'], credit['propenso'])\n",
    "tabela_desempenho"
   ]
  },
  {
   "cell_type": "code",
   "execution_count": 26,
   "metadata": {},
   "outputs": [
    {
     "data": {
      "text/plain": [
       "0.6629531494640492"
      ]
     },
     "execution_count": 26,
     "metadata": {},
     "output_type": "execute_result"
    }
   ],
   "source": [
    "acuracia = (tabela_desempenho[0][0] + tabela_desempenho[1][1])/tabela_desempenho.sum().sum()\n",
    "acuracia"
   ]
  },
  {
   "cell_type": "code",
   "execution_count": 27,
   "metadata": {},
   "outputs": [
    {
     "data": {
      "text/plain": [
       "0.5749210044902711"
      ]
     },
     "execution_count": 27,
     "metadata": {},
     "output_type": "execute_result"
    }
   ],
   "source": [
    "sensibilidade = (tabela_desempenho[1][1])/(tabela_desempenho[1][1] + tabela_desempenho[0][1])\n",
    "sensibilidade"
   ]
  },
  {
   "cell_type": "code",
   "execution_count": 28,
   "metadata": {},
   "outputs": [
    {
     "data": {
      "text/plain": [
       "0.6750370962218925"
      ]
     },
     "execution_count": 28,
     "metadata": {},
     "output_type": "execute_result"
    }
   ],
   "source": [
    "especificidade = (tabela_desempenho[0][0])/(tabela_desempenho[0][0] + tabela_desempenho[1][0])\n",
    "especificidade"
   ]
  },
  {
   "cell_type": "markdown",
   "metadata": {},
   "source": [
    "## Área abaixo da curva ROC"
   ]
  },
  {
   "cell_type": "code",
   "execution_count": 29,
   "metadata": {},
   "outputs": [],
   "source": [
    "import numpy as np\n",
    "from sklearn.metrics import roc_auc_score"
   ]
  },
  {
   "cell_type": "code",
   "execution_count": 30,
   "metadata": {},
   "outputs": [
    {
     "data": {
      "text/plain": [
       "0.6249790503560817"
      ]
     },
     "execution_count": 30,
     "metadata": {},
     "output_type": "execute_result"
    }
   ],
   "source": [
    "roc_auc_score(credit['RESPOSTA'], credit['propenso'])"
   ]
  },
  {
   "cell_type": "code",
   "execution_count": null,
   "metadata": {},
   "outputs": [],
   "source": []
  }
 ],
 "metadata": {
  "kernelspec": {
   "display_name": "Python 3",
   "language": "python",
   "name": "python3"
  },
  "language_info": {
   "codemirror_mode": {
    "name": "ipython",
    "version": 3
   },
   "file_extension": ".py",
   "mimetype": "text/x-python",
   "name": "python",
   "nbconvert_exporter": "python",
   "pygments_lexer": "ipython3",
   "version": "3.8.3"
  }
 },
 "nbformat": 4,
 "nbformat_minor": 4
}
