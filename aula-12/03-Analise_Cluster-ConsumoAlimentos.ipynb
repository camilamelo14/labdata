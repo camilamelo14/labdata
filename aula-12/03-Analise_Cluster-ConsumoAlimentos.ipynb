{
 "cells": [
  {
   "cell_type": "code",
   "execution_count": 1,
   "metadata": {},
   "outputs": [],
   "source": [
    "import numpy as np\n",
    "import pandas as pd\n",
    "import seaborn as sns\n",
    "import matplotlib.pyplot as plt\n",
    "%matplotlib inline"
   ]
  },
  {
   "cell_type": "markdown",
   "metadata": {},
   "source": [
    "## Leitura dos dados\n"
   ]
  },
  {
   "cell_type": "code",
   "execution_count": 19,
   "metadata": {},
   "outputs": [
    {
     "data": {
      "text/html": [
       "<div>\n",
       "<style scoped>\n",
       "    .dataframe tbody tr th:only-of-type {\n",
       "        vertical-align: middle;\n",
       "    }\n",
       "\n",
       "    .dataframe tbody tr th {\n",
       "        vertical-align: top;\n",
       "    }\n",
       "\n",
       "    .dataframe thead th {\n",
       "        text-align: right;\n",
       "    }\n",
       "</style>\n",
       "<table border=\"1\" class=\"dataframe\">\n",
       "  <thead>\n",
       "    <tr style=\"text-align: right;\">\n",
       "      <th></th>\n",
       "      <th>Pais</th>\n",
       "      <th>carne_vermelha</th>\n",
       "      <th>carne_branca</th>\n",
       "      <th>ovos</th>\n",
       "      <th>leite</th>\n",
       "      <th>peixes</th>\n",
       "      <th>cereais</th>\n",
       "      <th>carboidratos</th>\n",
       "      <th>graos</th>\n",
       "      <th>fruta_vegetais</th>\n",
       "    </tr>\n",
       "  </thead>\n",
       "  <tbody>\n",
       "    <tr>\n",
       "      <th>0</th>\n",
       "      <td>Albania</td>\n",
       "      <td>10</td>\n",
       "      <td>1</td>\n",
       "      <td>0.5</td>\n",
       "      <td>8.9</td>\n",
       "      <td>0.2</td>\n",
       "      <td>42.3</td>\n",
       "      <td>0.6</td>\n",
       "      <td>6</td>\n",
       "      <td>2</td>\n",
       "    </tr>\n",
       "    <tr>\n",
       "      <th>1</th>\n",
       "      <td>Austria</td>\n",
       "      <td>9</td>\n",
       "      <td>14</td>\n",
       "      <td>4.3</td>\n",
       "      <td>19.9</td>\n",
       "      <td>2.1</td>\n",
       "      <td>28.0</td>\n",
       "      <td>3.6</td>\n",
       "      <td>1</td>\n",
       "      <td>4</td>\n",
       "    </tr>\n",
       "    <tr>\n",
       "      <th>2</th>\n",
       "      <td>Belgium</td>\n",
       "      <td>14</td>\n",
       "      <td>9</td>\n",
       "      <td>4.1</td>\n",
       "      <td>17.5</td>\n",
       "      <td>4.5</td>\n",
       "      <td>27.0</td>\n",
       "      <td>5.7</td>\n",
       "      <td>2</td>\n",
       "      <td>4</td>\n",
       "    </tr>\n",
       "    <tr>\n",
       "      <th>3</th>\n",
       "      <td>Bulgaria</td>\n",
       "      <td>8</td>\n",
       "      <td>6</td>\n",
       "      <td>1.6</td>\n",
       "      <td>8.3</td>\n",
       "      <td>1.2</td>\n",
       "      <td>57.0</td>\n",
       "      <td>1.1</td>\n",
       "      <td>4</td>\n",
       "      <td>4</td>\n",
       "    </tr>\n",
       "    <tr>\n",
       "      <th>4</th>\n",
       "      <td>Czechoslovakia</td>\n",
       "      <td>10</td>\n",
       "      <td>11</td>\n",
       "      <td>2.8</td>\n",
       "      <td>12.5</td>\n",
       "      <td>2.0</td>\n",
       "      <td>34.0</td>\n",
       "      <td>5.0</td>\n",
       "      <td>1</td>\n",
       "      <td>4</td>\n",
       "    </tr>\n",
       "  </tbody>\n",
       "</table>\n",
       "</div>"
      ],
      "text/plain": [
       "             Pais  carne_vermelha   carne_branca   ovos   leite   peixes  \\\n",
       "0         Albania              10              1    0.5     8.9      0.2   \n",
       "1         Austria               9             14    4.3    19.9      2.1   \n",
       "2         Belgium              14              9    4.1    17.5      4.5   \n",
       "3        Bulgaria               8              6    1.6     8.3      1.2   \n",
       "4  Czechoslovakia              10             11    2.8    12.5      2.0   \n",
       "\n",
       "    cereais   carboidratos   graos   fruta_vegetais  \n",
       "0      42.3            0.6       6                2  \n",
       "1      28.0            3.6       1                4  \n",
       "2      27.0            5.7       2                4  \n",
       "3      57.0            1.1       4                4  \n",
       "4      34.0            5.0       1                4  "
      ]
     },
     "execution_count": 19,
     "metadata": {},
     "output_type": "execute_result"
    }
   ],
   "source": [
    "# Importando a base de dados\n",
    "# Uma arquivo texto ('.txt') pode ser lido utilizando comando do read_txt dentro do Pandas\n",
    "consumo = pd.read_table(\"Consumo_Alimentos.txt\", sep='\\t', decimal=\".\")\n",
    "consumo.head()"
   ]
  },
  {
   "cell_type": "markdown",
   "metadata": {},
   "source": [
    "## Análise Exploratória"
   ]
  },
  {
   "cell_type": "code",
   "execution_count": 3,
   "metadata": {},
   "outputs": [
    {
     "data": {
      "text/plain": [
       "Pais                object\n",
       "carne_vermelha       int64\n",
       " carne_branca        int64\n",
       " ovos              float64\n",
       " leite             float64\n",
       " peixes            float64\n",
       " cereais           float64\n",
       " carboidratos      float64\n",
       " graos               int64\n",
       " fruta_vegetais      int64\n",
       "dtype: object"
      ]
     },
     "execution_count": 3,
     "metadata": {},
     "output_type": "execute_result"
    }
   ],
   "source": [
    "consumo.dtypes"
   ]
  },
  {
   "cell_type": "code",
   "execution_count": 4,
   "metadata": {},
   "outputs": [
    {
     "data": {
      "text/plain": [
       "(25, 10)"
      ]
     },
     "execution_count": 4,
     "metadata": {},
     "output_type": "execute_result"
    }
   ],
   "source": [
    "consumo.shape"
   ]
  },
  {
   "cell_type": "code",
   "execution_count": 5,
   "metadata": {},
   "outputs": [
    {
     "data": {
      "text/html": [
       "<div>\n",
       "<style scoped>\n",
       "    .dataframe tbody tr th:only-of-type {\n",
       "        vertical-align: middle;\n",
       "    }\n",
       "\n",
       "    .dataframe tbody tr th {\n",
       "        vertical-align: top;\n",
       "    }\n",
       "\n",
       "    .dataframe thead th {\n",
       "        text-align: right;\n",
       "    }\n",
       "</style>\n",
       "<table border=\"1\" class=\"dataframe\">\n",
       "  <thead>\n",
       "    <tr style=\"text-align: right;\">\n",
       "      <th></th>\n",
       "      <th>count</th>\n",
       "      <th>mean</th>\n",
       "      <th>std</th>\n",
       "      <th>min</th>\n",
       "      <th>25%</th>\n",
       "      <th>50%</th>\n",
       "      <th>75%</th>\n",
       "      <th>max</th>\n",
       "    </tr>\n",
       "  </thead>\n",
       "  <tbody>\n",
       "    <tr>\n",
       "      <th>carne_vermelha</th>\n",
       "      <td>25.0</td>\n",
       "      <td>9.800</td>\n",
       "      <td>3.403430</td>\n",
       "      <td>4.0</td>\n",
       "      <td>8.0</td>\n",
       "      <td>10.0</td>\n",
       "      <td>11.0</td>\n",
       "      <td>18.0</td>\n",
       "    </tr>\n",
       "    <tr>\n",
       "      <th>carne_branca</th>\n",
       "      <td>25.0</td>\n",
       "      <td>7.920</td>\n",
       "      <td>3.740766</td>\n",
       "      <td>1.0</td>\n",
       "      <td>5.0</td>\n",
       "      <td>8.0</td>\n",
       "      <td>11.0</td>\n",
       "      <td>14.0</td>\n",
       "    </tr>\n",
       "    <tr>\n",
       "      <th>ovos</th>\n",
       "      <td>25.0</td>\n",
       "      <td>2.936</td>\n",
       "      <td>1.117617</td>\n",
       "      <td>0.5</td>\n",
       "      <td>2.7</td>\n",
       "      <td>2.9</td>\n",
       "      <td>3.7</td>\n",
       "      <td>4.7</td>\n",
       "    </tr>\n",
       "    <tr>\n",
       "      <th>leite</th>\n",
       "      <td>25.0</td>\n",
       "      <td>17.112</td>\n",
       "      <td>7.105416</td>\n",
       "      <td>4.9</td>\n",
       "      <td>11.1</td>\n",
       "      <td>17.6</td>\n",
       "      <td>23.3</td>\n",
       "      <td>33.7</td>\n",
       "    </tr>\n",
       "    <tr>\n",
       "      <th>peixes</th>\n",
       "      <td>25.0</td>\n",
       "      <td>4.284</td>\n",
       "      <td>3.402533</td>\n",
       "      <td>0.2</td>\n",
       "      <td>2.1</td>\n",
       "      <td>3.4</td>\n",
       "      <td>5.8</td>\n",
       "      <td>14.2</td>\n",
       "    </tr>\n",
       "    <tr>\n",
       "      <th>cereais</th>\n",
       "      <td>25.0</td>\n",
       "      <td>32.332</td>\n",
       "      <td>11.021446</td>\n",
       "      <td>19.0</td>\n",
       "      <td>24.0</td>\n",
       "      <td>28.0</td>\n",
       "      <td>40.0</td>\n",
       "      <td>57.0</td>\n",
       "    </tr>\n",
       "    <tr>\n",
       "      <th>carboidratos</th>\n",
       "      <td>25.0</td>\n",
       "      <td>4.276</td>\n",
       "      <td>1.634085</td>\n",
       "      <td>0.6</td>\n",
       "      <td>3.1</td>\n",
       "      <td>4.7</td>\n",
       "      <td>5.7</td>\n",
       "      <td>6.5</td>\n",
       "    </tr>\n",
       "    <tr>\n",
       "      <th>graos</th>\n",
       "      <td>25.0</td>\n",
       "      <td>3.080</td>\n",
       "      <td>2.019076</td>\n",
       "      <td>1.0</td>\n",
       "      <td>2.0</td>\n",
       "      <td>2.0</td>\n",
       "      <td>5.0</td>\n",
       "      <td>8.0</td>\n",
       "    </tr>\n",
       "    <tr>\n",
       "      <th>fruta_vegetais</th>\n",
       "      <td>25.0</td>\n",
       "      <td>4.200</td>\n",
       "      <td>1.914854</td>\n",
       "      <td>1.0</td>\n",
       "      <td>3.0</td>\n",
       "      <td>4.0</td>\n",
       "      <td>5.0</td>\n",
       "      <td>8.0</td>\n",
       "    </tr>\n",
       "  </tbody>\n",
       "</table>\n",
       "</div>"
      ],
      "text/plain": [
       "                 count    mean        std   min   25%   50%   75%   max\n",
       "carne_vermelha    25.0   9.800   3.403430   4.0   8.0  10.0  11.0  18.0\n",
       " carne_branca     25.0   7.920   3.740766   1.0   5.0   8.0  11.0  14.0\n",
       " ovos             25.0   2.936   1.117617   0.5   2.7   2.9   3.7   4.7\n",
       " leite            25.0  17.112   7.105416   4.9  11.1  17.6  23.3  33.7\n",
       " peixes           25.0   4.284   3.402533   0.2   2.1   3.4   5.8  14.2\n",
       " cereais          25.0  32.332  11.021446  19.0  24.0  28.0  40.0  57.0\n",
       " carboidratos     25.0   4.276   1.634085   0.6   3.1   4.7   5.7   6.5\n",
       " graos            25.0   3.080   2.019076   1.0   2.0   2.0   5.0   8.0\n",
       " fruta_vegetais   25.0   4.200   1.914854   1.0   3.0   4.0   5.0   8.0"
      ]
     },
     "execution_count": 5,
     "metadata": {},
     "output_type": "execute_result"
    }
   ],
   "source": [
    "consumo.describe().transpose()"
   ]
  },
  {
   "cell_type": "code",
   "execution_count": 6,
   "metadata": {},
   "outputs": [
    {
     "name": "stdout",
     "output_type": "stream",
     "text": [
      "<class 'pandas.core.frame.DataFrame'>\n",
      "RangeIndex: 25 entries, 0 to 24\n",
      "Data columns (total 10 columns):\n",
      " #   Column           Non-Null Count  Dtype  \n",
      "---  ------           --------------  -----  \n",
      " 0   Pais             25 non-null     object \n",
      " 1   carne_vermelha   25 non-null     int64  \n",
      " 2    carne_branca    25 non-null     int64  \n",
      " 3    ovos            25 non-null     float64\n",
      " 4    leite           25 non-null     float64\n",
      " 5    peixes          25 non-null     float64\n",
      " 6    cereais         25 non-null     float64\n",
      " 7    carboidratos    25 non-null     float64\n",
      " 8    graos           25 non-null     int64  \n",
      " 9    fruta_vegetais  25 non-null     int64  \n",
      "dtypes: float64(5), int64(4), object(1)\n",
      "memory usage: 2.1+ KB\n"
     ]
    }
   ],
   "source": [
    "consumo.info()"
   ]
  },
  {
   "cell_type": "code",
   "execution_count": 7,
   "metadata": {},
   "outputs": [
    {
     "data": {
      "text/plain": [
       "[8.0, 11.0, 3.0]"
      ]
     },
     "execution_count": 7,
     "metadata": {},
     "output_type": "execute_result"
    }
   ],
   "source": [
    "# Quartil: para variável carne vermelha\n",
    "Q1 = np.quantile(consumo['carne_vermelha'], 0.25)\n",
    "Q3 = np.quantile(consumo['carne_vermelha'], 0.75)\n",
    "# Intervalo Interquartil: para variável carne vermelha\n",
    "intervalo_IQ = Q3 - Q1\n",
    "\n",
    "[round(Q1,2), round(Q3,2), round(intervalo_IQ,2)]"
   ]
  },
  {
   "cell_type": "code",
   "execution_count": 8,
   "metadata": {},
   "outputs": [
    {
     "data": {
      "text/plain": [
       "0.35"
      ]
     },
     "execution_count": 8,
     "metadata": {},
     "output_type": "execute_result"
    }
   ],
   "source": [
    "#Coeficiente de Variação: para variável carne vermelha\n",
    "# Apresenta quanto o desvio padrão está dif em relação a média\n",
    "cv_carne_vermelha = consumo['carne_vermelha'].std()/consumo['carne_vermelha'].mean()\n",
    "round(cv_carne_vermelha,2)"
   ]
  },
  {
   "cell_type": "markdown",
   "metadata": {},
   "source": [
    "## BoxPlot univariado"
   ]
  },
  {
   "cell_type": "code",
   "execution_count": 9,
   "metadata": {},
   "outputs": [
    {
     "data": {
      "text/html": [
       "<div>\n",
       "<style scoped>\n",
       "    .dataframe tbody tr th:only-of-type {\n",
       "        vertical-align: middle;\n",
       "    }\n",
       "\n",
       "    .dataframe tbody tr th {\n",
       "        vertical-align: top;\n",
       "    }\n",
       "\n",
       "    .dataframe thead th {\n",
       "        text-align: right;\n",
       "    }\n",
       "</style>\n",
       "<table border=\"1\" class=\"dataframe\">\n",
       "  <thead>\n",
       "    <tr style=\"text-align: right;\">\n",
       "      <th></th>\n",
       "      <th>variable</th>\n",
       "      <th>value</th>\n",
       "    </tr>\n",
       "  </thead>\n",
       "  <tbody>\n",
       "    <tr>\n",
       "      <th>0</th>\n",
       "      <td>carne_vermelha</td>\n",
       "      <td>10.0</td>\n",
       "    </tr>\n",
       "    <tr>\n",
       "      <th>1</th>\n",
       "      <td>carne_vermelha</td>\n",
       "      <td>9.0</td>\n",
       "    </tr>\n",
       "    <tr>\n",
       "      <th>2</th>\n",
       "      <td>carne_vermelha</td>\n",
       "      <td>14.0</td>\n",
       "    </tr>\n",
       "    <tr>\n",
       "      <th>3</th>\n",
       "      <td>carne_vermelha</td>\n",
       "      <td>8.0</td>\n",
       "    </tr>\n",
       "    <tr>\n",
       "      <th>4</th>\n",
       "      <td>carne_vermelha</td>\n",
       "      <td>10.0</td>\n",
       "    </tr>\n",
       "    <tr>\n",
       "      <th>...</th>\n",
       "      <td>...</td>\n",
       "      <td>...</td>\n",
       "    </tr>\n",
       "    <tr>\n",
       "      <th>220</th>\n",
       "      <td>fruta_vegetais</td>\n",
       "      <td>5.0</td>\n",
       "    </tr>\n",
       "    <tr>\n",
       "      <th>221</th>\n",
       "      <td>fruta_vegetais</td>\n",
       "      <td>3.0</td>\n",
       "    </tr>\n",
       "    <tr>\n",
       "      <th>222</th>\n",
       "      <td>fruta_vegetais</td>\n",
       "      <td>3.0</td>\n",
       "    </tr>\n",
       "    <tr>\n",
       "      <th>223</th>\n",
       "      <td>fruta_vegetais</td>\n",
       "      <td>4.0</td>\n",
       "    </tr>\n",
       "    <tr>\n",
       "      <th>224</th>\n",
       "      <td>fruta_vegetais</td>\n",
       "      <td>3.0</td>\n",
       "    </tr>\n",
       "  </tbody>\n",
       "</table>\n",
       "<p>225 rows × 2 columns</p>\n",
       "</div>"
      ],
      "text/plain": [
       "            variable  value\n",
       "0     carne_vermelha   10.0\n",
       "1     carne_vermelha    9.0\n",
       "2     carne_vermelha   14.0\n",
       "3     carne_vermelha    8.0\n",
       "4     carne_vermelha   10.0\n",
       "..               ...    ...\n",
       "220   fruta_vegetais    5.0\n",
       "221   fruta_vegetais    3.0\n",
       "222   fruta_vegetais    3.0\n",
       "223   fruta_vegetais    4.0\n",
       "224   fruta_vegetais    3.0\n",
       "\n",
       "[225 rows x 2 columns]"
      ]
     },
     "execution_count": 9,
     "metadata": {},
     "output_type": "execute_result"
    }
   ],
   "source": [
    "# Empilha as variáveis uma embaixo da outro, construindo uma tabela com 2 colunas: variávele valor\n",
    "tabela_boxplot = pd.melt(consumo.drop(['Pais'], axis=1))\n",
    "tabela_boxplot"
   ]
  },
  {
   "cell_type": "code",
   "execution_count": 10,
   "metadata": {},
   "outputs": [
    {
     "data": {
      "text/plain": [
       "<seaborn.axisgrid.FacetGrid at 0x1660db95430>"
      ]
     },
     "execution_count": 10,
     "metadata": {},
     "output_type": "execute_result"
    },
    {
     "data": {
      "image/png": "[encoded data removed]",
      "text/plain": [
       "<Figure size 648x648 with 9 Axes>"
      ]
     },
     "metadata": {
      "needs_background": "light"
     },
     "output_type": "display_data"
    }
   ],
   "source": [
    "# Utiliza da tabela_boxplot separando por variável, com 3 colunas \n",
    "aux_boxplot = sns.FacetGrid(tabela_boxplot, col=\"variable\", col_wrap=3)\n",
    "# Constrói o boxplot\n",
    "aux_boxplot.map_dataframe(sns.boxplot)"
   ]
  },
  {
   "cell_type": "markdown",
   "metadata": {},
   "source": [
    "## Análise de Agrupamento: Método Hierárquico"
   ]
  },
  {
   "cell_type": "code",
   "execution_count": 25,
   "metadata": {},
   "outputs": [],
   "source": [
    "# Definindo o índice da base de dados\n",
    "consumo = consumo.set_index('Pais')"
   ]
  },
  {
   "cell_type": "code",
   "execution_count": 26,
   "metadata": {},
   "outputs": [],
   "source": [
    "# Importa as funções dendrograma e ligação (linkage) do Spcipy\n",
    "from scipy.cluster.hierarchy import dendrogram, linkage\n",
    "\n",
    "labelList = consumo.index"
   ]
  },
  {
   "cell_type": "code",
   "execution_count": 28,
   "metadata": {
    "scrolled": false
   },
   "outputs": [
    {
     "data": {
      "image/png": "[encoded data removed]",
      "text/plain": [
       "<Figure size 1080x360 with 1 Axes>"
      ]
     },
     "metadata": {
      "needs_background": "light"
     },
     "output_type": "display_data"
    }
   ],
   "source": [
    "# Método Single\n",
    "metodo_single = linkage(consumo, 'single')\n",
    "plt.figure(figsize=(15, 5))\n",
    "dendrogram(metodo_single)\n",
    "plt.show()"
   ]
  },
  {
   "cell_type": "markdown",
   "metadata": {},
   "source": [
    "### Exercício\n",
    "De acordo com a célula anterior, construa o dendrograma para o método Complete"
   ]
  },
  {
   "cell_type": "code",
   "execution_count": 29,
   "metadata": {},
   "outputs": [
    {
     "data": {
      "image/png": "[encoded data removed]",
      "text/plain": [
       "<Figure size 1080x360 with 1 Axes>"
      ]
     },
     "metadata": {
      "needs_background": "light"
     },
     "output_type": "display_data"
    }
   ],
   "source": [
    "# Método Complete\n",
    "# Método Single\n",
    "metodo_complete = linkage(consumo, 'complete')\n",
    "plt.figure(figsize=(15, 5))\n",
    "dendrogram(metodo_complete)\n",
    "plt.show()"
   ]
  },
  {
   "attachments": {
    "image.png": {
     "image/png": "[encoded data removed]"
    }
   },
   "cell_type": "markdown",
   "metadata": {},
   "source": [
    "## Descritiva dos grupos \n",
    "\n",
    "Analisar as características de cada grupo (20:45)\n",
    "\n",
    "![image.png](attachment:image.png)"
   ]
  },
  {
   "cell_type": "code",
   "execution_count": 33,
   "metadata": {},
   "outputs": [],
   "source": [
    "from scipy.cluster.hierarchy import fcluster\n",
    "# Na altura do corte, é selecionado a quantidade de grupos \n",
    "# (apartir da altura observada)\n",
    "corte = 27\n",
    "cluster = fcluster(metodo_complete, corte, criterion='distance')"
   ]
  },
  {
   "cell_type": "code",
   "execution_count": 32,
   "metadata": {},
   "outputs": [
    {
     "data": {
      "text/html": [
       "<div>\n",
       "<style scoped>\n",
       "    .dataframe tbody tr th:only-of-type {\n",
       "        vertical-align: middle;\n",
       "    }\n",
       "\n",
       "    .dataframe tbody tr th {\n",
       "        vertical-align: top;\n",
       "    }\n",
       "\n",
       "    .dataframe thead th {\n",
       "        text-align: right;\n",
       "    }\n",
       "</style>\n",
       "<table border=\"1\" class=\"dataframe\">\n",
       "  <thead>\n",
       "    <tr style=\"text-align: right;\">\n",
       "      <th></th>\n",
       "      <th>carne_vermelha</th>\n",
       "      <th>carne_branca</th>\n",
       "      <th>ovos</th>\n",
       "      <th>leite</th>\n",
       "      <th>peixes</th>\n",
       "      <th>cereais</th>\n",
       "      <th>carboidratos</th>\n",
       "      <th>graos</th>\n",
       "      <th>fruta_vegetais</th>\n",
       "      <th>cluster</th>\n",
       "    </tr>\n",
       "    <tr>\n",
       "      <th>Pais</th>\n",
       "      <th></th>\n",
       "      <th></th>\n",
       "      <th></th>\n",
       "      <th></th>\n",
       "      <th></th>\n",
       "      <th></th>\n",
       "      <th></th>\n",
       "      <th></th>\n",
       "      <th></th>\n",
       "      <th></th>\n",
       "    </tr>\n",
       "  </thead>\n",
       "  <tbody>\n",
       "    <tr>\n",
       "      <th>Albania</th>\n",
       "      <td>10</td>\n",
       "      <td>1</td>\n",
       "      <td>0.5</td>\n",
       "      <td>8.9</td>\n",
       "      <td>0.2</td>\n",
       "      <td>42.3</td>\n",
       "      <td>0.6</td>\n",
       "      <td>6</td>\n",
       "      <td>2</td>\n",
       "      <td>3</td>\n",
       "    </tr>\n",
       "    <tr>\n",
       "      <th>Austria</th>\n",
       "      <td>9</td>\n",
       "      <td>14</td>\n",
       "      <td>4.3</td>\n",
       "      <td>19.9</td>\n",
       "      <td>2.1</td>\n",
       "      <td>28.0</td>\n",
       "      <td>3.6</td>\n",
       "      <td>1</td>\n",
       "      <td>4</td>\n",
       "      <td>2</td>\n",
       "    </tr>\n",
       "    <tr>\n",
       "      <th>Belgium</th>\n",
       "      <td>14</td>\n",
       "      <td>9</td>\n",
       "      <td>4.1</td>\n",
       "      <td>17.5</td>\n",
       "      <td>4.5</td>\n",
       "      <td>27.0</td>\n",
       "      <td>5.7</td>\n",
       "      <td>2</td>\n",
       "      <td>4</td>\n",
       "      <td>2</td>\n",
       "    </tr>\n",
       "    <tr>\n",
       "      <th>Bulgaria</th>\n",
       "      <td>8</td>\n",
       "      <td>6</td>\n",
       "      <td>1.6</td>\n",
       "      <td>8.3</td>\n",
       "      <td>1.2</td>\n",
       "      <td>57.0</td>\n",
       "      <td>1.1</td>\n",
       "      <td>4</td>\n",
       "      <td>4</td>\n",
       "      <td>1</td>\n",
       "    </tr>\n",
       "    <tr>\n",
       "      <th>Czechoslovakia</th>\n",
       "      <td>10</td>\n",
       "      <td>11</td>\n",
       "      <td>2.8</td>\n",
       "      <td>12.5</td>\n",
       "      <td>2.0</td>\n",
       "      <td>34.0</td>\n",
       "      <td>5.0</td>\n",
       "      <td>1</td>\n",
       "      <td>4</td>\n",
       "      <td>3</td>\n",
       "    </tr>\n",
       "  </tbody>\n",
       "</table>\n",
       "</div>"
      ],
      "text/plain": [
       "                carne_vermelha   carne_branca   ovos   leite   peixes  \\\n",
       "Pais                                                                    \n",
       "Albania                     10              1    0.5     8.9      0.2   \n",
       "Austria                      9             14    4.3    19.9      2.1   \n",
       "Belgium                     14              9    4.1    17.5      4.5   \n",
       "Bulgaria                     8              6    1.6     8.3      1.2   \n",
       "Czechoslovakia              10             11    2.8    12.5      2.0   \n",
       "\n",
       "                 cereais   carboidratos   graos   fruta_vegetais  cluster  \n",
       "Pais                                                                       \n",
       "Albania             42.3            0.6       6                2        3  \n",
       "Austria             28.0            3.6       1                4        2  \n",
       "Belgium             27.0            5.7       2                4        2  \n",
       "Bulgaria            57.0            1.1       4                4        1  \n",
       "Czechoslovakia      34.0            5.0       1                4        3  "
      ]
     },
     "execution_count": 32,
     "metadata": {},
     "output_type": "execute_result"
    }
   ],
   "source": [
    "# Criando uma nova variável na base de dados consumo: cluster\n",
    "consumo['cluster'] = cluster\n",
    "consumo.head(5)"
   ]
  },
  {
   "cell_type": "code",
   "execution_count": 34,
   "metadata": {},
   "outputs": [
    {
     "data": {
      "text/html": [
       "<div>\n",
       "<style scoped>\n",
       "    .dataframe tbody tr th:only-of-type {\n",
       "        vertical-align: middle;\n",
       "    }\n",
       "\n",
       "    .dataframe tbody tr th {\n",
       "        vertical-align: top;\n",
       "    }\n",
       "\n",
       "    .dataframe thead th {\n",
       "        text-align: right;\n",
       "    }\n",
       "</style>\n",
       "<table border=\"1\" class=\"dataframe\">\n",
       "  <thead>\n",
       "    <tr style=\"text-align: right;\">\n",
       "      <th></th>\n",
       "      <th>cluster</th>\n",
       "      <th>variable</th>\n",
       "      <th>value</th>\n",
       "    </tr>\n",
       "  </thead>\n",
       "  <tbody>\n",
       "    <tr>\n",
       "      <th>0</th>\n",
       "      <td>3</td>\n",
       "      <td>carne_vermelha</td>\n",
       "      <td>10.0</td>\n",
       "    </tr>\n",
       "    <tr>\n",
       "      <th>1</th>\n",
       "      <td>2</td>\n",
       "      <td>carne_vermelha</td>\n",
       "      <td>9.0</td>\n",
       "    </tr>\n",
       "    <tr>\n",
       "      <th>2</th>\n",
       "      <td>2</td>\n",
       "      <td>carne_vermelha</td>\n",
       "      <td>14.0</td>\n",
       "    </tr>\n",
       "    <tr>\n",
       "      <th>3</th>\n",
       "      <td>1</td>\n",
       "      <td>carne_vermelha</td>\n",
       "      <td>8.0</td>\n",
       "    </tr>\n",
       "    <tr>\n",
       "      <th>4</th>\n",
       "      <td>3</td>\n",
       "      <td>carne_vermelha</td>\n",
       "      <td>10.0</td>\n",
       "    </tr>\n",
       "    <tr>\n",
       "      <th>...</th>\n",
       "      <td>...</td>\n",
       "      <td>...</td>\n",
       "      <td>...</td>\n",
       "    </tr>\n",
       "    <tr>\n",
       "      <th>220</th>\n",
       "      <td>2</td>\n",
       "      <td>fruta_vegetais</td>\n",
       "      <td>5.0</td>\n",
       "    </tr>\n",
       "    <tr>\n",
       "      <th>221</th>\n",
       "      <td>2</td>\n",
       "      <td>fruta_vegetais</td>\n",
       "      <td>3.0</td>\n",
       "    </tr>\n",
       "    <tr>\n",
       "      <th>222</th>\n",
       "      <td>3</td>\n",
       "      <td>fruta_vegetais</td>\n",
       "      <td>3.0</td>\n",
       "    </tr>\n",
       "    <tr>\n",
       "      <th>223</th>\n",
       "      <td>2</td>\n",
       "      <td>fruta_vegetais</td>\n",
       "      <td>4.0</td>\n",
       "    </tr>\n",
       "    <tr>\n",
       "      <th>224</th>\n",
       "      <td>1</td>\n",
       "      <td>fruta_vegetais</td>\n",
       "      <td>3.0</td>\n",
       "    </tr>\n",
       "  </tbody>\n",
       "</table>\n",
       "<p>225 rows × 3 columns</p>\n",
       "</div>"
      ],
      "text/plain": [
       "     cluster         variable  value\n",
       "0          3   carne_vermelha   10.0\n",
       "1          2   carne_vermelha    9.0\n",
       "2          2   carne_vermelha   14.0\n",
       "3          1   carne_vermelha    8.0\n",
       "4          3   carne_vermelha   10.0\n",
       "..       ...              ...    ...\n",
       "220        2   fruta_vegetais    5.0\n",
       "221        2   fruta_vegetais    3.0\n",
       "222        3   fruta_vegetais    3.0\n",
       "223        2   fruta_vegetais    4.0\n",
       "224        1   fruta_vegetais    3.0\n",
       "\n",
       "[225 rows x 3 columns]"
      ]
     },
     "execution_count": 34,
     "metadata": {},
     "output_type": "execute_result"
    }
   ],
   "source": [
    "# Empilhando a base de dados em 3 colunas: cluster, variável e indicador de consumo alimentar\n",
    "tabela_cluster = pd.melt(consumo, id_vars='cluster')\n",
    "tabela_cluster"
   ]
  },
  {
   "cell_type": "code",
   "execution_count": 44,
   "metadata": {},
   "outputs": [
    {
     "data": {
      "text/plain": [
       "<seaborn.axisgrid.FacetGrid at 0x1661498ae80>"
      ]
     },
     "execution_count": 44,
     "metadata": {},
     "output_type": "execute_result"
    },
    {
     "data": {
      "image/png": "[encoded data removed]",
      "text/plain": [
       "<Figure size 648x648 with 9 Axes>"
      ]
     },
     "metadata": {
      "needs_background": "light"
     },
     "output_type": "display_data"
    }
   ],
   "source": [
    "# Construindo Boxplots por cluster para cada tipo de variável\n",
    "# sharey=False (Escala livre)\n",
    "g = sns.FacetGrid(tabela_cluster, col=\"variable\", sharey=False, col_wrap=3)\n",
    "g.map_dataframe(sns.boxplot, x=\"cluster\", y=\"value\")"
   ]
  },
  {
   "cell_type": "markdown",
   "metadata": {},
   "source": [
    "## Padronização das variáveis pelo Z-Score\n",
    "\n",
    "Refazendo os itens anteriores com as variáveis padronizadas"
   ]
  },
  {
   "cell_type": "code",
   "execution_count": 36,
   "metadata": {},
   "outputs": [],
   "source": [
    "#Leitura da base de dados\n",
    "consumo = pd.read_table(\"Consumo_Alimentos.txt\", sep='\\t', decimal=\".\")\n",
    "\n",
    "# Considerar coluna País como índice\n",
    "consumo = consumo.set_index('Pais')"
   ]
  },
  {
   "cell_type": "code",
   "execution_count": 37,
   "metadata": {},
   "outputs": [],
   "source": [
    "# Utilizando a função prepocessing do Scikit-learn\n",
    "from sklearn import preprocessing"
   ]
  },
  {
   "cell_type": "code",
   "execution_count": 46,
   "metadata": {},
   "outputs": [
    {
     "data": {
      "text/html": [
       "<div>\n",
       "<style scoped>\n",
       "    .dataframe tbody tr th:only-of-type {\n",
       "        vertical-align: middle;\n",
       "    }\n",
       "\n",
       "    .dataframe tbody tr th {\n",
       "        vertical-align: top;\n",
       "    }\n",
       "\n",
       "    .dataframe thead th {\n",
       "        text-align: right;\n",
       "    }\n",
       "</style>\n",
       "<table border=\"1\" class=\"dataframe\">\n",
       "  <thead>\n",
       "    <tr style=\"text-align: right;\">\n",
       "      <th></th>\n",
       "      <th>carne_vermelha</th>\n",
       "      <th>carne_branca</th>\n",
       "      <th>ovos</th>\n",
       "      <th>leite</th>\n",
       "      <th>peixes</th>\n",
       "      <th>cereais</th>\n",
       "      <th>carboidratos</th>\n",
       "      <th>graos</th>\n",
       "      <th>fruta_vegetais</th>\n",
       "    </tr>\n",
       "    <tr>\n",
       "      <th>Pais</th>\n",
       "      <th></th>\n",
       "      <th></th>\n",
       "      <th></th>\n",
       "      <th></th>\n",
       "      <th></th>\n",
       "      <th></th>\n",
       "      <th></th>\n",
       "      <th></th>\n",
       "      <th></th>\n",
       "    </tr>\n",
       "  </thead>\n",
       "  <tbody>\n",
       "    <tr>\n",
       "      <th>Albania</th>\n",
       "      <td>0.059976</td>\n",
       "      <td>-1.888034</td>\n",
       "      <td>-2.224584</td>\n",
       "      <td>-1.179570</td>\n",
       "      <td>-1.225033</td>\n",
       "      <td>0.923068</td>\n",
       "      <td>-2.295965</td>\n",
       "      <td>1.476028</td>\n",
       "      <td>-1.172604</td>\n",
       "    </tr>\n",
       "    <tr>\n",
       "      <th>Austria</th>\n",
       "      <td>-0.239904</td>\n",
       "      <td>1.658851</td>\n",
       "      <td>1.245621</td>\n",
       "      <td>0.400468</td>\n",
       "      <td>-0.655111</td>\n",
       "      <td>-0.401157</td>\n",
       "      <td>-0.422218</td>\n",
       "      <td>-1.051417</td>\n",
       "      <td>-0.106600</td>\n",
       "    </tr>\n",
       "    <tr>\n",
       "      <th>Belgium</th>\n",
       "      <td>1.259496</td>\n",
       "      <td>0.294664</td>\n",
       "      <td>1.062979</td>\n",
       "      <td>0.055732</td>\n",
       "      <td>0.064791</td>\n",
       "      <td>-0.493760</td>\n",
       "      <td>0.889405</td>\n",
       "      <td>-0.545928</td>\n",
       "      <td>-0.106600</td>\n",
       "    </tr>\n",
       "    <tr>\n",
       "      <th>Bulgaria</th>\n",
       "      <td>-0.539784</td>\n",
       "      <td>-0.523848</td>\n",
       "      <td>-1.220051</td>\n",
       "      <td>-1.265754</td>\n",
       "      <td>-0.925074</td>\n",
       "      <td>2.284335</td>\n",
       "      <td>-1.983674</td>\n",
       "      <td>0.465050</td>\n",
       "      <td>-0.106600</td>\n",
       "    </tr>\n",
       "    <tr>\n",
       "      <th>Czechoslovakia</th>\n",
       "      <td>0.059976</td>\n",
       "      <td>0.840339</td>\n",
       "      <td>-0.124197</td>\n",
       "      <td>-0.662467</td>\n",
       "      <td>-0.685107</td>\n",
       "      <td>0.154462</td>\n",
       "      <td>0.452198</td>\n",
       "      <td>-1.051417</td>\n",
       "      <td>-0.106600</td>\n",
       "    </tr>\n",
       "  </tbody>\n",
       "</table>\n",
       "</div>"
      ],
      "text/plain": [
       "                carne_vermelha   carne_branca      ovos     leite    peixes  \\\n",
       "Pais                                                                          \n",
       "Albania               0.059976      -1.888034 -2.224584 -1.179570 -1.225033   \n",
       "Austria              -0.239904       1.658851  1.245621  0.400468 -0.655111   \n",
       "Belgium               1.259496       0.294664  1.062979  0.055732  0.064791   \n",
       "Bulgaria             -0.539784      -0.523848 -1.220051 -1.265754 -0.925074   \n",
       "Czechoslovakia        0.059976       0.840339 -0.124197 -0.662467 -0.685107   \n",
       "\n",
       "                 cereais   carboidratos     graos   fruta_vegetais  \n",
       "Pais                                                                \n",
       "Albania         0.923068      -2.295965  1.476028        -1.172604  \n",
       "Austria        -0.401157      -0.422218 -1.051417        -0.106600  \n",
       "Belgium        -0.493760       0.889405 -0.545928        -0.106600  \n",
       "Bulgaria        2.284335      -1.983674  0.465050        -0.106600  \n",
       "Czechoslovakia  0.154462       0.452198 -1.051417        -0.106600  "
      ]
     },
     "execution_count": 46,
     "metadata": {},
     "output_type": "execute_result"
    }
   ],
   "source": [
    "# Função \"preprocessing.StandardScaler().fit(consumo)\"\n",
    "# transforma as variáveis originais de \"consumo\" no Z-score\n",
    "#\n",
    "# Empilha as variáveis uma embaixo da outra, \n",
    "# construindo uma tabela com 2 colunas: variávele valor\n",
    "consumo_z = preprocessing.StandardScaler().fit(consumo).transform(consumo)\n",
    "\n",
    "# Transforma em Data Frame\n",
    "consumo_z_df = pd.DataFrame(consumo_z, index=consumo.index, columns=consumo.columns)\n",
    "consumo_z_df.head()"
   ]
  },
  {
   "cell_type": "code",
   "execution_count": 39,
   "metadata": {},
   "outputs": [
    {
     "data": {
      "text/html": [
       "<div>\n",
       "<style scoped>\n",
       "    .dataframe tbody tr th:only-of-type {\n",
       "        vertical-align: middle;\n",
       "    }\n",
       "\n",
       "    .dataframe tbody tr th {\n",
       "        vertical-align: top;\n",
       "    }\n",
       "\n",
       "    .dataframe thead th {\n",
       "        text-align: right;\n",
       "    }\n",
       "</style>\n",
       "<table border=\"1\" class=\"dataframe\">\n",
       "  <thead>\n",
       "    <tr style=\"text-align: right;\">\n",
       "      <th></th>\n",
       "      <th>count</th>\n",
       "      <th>mean</th>\n",
       "      <th>std</th>\n",
       "      <th>min</th>\n",
       "      <th>25%</th>\n",
       "      <th>50%</th>\n",
       "      <th>75%</th>\n",
       "      <th>max</th>\n",
       "    </tr>\n",
       "  </thead>\n",
       "  <tbody>\n",
       "    <tr>\n",
       "      <th>carne_vermelha</th>\n",
       "      <td>25.0</td>\n",
       "      <td>-2.664535e-16</td>\n",
       "      <td>1.020621</td>\n",
       "      <td>-1.739304</td>\n",
       "      <td>-0.539784</td>\n",
       "      <td>0.059976</td>\n",
       "      <td>0.359856</td>\n",
       "      <td>2.459017</td>\n",
       "    </tr>\n",
       "    <tr>\n",
       "      <th>carne_branca</th>\n",
       "      <td>25.0</td>\n",
       "      <td>-1.776357e-17</td>\n",
       "      <td>1.020621</td>\n",
       "      <td>-1.888034</td>\n",
       "      <td>-0.796685</td>\n",
       "      <td>0.021827</td>\n",
       "      <td>0.840339</td>\n",
       "      <td>1.658851</td>\n",
       "    </tr>\n",
       "    <tr>\n",
       "      <th>ovos</th>\n",
       "      <td>25.0</td>\n",
       "      <td>4.440892e-16</td>\n",
       "      <td>1.020621</td>\n",
       "      <td>-2.224584</td>\n",
       "      <td>-0.215518</td>\n",
       "      <td>-0.032876</td>\n",
       "      <td>0.697694</td>\n",
       "      <td>1.610906</td>\n",
       "    </tr>\n",
       "    <tr>\n",
       "      <th>leite</th>\n",
       "      <td>25.0</td>\n",
       "      <td>-2.220446e-16</td>\n",
       "      <td>1.020621</td>\n",
       "      <td>-1.754130</td>\n",
       "      <td>-0.863563</td>\n",
       "      <td>0.070096</td>\n",
       "      <td>0.888843</td>\n",
       "      <td>2.382698</td>\n",
       "    </tr>\n",
       "    <tr>\n",
       "      <th>peixes</th>\n",
       "      <td>25.0</td>\n",
       "      <td>2.664535e-17</td>\n",
       "      <td>1.020621</td>\n",
       "      <td>-1.225033</td>\n",
       "      <td>-0.655111</td>\n",
       "      <td>-0.265164</td>\n",
       "      <td>0.454738</td>\n",
       "      <td>2.974394</td>\n",
       "    </tr>\n",
       "    <tr>\n",
       "      <th>cereais</th>\n",
       "      <td>25.0</td>\n",
       "      <td>-7.105427e-17</td>\n",
       "      <td>1.020621</td>\n",
       "      <td>-1.234585</td>\n",
       "      <td>-0.771570</td>\n",
       "      <td>-0.401157</td>\n",
       "      <td>0.710081</td>\n",
       "      <td>2.284335</td>\n",
       "    </tr>\n",
       "    <tr>\n",
       "      <th>carboidratos</th>\n",
       "      <td>25.0</td>\n",
       "      <td>1.509903e-16</td>\n",
       "      <td>1.020621</td>\n",
       "      <td>-2.295965</td>\n",
       "      <td>-0.734509</td>\n",
       "      <td>0.264823</td>\n",
       "      <td>0.889405</td>\n",
       "      <td>1.389071</td>\n",
       "    </tr>\n",
       "    <tr>\n",
       "      <th>graos</th>\n",
       "      <td>25.0</td>\n",
       "      <td>-3.552714e-17</td>\n",
       "      <td>1.020621</td>\n",
       "      <td>-1.051417</td>\n",
       "      <td>-0.545928</td>\n",
       "      <td>-0.545928</td>\n",
       "      <td>0.970539</td>\n",
       "      <td>2.487006</td>\n",
       "    </tr>\n",
       "    <tr>\n",
       "      <th>fruta_vegetais</th>\n",
       "      <td>25.0</td>\n",
       "      <td>-8.437695e-17</td>\n",
       "      <td>1.020621</td>\n",
       "      <td>-1.705606</td>\n",
       "      <td>-0.639602</td>\n",
       "      <td>-0.106600</td>\n",
       "      <td>0.426401</td>\n",
       "      <td>2.025407</td>\n",
       "    </tr>\n",
       "  </tbody>\n",
       "</table>\n",
       "</div>"
      ],
      "text/plain": [
       "                 count          mean       std       min       25%       50%  \\\n",
       "carne_vermelha    25.0 -2.664535e-16  1.020621 -1.739304 -0.539784  0.059976   \n",
       " carne_branca     25.0 -1.776357e-17  1.020621 -1.888034 -0.796685  0.021827   \n",
       " ovos             25.0  4.440892e-16  1.020621 -2.224584 -0.215518 -0.032876   \n",
       " leite            25.0 -2.220446e-16  1.020621 -1.754130 -0.863563  0.070096   \n",
       " peixes           25.0  2.664535e-17  1.020621 -1.225033 -0.655111 -0.265164   \n",
       " cereais          25.0 -7.105427e-17  1.020621 -1.234585 -0.771570 -0.401157   \n",
       " carboidratos     25.0  1.509903e-16  1.020621 -2.295965 -0.734509  0.264823   \n",
       " graos            25.0 -3.552714e-17  1.020621 -1.051417 -0.545928 -0.545928   \n",
       " fruta_vegetais   25.0 -8.437695e-17  1.020621 -1.705606 -0.639602 -0.106600   \n",
       "\n",
       "                      75%       max  \n",
       "carne_vermelha   0.359856  2.459017  \n",
       " carne_branca    0.840339  1.658851  \n",
       " ovos            0.697694  1.610906  \n",
       " leite           0.888843  2.382698  \n",
       " peixes          0.454738  2.974394  \n",
       " cereais         0.710081  2.284335  \n",
       " carboidratos    0.889405  1.389071  \n",
       " graos           0.970539  2.487006  \n",
       " fruta_vegetais  0.426401  2.025407  "
      ]
     },
     "execution_count": 39,
     "metadata": {},
     "output_type": "execute_result"
    }
   ],
   "source": [
    "# Mostra as medidas resumo: resultado da tranformação é ~ média zero e ~ variância um\n",
    "consumo_z_df.describe().transpose()\n",
    "\n",
    "#Media 0 e Variancia 1"
   ]
  },
  {
   "cell_type": "markdown",
   "metadata": {},
   "source": [
    "### Exercício"
   ]
  },
  {
   "cell_type": "code",
   "execution_count": 40,
   "metadata": {
    "scrolled": false
   },
   "outputs": [
    {
     "data": {
      "image/png": "[encoded data removed]",
      "text/plain": [
       "<Figure size 1080x360 with 1 Axes>"
      ]
     },
     "metadata": {
      "needs_background": "light"
     },
     "output_type": "display_data"
    }
   ],
   "source": [
    "# Método Single\n",
    "metodo_single = linkage(consumo_z_df, 'single')\n",
    "plt.figure(figsize=(15, 5))\n",
    "dendrogram(metodo_single)\n",
    "plt.show()"
   ]
  },
  {
   "cell_type": "code",
   "execution_count": 53,
   "metadata": {},
   "outputs": [
    {
     "data": {
      "image/png": "[encoded data removed]",
      "text/plain": [
       "<Figure size 1080x360 with 1 Axes>"
      ]
     },
     "metadata": {
      "needs_background": "light"
     },
     "output_type": "display_data"
    }
   ],
   "source": [
    "# Método Complete\n",
    "metodo_complete = linkage(consumo_z_df, 'complete')\n",
    "plt.figure(figsize=(15, 5))\n",
    "dendrogram(metodo_complete)\n",
    "plt.show()"
   ]
  },
  {
   "cell_type": "code",
   "execution_count": 49,
   "metadata": {},
   "outputs": [],
   "source": [
    "# from scipy.cluster.hierarchy import fcluster\n",
    "# Na altura do corte, é selecionado a quantidade de grupos \n",
    "# (apartir da altura observada)\n",
    "corte = 5\n",
    "cluster = fcluster(metodo_complete, corte, criterion='distance')"
   ]
  },
  {
   "cell_type": "code",
   "execution_count": 54,
   "metadata": {},
   "outputs": [
    {
     "data": {
      "text/html": [
       "<div>\n",
       "<style scoped>\n",
       "    .dataframe tbody tr th:only-of-type {\n",
       "        vertical-align: middle;\n",
       "    }\n",
       "\n",
       "    .dataframe tbody tr th {\n",
       "        vertical-align: top;\n",
       "    }\n",
       "\n",
       "    .dataframe thead th {\n",
       "        text-align: right;\n",
       "    }\n",
       "</style>\n",
       "<table border=\"1\" class=\"dataframe\">\n",
       "  <thead>\n",
       "    <tr style=\"text-align: right;\">\n",
       "      <th></th>\n",
       "      <th>carne_vermelha</th>\n",
       "      <th>carne_branca</th>\n",
       "      <th>ovos</th>\n",
       "      <th>leite</th>\n",
       "      <th>peixes</th>\n",
       "      <th>cereais</th>\n",
       "      <th>carboidratos</th>\n",
       "      <th>graos</th>\n",
       "      <th>fruta_vegetais</th>\n",
       "      <th>cluster</th>\n",
       "    </tr>\n",
       "    <tr>\n",
       "      <th>Pais</th>\n",
       "      <th></th>\n",
       "      <th></th>\n",
       "      <th></th>\n",
       "      <th></th>\n",
       "      <th></th>\n",
       "      <th></th>\n",
       "      <th></th>\n",
       "      <th></th>\n",
       "      <th></th>\n",
       "      <th></th>\n",
       "    </tr>\n",
       "  </thead>\n",
       "  <tbody>\n",
       "    <tr>\n",
       "      <th>Albania</th>\n",
       "      <td>10</td>\n",
       "      <td>1</td>\n",
       "      <td>0.5</td>\n",
       "      <td>8.9</td>\n",
       "      <td>0.2</td>\n",
       "      <td>42.3</td>\n",
       "      <td>0.6</td>\n",
       "      <td>6</td>\n",
       "      <td>2</td>\n",
       "      <td>4</td>\n",
       "    </tr>\n",
       "    <tr>\n",
       "      <th>Austria</th>\n",
       "      <td>9</td>\n",
       "      <td>14</td>\n",
       "      <td>4.3</td>\n",
       "      <td>19.9</td>\n",
       "      <td>2.1</td>\n",
       "      <td>28.0</td>\n",
       "      <td>3.6</td>\n",
       "      <td>1</td>\n",
       "      <td>4</td>\n",
       "      <td>2</td>\n",
       "    </tr>\n",
       "    <tr>\n",
       "      <th>Belgium</th>\n",
       "      <td>14</td>\n",
       "      <td>9</td>\n",
       "      <td>4.1</td>\n",
       "      <td>17.5</td>\n",
       "      <td>4.5</td>\n",
       "      <td>27.0</td>\n",
       "      <td>5.7</td>\n",
       "      <td>2</td>\n",
       "      <td>4</td>\n",
       "      <td>2</td>\n",
       "    </tr>\n",
       "    <tr>\n",
       "      <th>Bulgaria</th>\n",
       "      <td>8</td>\n",
       "      <td>6</td>\n",
       "      <td>1.6</td>\n",
       "      <td>8.3</td>\n",
       "      <td>1.2</td>\n",
       "      <td>57.0</td>\n",
       "      <td>1.1</td>\n",
       "      <td>4</td>\n",
       "      <td>4</td>\n",
       "      <td>4</td>\n",
       "    </tr>\n",
       "    <tr>\n",
       "      <th>Czechoslovakia</th>\n",
       "      <td>10</td>\n",
       "      <td>11</td>\n",
       "      <td>2.8</td>\n",
       "      <td>12.5</td>\n",
       "      <td>2.0</td>\n",
       "      <td>34.0</td>\n",
       "      <td>5.0</td>\n",
       "      <td>1</td>\n",
       "      <td>4</td>\n",
       "      <td>1</td>\n",
       "    </tr>\n",
       "  </tbody>\n",
       "</table>\n",
       "</div>"
      ],
      "text/plain": [
       "                carne_vermelha   carne_branca   ovos   leite   peixes  \\\n",
       "Pais                                                                    \n",
       "Albania                     10              1    0.5     8.9      0.2   \n",
       "Austria                      9             14    4.3    19.9      2.1   \n",
       "Belgium                     14              9    4.1    17.5      4.5   \n",
       "Bulgaria                     8              6    1.6     8.3      1.2   \n",
       "Czechoslovakia              10             11    2.8    12.5      2.0   \n",
       "\n",
       "                 cereais   carboidratos   graos   fruta_vegetais  cluster  \n",
       "Pais                                                                       \n",
       "Albania             42.3            0.6       6                2        4  \n",
       "Austria             28.0            3.6       1                4        2  \n",
       "Belgium             27.0            5.7       2                4        2  \n",
       "Bulgaria            57.0            1.1       4                4        4  \n",
       "Czechoslovakia      34.0            5.0       1                4        1  "
      ]
     },
     "execution_count": 54,
     "metadata": {},
     "output_type": "execute_result"
    }
   ],
   "source": [
    "# Salvando os grupos na base de dados: cluster_z (na base original)\n",
    "# BASE ORIGINAL SEMPRE - DEPOIS DA PADRONIZACAO\n",
    "consumo['cluster'] = cluster\n",
    "consumo.head(5)"
   ]
  },
  {
   "cell_type": "code",
   "execution_count": 55,
   "metadata": {},
   "outputs": [
    {
     "data": {
      "text/html": [
       "<div>\n",
       "<style scoped>\n",
       "    .dataframe tbody tr th:only-of-type {\n",
       "        vertical-align: middle;\n",
       "    }\n",
       "\n",
       "    .dataframe tbody tr th {\n",
       "        vertical-align: top;\n",
       "    }\n",
       "\n",
       "    .dataframe thead th {\n",
       "        text-align: right;\n",
       "    }\n",
       "</style>\n",
       "<table border=\"1\" class=\"dataframe\">\n",
       "  <thead>\n",
       "    <tr style=\"text-align: right;\">\n",
       "      <th></th>\n",
       "      <th>cluster</th>\n",
       "      <th>variable</th>\n",
       "      <th>value</th>\n",
       "    </tr>\n",
       "  </thead>\n",
       "  <tbody>\n",
       "    <tr>\n",
       "      <th>0</th>\n",
       "      <td>4</td>\n",
       "      <td>carne_vermelha</td>\n",
       "      <td>10.0</td>\n",
       "    </tr>\n",
       "    <tr>\n",
       "      <th>1</th>\n",
       "      <td>2</td>\n",
       "      <td>carne_vermelha</td>\n",
       "      <td>9.0</td>\n",
       "    </tr>\n",
       "    <tr>\n",
       "      <th>2</th>\n",
       "      <td>2</td>\n",
       "      <td>carne_vermelha</td>\n",
       "      <td>14.0</td>\n",
       "    </tr>\n",
       "    <tr>\n",
       "      <th>3</th>\n",
       "      <td>4</td>\n",
       "      <td>carne_vermelha</td>\n",
       "      <td>8.0</td>\n",
       "    </tr>\n",
       "    <tr>\n",
       "      <th>4</th>\n",
       "      <td>1</td>\n",
       "      <td>carne_vermelha</td>\n",
       "      <td>10.0</td>\n",
       "    </tr>\n",
       "    <tr>\n",
       "      <th>...</th>\n",
       "      <td>...</td>\n",
       "      <td>...</td>\n",
       "      <td>...</td>\n",
       "    </tr>\n",
       "    <tr>\n",
       "      <th>220</th>\n",
       "      <td>2</td>\n",
       "      <td>fruta_vegetais</td>\n",
       "      <td>5.0</td>\n",
       "    </tr>\n",
       "    <tr>\n",
       "      <th>221</th>\n",
       "      <td>2</td>\n",
       "      <td>fruta_vegetais</td>\n",
       "      <td>3.0</td>\n",
       "    </tr>\n",
       "    <tr>\n",
       "      <th>222</th>\n",
       "      <td>1</td>\n",
       "      <td>fruta_vegetais</td>\n",
       "      <td>3.0</td>\n",
       "    </tr>\n",
       "    <tr>\n",
       "      <th>223</th>\n",
       "      <td>2</td>\n",
       "      <td>fruta_vegetais</td>\n",
       "      <td>4.0</td>\n",
       "    </tr>\n",
       "    <tr>\n",
       "      <th>224</th>\n",
       "      <td>4</td>\n",
       "      <td>fruta_vegetais</td>\n",
       "      <td>3.0</td>\n",
       "    </tr>\n",
       "  </tbody>\n",
       "</table>\n",
       "<p>225 rows × 3 columns</p>\n",
       "</div>"
      ],
      "text/plain": [
       "     cluster         variable  value\n",
       "0          4   carne_vermelha   10.0\n",
       "1          2   carne_vermelha    9.0\n",
       "2          2   carne_vermelha   14.0\n",
       "3          4   carne_vermelha    8.0\n",
       "4          1   carne_vermelha   10.0\n",
       "..       ...              ...    ...\n",
       "220        2   fruta_vegetais    5.0\n",
       "221        2   fruta_vegetais    3.0\n",
       "222        1   fruta_vegetais    3.0\n",
       "223        2   fruta_vegetais    4.0\n",
       "224        4   fruta_vegetais    3.0\n",
       "\n",
       "[225 rows x 3 columns]"
      ]
     },
     "execution_count": 55,
     "metadata": {},
     "output_type": "execute_result"
    }
   ],
   "source": [
    "# Empilhando a base de dados em 3 colunas: cluster, variável original e indicador de consumo alimentar\n",
    "tabela_cluster = pd.melt(consumo, id_vars='cluster')\n",
    "tabela_cluster"
   ]
  },
  {
   "cell_type": "code",
   "execution_count": 56,
   "metadata": {
    "scrolled": false
   },
   "outputs": [
    {
     "data": {
      "text/plain": [
       "<seaborn.axisgrid.FacetGrid at 0x1661735ab20>"
      ]
     },
     "execution_count": 56,
     "metadata": {},
     "output_type": "execute_result"
    },
    {
     "data": {
      "image/png": "[encoded data removed]",
      "text/plain": [
       "<Figure size 648x648 with 9 Axes>"
      ]
     },
     "metadata": {
      "needs_background": "light"
     },
     "output_type": "display_data"
    }
   ],
   "source": [
    "# Construindo Boxplots por cluster para cada tipo de variável\n",
    "g = sns.FacetGrid(tabela_cluster, col=\"variable\", sharey=False, col_wrap=3)\n",
    "g.map_dataframe(sns.boxplot, x=\"cluster\", y=\"value\")"
   ]
  },
  {
   "cell_type": "markdown",
   "metadata": {},
   "source": [
    "## Método k-médias"
   ]
  },
  {
   "cell_type": "code",
   "execution_count": 57,
   "metadata": {},
   "outputs": [],
   "source": [
    "#Leitura da base de dados\n",
    "consumo = pd.read_table(\"Consumo_Alimentos.txt\", sep='\\t', decimal=\".\")"
   ]
  },
  {
   "cell_type": "code",
   "execution_count": 58,
   "metadata": {},
   "outputs": [],
   "source": [
    "# Considerar coluna País como índice\n",
    "consumo = consumo.set_index('Pais')"
   ]
  },
  {
   "cell_type": "markdown",
   "metadata": {},
   "source": [
    "### Padronização"
   ]
  },
  {
   "cell_type": "code",
   "execution_count": 59,
   "metadata": {},
   "outputs": [],
   "source": [
    "# Utilizando a função prepocessing do Scikit-learn\n",
    "from sklearn import preprocessing\n",
    "\n",
    "# Função \"preprocessing.StandardScaler().fit(consumo)\" transforma as variáveis originais de \"consumo\" no Z-score\n",
    "# Empilha as variáveis uma embaixo da outro, construindo uma tabela com 2 colunas: variávele valor\n",
    "\n",
    "consumo_z = preprocessing.StandardScaler().fit(consumo).transform(consumo)\n",
    "# Transforma em Data Frame\n",
    "consumo_z_df = pd.DataFrame(consumo_z, index=consumo.index, columns=consumo.columns)"
   ]
  },
  {
   "cell_type": "code",
   "execution_count": null,
   "metadata": {},
   "outputs": [],
   "source": [
    "#round(consumo_z_df.describe().transpose(),2)"
   ]
  },
  {
   "cell_type": "code",
   "execution_count": 60,
   "metadata": {},
   "outputs": [],
   "source": [
    "# Importa do Scikit-learn o K-médias\n",
    "from sklearn.cluster import KMeans"
   ]
  },
  {
   "cell_type": "code",
   "execution_count": 61,
   "metadata": {},
   "outputs": [],
   "source": [
    "# Definição do número de centróides = k\n",
    "# random_state = semente\n",
    "kmeans = KMeans(n_clusters=4,random_state=321)"
   ]
  },
  {
   "cell_type": "code",
   "execution_count": 62,
   "metadata": {},
   "outputs": [
    {
     "data": {
      "text/plain": [
       "KMeans(n_clusters=4, random_state=321)"
      ]
     },
     "execution_count": 62,
     "metadata": {},
     "output_type": "execute_result"
    }
   ],
   "source": [
    "# Roda o método k-médias com a base padronizadas\n",
    "kmeans.fit(consumo_z_df)"
   ]
  },
  {
   "cell_type": "code",
   "execution_count": 68,
   "metadata": {},
   "outputs": [
    {
     "data": {
      "text/plain": [
       "array([ 0.05997601, -0.18280101,  0.19542735,  1.37362771,  1.18213867,\n",
       "       -0.8873235 ,  0.17113559, -0.92504503, -1.17260394])"
      ]
     },
     "execution_count": 68,
     "metadata": {},
     "output_type": "execute_result"
    }
   ],
   "source": [
    "# Mostra as k centróides, se k=4, teremos as posições de 0-3 para checar as centroides\n",
    "# Caractersticas médias do cluster ( valor do centróide )\n",
    "kmeans.cluster_centers_[3]\n",
    "#kmeans.cluster_centers_[1]"
   ]
  },
  {
   "cell_type": "code",
   "execution_count": 64,
   "metadata": {},
   "outputs": [
    {
     "data": {
      "text/plain": [
       "array([0, 2, 2, 0, 2, 1, 2, 1, 2, 3, 0, 2, 3, 2, 1, 2, 3, 0, 3, 1, 2, 2,\n",
       "       0, 2, 0])"
      ]
     },
     "execution_count": 64,
     "metadata": {},
     "output_type": "execute_result"
    }
   ],
   "source": [
    "# Mostra para cada país (índice da base), a qual cluster foi alocado\n",
    "kmeans.labels_"
   ]
  },
  {
   "cell_type": "code",
   "execution_count": 65,
   "metadata": {},
   "outputs": [
    {
     "data": {
      "text/plain": [
       "2    11\n",
       "0     6\n",
       "3     4\n",
       "1     4\n",
       "Name: clusterk_z, dtype: int64"
      ]
     },
     "execution_count": 65,
     "metadata": {},
     "output_type": "execute_result"
    }
   ],
   "source": [
    "# Atribui na base de dados os clustes\n",
    "consumo['clusterk_z'] = kmeans.labels_\n",
    "consumo['clusterk_z'].value_counts()"
   ]
  },
  {
   "cell_type": "code",
   "execution_count": 66,
   "metadata": {},
   "outputs": [
    {
     "data": {
      "text/html": [
       "<div>\n",
       "<style scoped>\n",
       "    .dataframe tbody tr th:only-of-type {\n",
       "        vertical-align: middle;\n",
       "    }\n",
       "\n",
       "    .dataframe tbody tr th {\n",
       "        vertical-align: top;\n",
       "    }\n",
       "\n",
       "    .dataframe thead th {\n",
       "        text-align: right;\n",
       "    }\n",
       "</style>\n",
       "<table border=\"1\" class=\"dataframe\">\n",
       "  <thead>\n",
       "    <tr style=\"text-align: right;\">\n",
       "      <th></th>\n",
       "      <th>clusterk_z</th>\n",
       "      <th>variable</th>\n",
       "      <th>value</th>\n",
       "    </tr>\n",
       "  </thead>\n",
       "  <tbody>\n",
       "    <tr>\n",
       "      <th>0</th>\n",
       "      <td>0</td>\n",
       "      <td>carne_vermelha</td>\n",
       "      <td>10.0</td>\n",
       "    </tr>\n",
       "    <tr>\n",
       "      <th>1</th>\n",
       "      <td>2</td>\n",
       "      <td>carne_vermelha</td>\n",
       "      <td>9.0</td>\n",
       "    </tr>\n",
       "    <tr>\n",
       "      <th>2</th>\n",
       "      <td>2</td>\n",
       "      <td>carne_vermelha</td>\n",
       "      <td>14.0</td>\n",
       "    </tr>\n",
       "    <tr>\n",
       "      <th>3</th>\n",
       "      <td>0</td>\n",
       "      <td>carne_vermelha</td>\n",
       "      <td>8.0</td>\n",
       "    </tr>\n",
       "    <tr>\n",
       "      <th>4</th>\n",
       "      <td>2</td>\n",
       "      <td>carne_vermelha</td>\n",
       "      <td>10.0</td>\n",
       "    </tr>\n",
       "    <tr>\n",
       "      <th>...</th>\n",
       "      <td>...</td>\n",
       "      <td>...</td>\n",
       "      <td>...</td>\n",
       "    </tr>\n",
       "    <tr>\n",
       "      <th>220</th>\n",
       "      <td>2</td>\n",
       "      <td>fruta_vegetais</td>\n",
       "      <td>5.0</td>\n",
       "    </tr>\n",
       "    <tr>\n",
       "      <th>221</th>\n",
       "      <td>2</td>\n",
       "      <td>fruta_vegetais</td>\n",
       "      <td>3.0</td>\n",
       "    </tr>\n",
       "    <tr>\n",
       "      <th>222</th>\n",
       "      <td>0</td>\n",
       "      <td>fruta_vegetais</td>\n",
       "      <td>3.0</td>\n",
       "    </tr>\n",
       "    <tr>\n",
       "      <th>223</th>\n",
       "      <td>2</td>\n",
       "      <td>fruta_vegetais</td>\n",
       "      <td>4.0</td>\n",
       "    </tr>\n",
       "    <tr>\n",
       "      <th>224</th>\n",
       "      <td>0</td>\n",
       "      <td>fruta_vegetais</td>\n",
       "      <td>3.0</td>\n",
       "    </tr>\n",
       "  </tbody>\n",
       "</table>\n",
       "<p>225 rows × 3 columns</p>\n",
       "</div>"
      ],
      "text/plain": [
       "     clusterk_z         variable  value\n",
       "0             0   carne_vermelha   10.0\n",
       "1             2   carne_vermelha    9.0\n",
       "2             2   carne_vermelha   14.0\n",
       "3             0   carne_vermelha    8.0\n",
       "4             2   carne_vermelha   10.0\n",
       "..          ...              ...    ...\n",
       "220           2   fruta_vegetais    5.0\n",
       "221           2   fruta_vegetais    3.0\n",
       "222           0   fruta_vegetais    3.0\n",
       "223           2   fruta_vegetais    4.0\n",
       "224           0   fruta_vegetais    3.0\n",
       "\n",
       "[225 rows x 3 columns]"
      ]
     },
     "execution_count": 66,
     "metadata": {},
     "output_type": "execute_result"
    }
   ],
   "source": [
    "# Empilha as variáveis uma embaixo da outro, construindo uma tabela com 2 colunas: variávele valor\n",
    "tabela_clusterk_z = pd.melt(consumo, id_vars='clusterk_z')\n",
    "tabela_clusterk_z"
   ]
  },
  {
   "cell_type": "code",
   "execution_count": 67,
   "metadata": {},
   "outputs": [
    {
     "data": {
      "text/plain": [
       "<seaborn.axisgrid.FacetGrid at 0x16617f9eee0>"
      ]
     },
     "execution_count": 67,
     "metadata": {},
     "output_type": "execute_result"
    },
    {
     "data": {
      "image/png": "[encoded data removed]",
      "text/plain": [
       "<Figure size 648x648 with 9 Axes>"
      ]
     },
     "metadata": {
      "needs_background": "light"
     },
     "output_type": "display_data"
    }
   ],
   "source": [
    "g = sns.FacetGrid(tabela_clusterk_z, col=\"variable\", sharey=False, col_wrap=3)\n",
    "g.map_dataframe(sns.boxplot, x=\"clusterk_z\", y=\"value\")"
   ]
  },
  {
   "cell_type": "markdown",
   "metadata": {},
   "source": [
    "## Realize novamente a Análise Cluster, considerando agora k=3"
   ]
  },
  {
   "cell_type": "code",
   "execution_count": 70,
   "metadata": {},
   "outputs": [],
   "source": [
    "# Definição do número de centróides = k\n",
    "kmeans = KMeans(n_clusters=3)"
   ]
  },
  {
   "cell_type": "code",
   "execution_count": 71,
   "metadata": {},
   "outputs": [
    {
     "data": {
      "text/plain": [
       "KMeans(n_clusters=3)"
      ]
     },
     "execution_count": 71,
     "metadata": {},
     "output_type": "execute_result"
    }
   ],
   "source": [
    "# Roda o método k-médias com a base padronizadas\n",
    "kmeans.fit(consumo_z_df)"
   ]
  },
  {
   "cell_type": "code",
   "execution_count": 73,
   "metadata": {},
   "outputs": [
    {
     "data": {
      "text/plain": [
       "array([-0.98960424, -1.20594101, -0.76344517, -1.48839594,  1.89454145,\n",
       "       -0.4011569 ,  0.95186365,  1.22328359,  1.75890591])"
      ]
     },
     "execution_count": 73,
     "metadata": {},
     "output_type": "execute_result"
    }
   ],
   "source": [
    "# Mostra as k centróides, se k=4, teremos as posições de 0-3 para checar as centroides\n",
    "# Caractersticas médias do cluster ( valor do centróide )\n",
    "kmeans.cluster_centers_[2]\n",
    "#kmeans.cluster_centers_[1]"
   ]
  },
  {
   "cell_type": "code",
   "execution_count": 74,
   "metadata": {},
   "outputs": [
    {
     "data": {
      "text/plain": [
       "array([0, 1, 1, 0, 1, 1, 1, 1, 1, 0, 0, 1, 0, 1, 1, 1, 2, 0, 2, 1, 1, 1,\n",
       "       0, 1, 0])"
      ]
     },
     "execution_count": 74,
     "metadata": {},
     "output_type": "execute_result"
    }
   ],
   "source": [
    "# Mostra para cada país (índice da base), a qual cluster foi alocado\n",
    "kmeans.labels_"
   ]
  },
  {
   "cell_type": "code",
   "execution_count": 75,
   "metadata": {},
   "outputs": [
    {
     "data": {
      "text/plain": [
       "1    15\n",
       "0     8\n",
       "2     2\n",
       "Name: clusterk_z, dtype: int64"
      ]
     },
     "execution_count": 75,
     "metadata": {},
     "output_type": "execute_result"
    }
   ],
   "source": [
    "# Atribui na base de dados os clustes\n",
    "consumo['clusterk_z'] = kmeans.labels_\n",
    "consumo['clusterk_z'].value_counts()"
   ]
  },
  {
   "cell_type": "code",
   "execution_count": 76,
   "metadata": {},
   "outputs": [
    {
     "data": {
      "text/html": [
       "<div>\n",
       "<style scoped>\n",
       "    .dataframe tbody tr th:only-of-type {\n",
       "        vertical-align: middle;\n",
       "    }\n",
       "\n",
       "    .dataframe tbody tr th {\n",
       "        vertical-align: top;\n",
       "    }\n",
       "\n",
       "    .dataframe thead th {\n",
       "        text-align: right;\n",
       "    }\n",
       "</style>\n",
       "<table border=\"1\" class=\"dataframe\">\n",
       "  <thead>\n",
       "    <tr style=\"text-align: right;\">\n",
       "      <th></th>\n",
       "      <th>clusterk_z</th>\n",
       "      <th>variable</th>\n",
       "      <th>value</th>\n",
       "    </tr>\n",
       "  </thead>\n",
       "  <tbody>\n",
       "    <tr>\n",
       "      <th>0</th>\n",
       "      <td>0</td>\n",
       "      <td>carne_vermelha</td>\n",
       "      <td>10.0</td>\n",
       "    </tr>\n",
       "    <tr>\n",
       "      <th>1</th>\n",
       "      <td>1</td>\n",
       "      <td>carne_vermelha</td>\n",
       "      <td>9.0</td>\n",
       "    </tr>\n",
       "    <tr>\n",
       "      <th>2</th>\n",
       "      <td>1</td>\n",
       "      <td>carne_vermelha</td>\n",
       "      <td>14.0</td>\n",
       "    </tr>\n",
       "    <tr>\n",
       "      <th>3</th>\n",
       "      <td>0</td>\n",
       "      <td>carne_vermelha</td>\n",
       "      <td>8.0</td>\n",
       "    </tr>\n",
       "    <tr>\n",
       "      <th>4</th>\n",
       "      <td>1</td>\n",
       "      <td>carne_vermelha</td>\n",
       "      <td>10.0</td>\n",
       "    </tr>\n",
       "    <tr>\n",
       "      <th>...</th>\n",
       "      <td>...</td>\n",
       "      <td>...</td>\n",
       "      <td>...</td>\n",
       "    </tr>\n",
       "    <tr>\n",
       "      <th>220</th>\n",
       "      <td>1</td>\n",
       "      <td>fruta_vegetais</td>\n",
       "      <td>5.0</td>\n",
       "    </tr>\n",
       "    <tr>\n",
       "      <th>221</th>\n",
       "      <td>1</td>\n",
       "      <td>fruta_vegetais</td>\n",
       "      <td>3.0</td>\n",
       "    </tr>\n",
       "    <tr>\n",
       "      <th>222</th>\n",
       "      <td>0</td>\n",
       "      <td>fruta_vegetais</td>\n",
       "      <td>3.0</td>\n",
       "    </tr>\n",
       "    <tr>\n",
       "      <th>223</th>\n",
       "      <td>1</td>\n",
       "      <td>fruta_vegetais</td>\n",
       "      <td>4.0</td>\n",
       "    </tr>\n",
       "    <tr>\n",
       "      <th>224</th>\n",
       "      <td>0</td>\n",
       "      <td>fruta_vegetais</td>\n",
       "      <td>3.0</td>\n",
       "    </tr>\n",
       "  </tbody>\n",
       "</table>\n",
       "<p>225 rows × 3 columns</p>\n",
       "</div>"
      ],
      "text/plain": [
       "     clusterk_z         variable  value\n",
       "0             0   carne_vermelha   10.0\n",
       "1             1   carne_vermelha    9.0\n",
       "2             1   carne_vermelha   14.0\n",
       "3             0   carne_vermelha    8.0\n",
       "4             1   carne_vermelha   10.0\n",
       "..          ...              ...    ...\n",
       "220           1   fruta_vegetais    5.0\n",
       "221           1   fruta_vegetais    3.0\n",
       "222           0   fruta_vegetais    3.0\n",
       "223           1   fruta_vegetais    4.0\n",
       "224           0   fruta_vegetais    3.0\n",
       "\n",
       "[225 rows x 3 columns]"
      ]
     },
     "execution_count": 76,
     "metadata": {},
     "output_type": "execute_result"
    }
   ],
   "source": [
    "# Empilha as variáveis uma embaixo da outro, construindo uma tabela com 2 colunas: variávele valor\n",
    "tabela_clusterk_z = pd.melt(consumo, id_vars='clusterk_z')\n",
    "tabela_clusterk_z"
   ]
  },
  {
   "cell_type": "code",
   "execution_count": 77,
   "metadata": {},
   "outputs": [
    {
     "data": {
      "text/plain": [
       "<seaborn.axisgrid.FacetGrid at 0x16618948d60>"
      ]
     },
     "execution_count": 77,
     "metadata": {},
     "output_type": "execute_result"
    },
    {
     "data": {
      "image/png": "[encoded data removed]",
      "text/plain": [
       "<Figure size 648x648 with 9 Axes>"
      ]
     },
     "metadata": {
      "needs_background": "light"
     },
     "output_type": "display_data"
    }
   ],
   "source": [
    "g = sns.FacetGrid(tabela_clusterk_z, col=\"variable\", sharey=False, col_wrap=3)\n",
    "g.map_dataframe(sns.boxplot, x=\"clusterk_z\", y=\"value\")"
   ]
  }
 ],
 "metadata": {
  "kernelspec": {
   "display_name": "Python 3",
   "language": "python",
   "name": "python3"
  },
  "language_info": {
   "codemirror_mode": {
    "name": "ipython",
    "version": 3
   },
   "file_extension": ".py",
   "mimetype": "text/x-python",
   "name": "python",
   "nbconvert_exporter": "python",
   "pygments_lexer": "ipython3",
   "version": "3.8.3"
  }
 },
 "nbformat": 4,
 "nbformat_minor": 4
}
