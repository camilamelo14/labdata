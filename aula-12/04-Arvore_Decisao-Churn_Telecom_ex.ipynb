{
 "cells": [
  {
   "cell_type": "code",
   "execution_count": 4,
   "metadata": {},
   "outputs": [],
   "source": [
    "# pip install CHAID"
   ]
  },
  {
   "cell_type": "code",
   "execution_count": 5,
   "metadata": {},
   "outputs": [],
   "source": [
    "from CHAID import Tree\n",
    "import numpy as np\n",
    "import pandas as pd\n",
    "import seaborn as sns\n",
    "import matplotlib.pyplot as plt\n",
    "%matplotlib inline"
   ]
  },
  {
   "cell_type": "code",
   "execution_count": 6,
   "metadata": {},
   "outputs": [
    {
     "data": {
      "text/html": [
       "<div>\n",
       "<style scoped>\n",
       "    .dataframe tbody tr th:only-of-type {\n",
       "        vertical-align: middle;\n",
       "    }\n",
       "\n",
       "    .dataframe tbody tr th {\n",
       "        vertical-align: top;\n",
       "    }\n",
       "\n",
       "    .dataframe thead th {\n",
       "        text-align: right;\n",
       "    }\n",
       "</style>\n",
       "<table border=\"1\" class=\"dataframe\">\n",
       "  <thead>\n",
       "    <tr style=\"text-align: right;\">\n",
       "      <th></th>\n",
       "      <th>cod_cliente</th>\n",
       "      <th>Minutos_realizados_T0</th>\n",
       "      <th>Tempo_casa</th>\n",
       "      <th>Qtd_retencao_6meses</th>\n",
       "      <th>Qtd_prod</th>\n",
       "      <th>resposta</th>\n",
       "    </tr>\n",
       "  </thead>\n",
       "  <tbody>\n",
       "    <tr>\n",
       "      <th>0</th>\n",
       "      <td>1</td>\n",
       "      <td>1.848</td>\n",
       "      <td>127</td>\n",
       "      <td>0</td>\n",
       "      <td>0</td>\n",
       "      <td>0</td>\n",
       "    </tr>\n",
       "    <tr>\n",
       "      <th>1</th>\n",
       "      <td>2</td>\n",
       "      <td>38.137</td>\n",
       "      <td>187</td>\n",
       "      <td>0</td>\n",
       "      <td>2</td>\n",
       "      <td>0</td>\n",
       "    </tr>\n",
       "    <tr>\n",
       "      <th>2</th>\n",
       "      <td>3</td>\n",
       "      <td>74.415</td>\n",
       "      <td>158</td>\n",
       "      <td>0</td>\n",
       "      <td>2</td>\n",
       "      <td>0</td>\n",
       "    </tr>\n",
       "    <tr>\n",
       "      <th>3</th>\n",
       "      <td>4</td>\n",
       "      <td>13.002</td>\n",
       "      <td>137</td>\n",
       "      <td>0</td>\n",
       "      <td>0</td>\n",
       "      <td>0</td>\n",
       "    </tr>\n",
       "    <tr>\n",
       "      <th>4</th>\n",
       "      <td>5</td>\n",
       "      <td>7.172</td>\n",
       "      <td>133</td>\n",
       "      <td>0</td>\n",
       "      <td>2</td>\n",
       "      <td>0</td>\n",
       "    </tr>\n",
       "  </tbody>\n",
       "</table>\n",
       "</div>"
      ],
      "text/plain": [
       "   cod_cliente  Minutos_realizados_T0  Tempo_casa  Qtd_retencao_6meses  \\\n",
       "0            1                  1.848         127                    0   \n",
       "1            2                 38.137         187                    0   \n",
       "2            3                 74.415         158                    0   \n",
       "3            4                 13.002         137                    0   \n",
       "4            5                  7.172         133                    0   \n",
       "\n",
       "   Qtd_prod  resposta  \n",
       "0         0         0  \n",
       "1         2         0  \n",
       "2         2         0  \n",
       "3         0         0  \n",
       "4         2         0  "
      ]
     },
     "execution_count": 6,
     "metadata": {},
     "output_type": "execute_result"
    }
   ],
   "source": [
    "# Leitura dos dados\n",
    "telefonia = pd.read_table(\"Telefonia_AD.txt\")\n",
    "telefonia.head()"
   ]
  },
  {
   "cell_type": "code",
   "execution_count": 7,
   "metadata": {},
   "outputs": [
    {
     "data": {
      "text/plain": [
       "cod_cliente                int64\n",
       "Minutos_realizados_T0    float64\n",
       "Tempo_casa                 int64\n",
       "Qtd_retencao_6meses        int64\n",
       "Qtd_prod                   int64\n",
       "resposta                   int64\n",
       "dtype: object"
      ]
     },
     "execution_count": 7,
     "metadata": {},
     "output_type": "execute_result"
    }
   ],
   "source": [
    "telefonia.dtypes"
   ]
  },
  {
   "cell_type": "code",
   "execution_count": 8,
   "metadata": {},
   "outputs": [
    {
     "data": {
      "text/plain": [
       "(318463, 6)"
      ]
     },
     "execution_count": 8,
     "metadata": {},
     "output_type": "execute_result"
    }
   ],
   "source": [
    "telefonia.shape"
   ]
  },
  {
   "cell_type": "code",
   "execution_count": 9,
   "metadata": {},
   "outputs": [
    {
     "data": {
      "text/html": [
       "<div>\n",
       "<style scoped>\n",
       "    .dataframe tbody tr th:only-of-type {\n",
       "        vertical-align: middle;\n",
       "    }\n",
       "\n",
       "    .dataframe tbody tr th {\n",
       "        vertical-align: top;\n",
       "    }\n",
       "\n",
       "    .dataframe thead th {\n",
       "        text-align: right;\n",
       "    }\n",
       "</style>\n",
       "<table border=\"1\" class=\"dataframe\">\n",
       "  <thead>\n",
       "    <tr style=\"text-align: right;\">\n",
       "      <th></th>\n",
       "      <th>count</th>\n",
       "      <th>mean</th>\n",
       "      <th>std</th>\n",
       "      <th>min</th>\n",
       "      <th>25%</th>\n",
       "      <th>50%</th>\n",
       "      <th>75%</th>\n",
       "      <th>max</th>\n",
       "    </tr>\n",
       "  </thead>\n",
       "  <tbody>\n",
       "    <tr>\n",
       "      <th>cod_cliente</th>\n",
       "      <td>318463.0</td>\n",
       "      <td>159232.000000</td>\n",
       "      <td>91932.493726</td>\n",
       "      <td>1.000</td>\n",
       "      <td>79616.500</td>\n",
       "      <td>159232.000</td>\n",
       "      <td>238847.50000</td>\n",
       "      <td>318463.000</td>\n",
       "    </tr>\n",
       "    <tr>\n",
       "      <th>Minutos_realizados_T0</th>\n",
       "      <td>296340.0</td>\n",
       "      <td>130.239079</td>\n",
       "      <td>222.233789</td>\n",
       "      <td>0.022</td>\n",
       "      <td>21.681</td>\n",
       "      <td>56.408</td>\n",
       "      <td>136.45775</td>\n",
       "      <td>1474.066</td>\n",
       "    </tr>\n",
       "    <tr>\n",
       "      <th>Tempo_casa</th>\n",
       "      <td>318463.0</td>\n",
       "      <td>109.892540</td>\n",
       "      <td>58.811786</td>\n",
       "      <td>3.000</td>\n",
       "      <td>72.000</td>\n",
       "      <td>101.000</td>\n",
       "      <td>149.00000</td>\n",
       "      <td>230.000</td>\n",
       "    </tr>\n",
       "    <tr>\n",
       "      <th>Qtd_retencao_6meses</th>\n",
       "      <td>318463.0</td>\n",
       "      <td>0.187202</td>\n",
       "      <td>0.585582</td>\n",
       "      <td>0.000</td>\n",
       "      <td>0.000</td>\n",
       "      <td>0.000</td>\n",
       "      <td>0.00000</td>\n",
       "      <td>45.000</td>\n",
       "    </tr>\n",
       "    <tr>\n",
       "      <th>Qtd_prod</th>\n",
       "      <td>318463.0</td>\n",
       "      <td>0.729912</td>\n",
       "      <td>0.951895</td>\n",
       "      <td>0.000</td>\n",
       "      <td>0.000</td>\n",
       "      <td>1.000</td>\n",
       "      <td>1.00000</td>\n",
       "      <td>30.000</td>\n",
       "    </tr>\n",
       "    <tr>\n",
       "      <th>resposta</th>\n",
       "      <td>318463.0</td>\n",
       "      <td>0.008685</td>\n",
       "      <td>0.092790</td>\n",
       "      <td>0.000</td>\n",
       "      <td>0.000</td>\n",
       "      <td>0.000</td>\n",
       "      <td>0.00000</td>\n",
       "      <td>1.000</td>\n",
       "    </tr>\n",
       "  </tbody>\n",
       "</table>\n",
       "</div>"
      ],
      "text/plain": [
       "                          count           mean           std    min  \\\n",
       "cod_cliente            318463.0  159232.000000  91932.493726  1.000   \n",
       "Minutos_realizados_T0  296340.0     130.239079    222.233789  0.022   \n",
       "Tempo_casa             318463.0     109.892540     58.811786  3.000   \n",
       "Qtd_retencao_6meses    318463.0       0.187202      0.585582  0.000   \n",
       "Qtd_prod               318463.0       0.729912      0.951895  0.000   \n",
       "resposta               318463.0       0.008685      0.092790  0.000   \n",
       "\n",
       "                             25%         50%           75%         max  \n",
       "cod_cliente            79616.500  159232.000  238847.50000  318463.000  \n",
       "Minutos_realizados_T0     21.681      56.408     136.45775    1474.066  \n",
       "Tempo_casa                72.000     101.000     149.00000     230.000  \n",
       "Qtd_retencao_6meses        0.000       0.000       0.00000      45.000  \n",
       "Qtd_prod                   0.000       1.000       1.00000      30.000  \n",
       "resposta                   0.000       0.000       0.00000       1.000  "
      ]
     },
     "execution_count": 9,
     "metadata": {},
     "output_type": "execute_result"
    }
   ],
   "source": [
    "telefonia.describe().transpose()"
   ]
  },
  {
   "cell_type": "code",
   "execution_count": 10,
   "metadata": {},
   "outputs": [
    {
     "data": {
      "text/plain": [
       "cod_cliente                  0\n",
       "Minutos_realizados_T0    22123\n",
       "Tempo_casa                   0\n",
       "Qtd_retencao_6meses          0\n",
       "Qtd_prod                     0\n",
       "resposta                     0\n",
       "dtype: int64"
      ]
     },
     "execution_count": 10,
     "metadata": {},
     "output_type": "execute_result"
    }
   ],
   "source": [
    "# Verificando quantidade de missings\n",
    "telefonia.isnull().sum()"
   ]
  },
  {
   "cell_type": "code",
   "execution_count": 11,
   "metadata": {},
   "outputs": [],
   "source": [
    "# Tratamento da variável Minutos_realizados_T0\n",
    "telefonia.Minutos_realizados_T0 = telefonia.Minutos_realizados_T0.fillna(0)"
   ]
  },
  {
   "cell_type": "code",
   "execution_count": 12,
   "metadata": {},
   "outputs": [],
   "source": [
    "# Como a variável explicativa também deve ser categórica, \n",
    "# vamos segmentar a Idade em quartil\n",
    "telefonia['Minutos_realizados_T0_q'] = pd.qcut(telefonia.Minutos_realizados_T0, 4)\n",
    "telefonia['Tempo_casa_q'] = pd.qcut(telefonia.Tempo_casa, 4)\n",
    "telefonia['Qtd_retencao_6meses_q'] = pd.qcut(telefonia.Qtd_retencao_6meses, 4, duplicates='drop')\n",
    "telefonia['Qtd_prod_q'] = pd.qcut(telefonia.Qtd_prod, 4, duplicates='drop')"
   ]
  },
  {
   "cell_type": "code",
   "execution_count": 13,
   "metadata": {},
   "outputs": [
    {
     "data": {
      "text/html": [
       "<div>\n",
       "<style scoped>\n",
       "    .dataframe tbody tr th:only-of-type {\n",
       "        vertical-align: middle;\n",
       "    }\n",
       "\n",
       "    .dataframe tbody tr th {\n",
       "        vertical-align: top;\n",
       "    }\n",
       "\n",
       "    .dataframe thead th {\n",
       "        text-align: right;\n",
       "    }\n",
       "</style>\n",
       "<table border=\"1\" class=\"dataframe\">\n",
       "  <thead>\n",
       "    <tr style=\"text-align: right;\">\n",
       "      <th>resposta</th>\n",
       "      <th>0</th>\n",
       "      <th>1</th>\n",
       "      <th>All</th>\n",
       "    </tr>\n",
       "    <tr>\n",
       "      <th>Minutos_realizados_T0_q</th>\n",
       "      <th></th>\n",
       "      <th></th>\n",
       "      <th></th>\n",
       "    </tr>\n",
       "  </thead>\n",
       "  <tbody>\n",
       "    <tr>\n",
       "      <th>(-0.001, 16.082]</th>\n",
       "      <td>78480</td>\n",
       "      <td>1141</td>\n",
       "      <td>79621</td>\n",
       "    </tr>\n",
       "    <tr>\n",
       "      <th>(16.082, 49.72]</th>\n",
       "      <td>79056</td>\n",
       "      <td>558</td>\n",
       "      <td>79614</td>\n",
       "    </tr>\n",
       "    <tr>\n",
       "      <th>(49.72, 126.731]</th>\n",
       "      <td>79101</td>\n",
       "      <td>514</td>\n",
       "      <td>79615</td>\n",
       "    </tr>\n",
       "    <tr>\n",
       "      <th>(126.731, 1474.066]</th>\n",
       "      <td>79060</td>\n",
       "      <td>553</td>\n",
       "      <td>79613</td>\n",
       "    </tr>\n",
       "    <tr>\n",
       "      <th>All</th>\n",
       "      <td>315697</td>\n",
       "      <td>2766</td>\n",
       "      <td>318463</td>\n",
       "    </tr>\n",
       "  </tbody>\n",
       "</table>\n",
       "</div>"
      ],
      "text/plain": [
       "resposta                      0     1     All\n",
       "Minutos_realizados_T0_q                      \n",
       "(-0.001, 16.082]          78480  1141   79621\n",
       "(16.082, 49.72]           79056   558   79614\n",
       "(49.72, 126.731]          79101   514   79615\n",
       "(126.731, 1474.066]       79060   553   79613\n",
       "All                      315697  2766  318463"
      ]
     },
     "execution_count": 13,
     "metadata": {},
     "output_type": "execute_result"
    }
   ],
   "source": [
    "# Tabela Bidimensional: covariável x resposta\n",
    "minutos_tab = pd.crosstab(telefonia[\"Minutos_realizados_T0_q\"],telefonia[\"resposta\"],margins=True)\n",
    "minutos_tab"
   ]
  },
  {
   "cell_type": "code",
   "execution_count": 14,
   "metadata": {},
   "outputs": [
    {
     "data": {
      "text/html": [
       "<div>\n",
       "<style scoped>\n",
       "    .dataframe tbody tr th:only-of-type {\n",
       "        vertical-align: middle;\n",
       "    }\n",
       "\n",
       "    .dataframe tbody tr th {\n",
       "        vertical-align: top;\n",
       "    }\n",
       "\n",
       "    .dataframe thead th {\n",
       "        text-align: right;\n",
       "    }\n",
       "</style>\n",
       "<table border=\"1\" class=\"dataframe\">\n",
       "  <thead>\n",
       "    <tr style=\"text-align: right;\">\n",
       "      <th>resposta</th>\n",
       "      <th>0</th>\n",
       "      <th>1</th>\n",
       "      <th>All</th>\n",
       "    </tr>\n",
       "    <tr>\n",
       "      <th>Tempo_casa_q</th>\n",
       "      <th></th>\n",
       "      <th></th>\n",
       "      <th></th>\n",
       "    </tr>\n",
       "  </thead>\n",
       "  <tbody>\n",
       "    <tr>\n",
       "      <th>(2.999, 72.0]</th>\n",
       "      <td>82167</td>\n",
       "      <td>1505</td>\n",
       "      <td>83672</td>\n",
       "    </tr>\n",
       "    <tr>\n",
       "      <th>(72.0, 101.0]</th>\n",
       "      <td>80505</td>\n",
       "      <td>604</td>\n",
       "      <td>81109</td>\n",
       "    </tr>\n",
       "    <tr>\n",
       "      <th>(101.0, 149.0]</th>\n",
       "      <td>74097</td>\n",
       "      <td>397</td>\n",
       "      <td>74494</td>\n",
       "    </tr>\n",
       "    <tr>\n",
       "      <th>(149.0, 230.0]</th>\n",
       "      <td>78928</td>\n",
       "      <td>260</td>\n",
       "      <td>79188</td>\n",
       "    </tr>\n",
       "    <tr>\n",
       "      <th>All</th>\n",
       "      <td>315697</td>\n",
       "      <td>2766</td>\n",
       "      <td>318463</td>\n",
       "    </tr>\n",
       "  </tbody>\n",
       "</table>\n",
       "</div>"
      ],
      "text/plain": [
       "resposta             0     1     All\n",
       "Tempo_casa_q                        \n",
       "(2.999, 72.0]    82167  1505   83672\n",
       "(72.0, 101.0]    80505   604   81109\n",
       "(101.0, 149.0]   74097   397   74494\n",
       "(149.0, 230.0]   78928   260   79188\n",
       "All             315697  2766  318463"
      ]
     },
     "execution_count": 14,
     "metadata": {},
     "output_type": "execute_result"
    }
   ],
   "source": [
    "tempo_casa_tab = pd.crosstab(telefonia[\"Tempo_casa_q\"],telefonia[\"resposta\"],margins=True)\n",
    "tempo_casa_tab"
   ]
  },
  {
   "cell_type": "code",
   "execution_count": 15,
   "metadata": {},
   "outputs": [
    {
     "data": {
      "text/html": [
       "<div>\n",
       "<style scoped>\n",
       "    .dataframe tbody tr th:only-of-type {\n",
       "        vertical-align: middle;\n",
       "    }\n",
       "\n",
       "    .dataframe tbody tr th {\n",
       "        vertical-align: top;\n",
       "    }\n",
       "\n",
       "    .dataframe thead th {\n",
       "        text-align: right;\n",
       "    }\n",
       "</style>\n",
       "<table border=\"1\" class=\"dataframe\">\n",
       "  <thead>\n",
       "    <tr style=\"text-align: right;\">\n",
       "      <th>resposta</th>\n",
       "      <th>0</th>\n",
       "      <th>1</th>\n",
       "      <th>All</th>\n",
       "    </tr>\n",
       "    <tr>\n",
       "      <th>Qtd_retencao_6meses_q</th>\n",
       "      <th></th>\n",
       "      <th></th>\n",
       "      <th></th>\n",
       "    </tr>\n",
       "  </thead>\n",
       "  <tbody>\n",
       "    <tr>\n",
       "      <th>(-0.001, 45.0]</th>\n",
       "      <td>315697</td>\n",
       "      <td>2766</td>\n",
       "      <td>318463</td>\n",
       "    </tr>\n",
       "    <tr>\n",
       "      <th>All</th>\n",
       "      <td>315697</td>\n",
       "      <td>2766</td>\n",
       "      <td>318463</td>\n",
       "    </tr>\n",
       "  </tbody>\n",
       "</table>\n",
       "</div>"
      ],
      "text/plain": [
       "resposta                    0     1     All\n",
       "Qtd_retencao_6meses_q                      \n",
       "(-0.001, 45.0]         315697  2766  318463\n",
       "All                    315697  2766  318463"
      ]
     },
     "execution_count": 15,
     "metadata": {},
     "output_type": "execute_result"
    }
   ],
   "source": [
    "qtd_retencao_tab = pd.crosstab(telefonia[\"Qtd_retencao_6meses_q\"],telefonia[\"resposta\"],margins=True)\n",
    "qtd_retencao_tab"
   ]
  },
  {
   "cell_type": "code",
   "execution_count": 16,
   "metadata": {},
   "outputs": [
    {
     "data": {
      "text/html": [
       "<div>\n",
       "<style scoped>\n",
       "    .dataframe tbody tr th:only-of-type {\n",
       "        vertical-align: middle;\n",
       "    }\n",
       "\n",
       "    .dataframe tbody tr th {\n",
       "        vertical-align: top;\n",
       "    }\n",
       "\n",
       "    .dataframe thead th {\n",
       "        text-align: right;\n",
       "    }\n",
       "</style>\n",
       "<table border=\"1\" class=\"dataframe\">\n",
       "  <thead>\n",
       "    <tr style=\"text-align: right;\">\n",
       "      <th>resposta</th>\n",
       "      <th>0</th>\n",
       "      <th>1</th>\n",
       "      <th>All</th>\n",
       "    </tr>\n",
       "    <tr>\n",
       "      <th>Qtd_prod_q</th>\n",
       "      <th></th>\n",
       "      <th></th>\n",
       "      <th></th>\n",
       "    </tr>\n",
       "  </thead>\n",
       "  <tbody>\n",
       "    <tr>\n",
       "      <th>(-0.001, 1.0]</th>\n",
       "      <td>269411</td>\n",
       "      <td>2702</td>\n",
       "      <td>272113</td>\n",
       "    </tr>\n",
       "    <tr>\n",
       "      <th>(1.0, 30.0]</th>\n",
       "      <td>46286</td>\n",
       "      <td>64</td>\n",
       "      <td>46350</td>\n",
       "    </tr>\n",
       "    <tr>\n",
       "      <th>All</th>\n",
       "      <td>315697</td>\n",
       "      <td>2766</td>\n",
       "      <td>318463</td>\n",
       "    </tr>\n",
       "  </tbody>\n",
       "</table>\n",
       "</div>"
      ],
      "text/plain": [
       "resposta            0     1     All\n",
       "Qtd_prod_q                         \n",
       "(-0.001, 1.0]  269411  2702  272113\n",
       "(1.0, 30.0]     46286    64   46350\n",
       "All            315697  2766  318463"
      ]
     },
     "execution_count": 16,
     "metadata": {},
     "output_type": "execute_result"
    }
   ],
   "source": [
    "qtd_prod_tab = pd.crosstab(telefonia[\"Qtd_prod_q\"],telefonia[\"resposta\"],margins=True)\n",
    "qtd_prod_tab"
   ]
  },
  {
   "cell_type": "markdown",
   "metadata": {},
   "source": [
    "## Modelo - Árvore de Decisão"
   ]
  },
  {
   "cell_type": "code",
   "execution_count": 17,
   "metadata": {},
   "outputs": [],
   "source": [
    "# Transformando a variável resposta em categórica\n",
    "telefonia['resposta_cat'] = telefonia.resposta.astype('category')"
   ]
  },
  {
   "cell_type": "code",
   "execution_count": 18,
   "metadata": {},
   "outputs": [],
   "source": [
    "var_explicativas = telefonia[[\n",
    "    'Minutos_realizados_T0_q',\n",
    "    'Tempo_casa_q', \n",
    "    'Qtd_retencao_6meses_q',\n",
    "    'Qtd_prod_q']]\n",
    "\n",
    "var_resposta = telefonia['resposta_cat']"
   ]
  },
  {
   "cell_type": "code",
   "execution_count": 19,
   "metadata": {},
   "outputs": [],
   "source": [
    "# Constrói o modelo de árvore\n",
    "modelo = Tree.from_numpy(\n",
    "    var_explicativas.to_numpy(), \n",
    "    var_resposta.to_numpy(), \n",
    "    split_titles=['Minutos_realizados_T0_q',\n",
    "                  'Tempo_casa_q', \n",
    "                  'Qtd_retencao_6meses_q',\n",
    "                  'Qtd_prod_q'], \n",
    "    min_child_node_size=2)"
   ]
  },
  {
   "cell_type": "code",
   "execution_count": 20,
   "metadata": {},
   "outputs": [
    {
     "name": "stdout",
     "output_type": "stream",
     "text": [
      "([], {0: 315697.0, 1: 2766.0}, (Tempo_casa_q, p=1.9579279056686072e-264, score=1221.0786987646634, groups=[[Interval(2.999, 72.0, closed='right')], [Interval(72.0, 101.0, closed='right')], [Interval(101.0, 149.0, closed='right')], [Interval(149.0, 230.0, closed='right')]]), dof=3))\n",
      "|-- ([Interval(2.999, 72.0, closed='right')], {0: 82167.0, 1: 1505.0}, (Qtd_prod_q, p=8.690503159875556e-32, score=137.65040968906783, groups=[[Interval(-0.001, 1.0, closed='right')], [Interval(1.0, 30.0, closed='right')]]), dof=1))\n",
      "|   |-- ([Interval(-0.001, 1.0, closed='right')], {0: 72676.0, 1: 1477.0}, <Invalid Chaid Split> - the max depth has been reached)\n",
      "|   +-- ([Interval(1.0, 30.0, closed='right')], {0: 9491.0, 1: 28.0}, <Invalid Chaid Split> - the max depth has been reached)\n",
      "|-- ([Interval(72.0, 101.0, closed='right')], {0: 80505.0, 1: 604.0}, (Minutos_realizados_T0_q, p=1.0250634750014723e-20, score=87.11277400461087, groups=[[Interval(-0.001, 16.082, closed='right')], [Interval(16.082, 49.72, closed='right'), Interval(49.72, 126.731, closed='right'), Interval(126.731, 1474.066, closed='right')]]), dof=1))\n",
      "|   |-- ([Interval(-0.001, 16.082, closed='right')], {0: 23259.0, 1: 279.0}, <Invalid Chaid Split> - the max depth has been reached)\n",
      "|   +-- ([Interval(16.082, 49.72, closed='right'), Interval(49.72, 126.731, closed='right'), Interval(126.731, 1474.066, closed='right')], {0: 57246.0, 1: 325.0}, <Invalid Chaid Split> - the max depth has been reached)\n",
      "|-- ([Interval(101.0, 149.0, closed='right')], {0: 74097.0, 1: 397.0}, (Minutos_realizados_T0_q, p=5.858955766641755e-22, score=92.77503567858517, groups=[[Interval(-0.001, 16.082, closed='right')], [Interval(16.082, 49.72, closed='right'), Interval(49.72, 126.731, closed='right'), Interval(126.731, 1474.066, closed='right')]]), dof=1))\n",
      "|   |-- ([Interval(-0.001, 16.082, closed='right')], {0: 17554.0, 1: 176.0}, <Invalid Chaid Split> - the max depth has been reached)\n",
      "|   +-- ([Interval(16.082, 49.72, closed='right'), Interval(49.72, 126.731, closed='right'), Interval(126.731, 1474.066, closed='right')], {0: 56543.0, 1: 221.0}, <Invalid Chaid Split> - the max depth has been reached)\n",
      "+-- ([Interval(149.0, 230.0, closed='right')], {0: 78928.0, 1: 260.0}, (Minutos_realizados_T0_q, p=3.0493441395264077e-34, score=148.87800795384106, groups=[[Interval(-0.001, 16.082, closed='right')], [Interval(16.082, 49.72, closed='right'), Interval(126.731, 1474.066, closed='right'), Interval(49.72, 126.731, closed='right')]]), dof=1))\n",
      "    |-- ([Interval(-0.001, 16.082, closed='right')], {0: 16180.0, 1: 133.0}, <Invalid Chaid Split> - the max depth has been reached)\n",
      "    +-- ([Interval(16.082, 49.72, closed='right'), Interval(126.731, 1474.066, closed='right'), Interval(49.72, 126.731, closed='right')], {0: 62748.0, 1: 127.0}, <Invalid Chaid Split> - the max depth has been reached)\n",
      "\n"
     ]
    }
   ],
   "source": [
    "modelo.print_tree()"
   ]
  },
  {
   "cell_type": "code",
   "execution_count": 21,
   "metadata": {},
   "outputs": [
    {
     "data": {
      "text/plain": [
       "[{'node': 2,\n",
       "  'rules': [{'variable': 'Qtd_prod_q',\n",
       "    'data': [Interval(-0.001, 1.0, closed='right')]},\n",
       "   {'variable': 'Tempo_casa_q',\n",
       "    'data': [Interval(2.999, 72.0, closed='right')]}]},\n",
       " {'node': 3,\n",
       "  'rules': [{'variable': 'Qtd_prod_q',\n",
       "    'data': [Interval(1.0, 30.0, closed='right')]},\n",
       "   {'variable': 'Tempo_casa_q',\n",
       "    'data': [Interval(2.999, 72.0, closed='right')]}]},\n",
       " {'node': 5,\n",
       "  'rules': [{'variable': 'Minutos_realizados_T0_q',\n",
       "    'data': [Interval(-0.001, 16.082, closed='right')]},\n",
       "   {'variable': 'Tempo_casa_q',\n",
       "    'data': [Interval(72.0, 101.0, closed='right')]}]},\n",
       " {'node': 6,\n",
       "  'rules': [{'variable': 'Minutos_realizados_T0_q',\n",
       "    'data': [Interval(16.082, 49.72, closed='right'),\n",
       "     Interval(49.72, 126.731, closed='right'),\n",
       "     Interval(126.731, 1474.066, closed='right')]},\n",
       "   {'variable': 'Tempo_casa_q',\n",
       "    'data': [Interval(72.0, 101.0, closed='right')]}]},\n",
       " {'node': 8,\n",
       "  'rules': [{'variable': 'Minutos_realizados_T0_q',\n",
       "    'data': [Interval(-0.001, 16.082, closed='right')]},\n",
       "   {'variable': 'Tempo_casa_q',\n",
       "    'data': [Interval(101.0, 149.0, closed='right')]}]},\n",
       " {'node': 9,\n",
       "  'rules': [{'variable': 'Minutos_realizados_T0_q',\n",
       "    'data': [Interval(16.082, 49.72, closed='right'),\n",
       "     Interval(49.72, 126.731, closed='right'),\n",
       "     Interval(126.731, 1474.066, closed='right')]},\n",
       "   {'variable': 'Tempo_casa_q',\n",
       "    'data': [Interval(101.0, 149.0, closed='right')]}]},\n",
       " {'node': 11,\n",
       "  'rules': [{'variable': 'Minutos_realizados_T0_q',\n",
       "    'data': [Interval(-0.001, 16.082, closed='right')]},\n",
       "   {'variable': 'Tempo_casa_q',\n",
       "    'data': [Interval(149.0, 230.0, closed='right')]}]},\n",
       " {'node': 12,\n",
       "  'rules': [{'variable': 'Minutos_realizados_T0_q',\n",
       "    'data': [Interval(16.082, 49.72, closed='right'),\n",
       "     Interval(126.731, 1474.066, closed='right'),\n",
       "     Interval(49.72, 126.731, closed='right')]},\n",
       "   {'variable': 'Tempo_casa_q',\n",
       "    'data': [Interval(149.0, 230.0, closed='right')]}]}]"
      ]
     },
     "execution_count": 21,
     "metadata": {},
     "output_type": "execute_result"
    }
   ],
   "source": [
    "modelo.classification_rules()"
   ]
  },
  {
   "cell_type": "code",
   "execution_count": 22,
   "metadata": {},
   "outputs": [],
   "source": [
    "# Salvando na base os nós\n",
    "telefonia['node'] = modelo.node_predictions()"
   ]
  },
  {
   "cell_type": "code",
   "execution_count": 23,
   "metadata": {},
   "outputs": [],
   "source": [
    "# Salvando a taxa de resposta por nó\n",
    "probs = telefonia.groupby(['node']).agg({'resposta':'mean'}).reset_index()"
   ]
  },
  {
   "cell_type": "code",
   "execution_count": 24,
   "metadata": {},
   "outputs": [],
   "source": [
    "# Marcando se o nó é propenso\n",
    "probs['propenso'] = np.where(probs['resposta'] >= telefonia['resposta'].mean(), 1, 0)"
   ]
  },
  {
   "cell_type": "code",
   "execution_count": 25,
   "metadata": {},
   "outputs": [
    {
     "data": {
      "text/html": [
       "<div>\n",
       "<style scoped>\n",
       "    .dataframe tbody tr th:only-of-type {\n",
       "        vertical-align: middle;\n",
       "    }\n",
       "\n",
       "    .dataframe tbody tr th {\n",
       "        vertical-align: top;\n",
       "    }\n",
       "\n",
       "    .dataframe thead th {\n",
       "        text-align: right;\n",
       "    }\n",
       "</style>\n",
       "<table border=\"1\" class=\"dataframe\">\n",
       "  <thead>\n",
       "    <tr style=\"text-align: right;\">\n",
       "      <th></th>\n",
       "      <th>node</th>\n",
       "      <th>prob</th>\n",
       "      <th>propenso</th>\n",
       "    </tr>\n",
       "  </thead>\n",
       "  <tbody>\n",
       "    <tr>\n",
       "      <th>0</th>\n",
       "      <td>2.0</td>\n",
       "      <td>0.019918</td>\n",
       "      <td>1</td>\n",
       "    </tr>\n",
       "    <tr>\n",
       "      <th>1</th>\n",
       "      <td>3.0</td>\n",
       "      <td>0.002941</td>\n",
       "      <td>0</td>\n",
       "    </tr>\n",
       "    <tr>\n",
       "      <th>2</th>\n",
       "      <td>5.0</td>\n",
       "      <td>0.011853</td>\n",
       "      <td>1</td>\n",
       "    </tr>\n",
       "    <tr>\n",
       "      <th>3</th>\n",
       "      <td>6.0</td>\n",
       "      <td>0.005645</td>\n",
       "      <td>0</td>\n",
       "    </tr>\n",
       "    <tr>\n",
       "      <th>4</th>\n",
       "      <td>8.0</td>\n",
       "      <td>0.009927</td>\n",
       "      <td>1</td>\n",
       "    </tr>\n",
       "    <tr>\n",
       "      <th>5</th>\n",
       "      <td>9.0</td>\n",
       "      <td>0.003893</td>\n",
       "      <td>0</td>\n",
       "    </tr>\n",
       "    <tr>\n",
       "      <th>6</th>\n",
       "      <td>11.0</td>\n",
       "      <td>0.008153</td>\n",
       "      <td>0</td>\n",
       "    </tr>\n",
       "    <tr>\n",
       "      <th>7</th>\n",
       "      <td>12.0</td>\n",
       "      <td>0.002020</td>\n",
       "      <td>0</td>\n",
       "    </tr>\n",
       "  </tbody>\n",
       "</table>\n",
       "</div>"
      ],
      "text/plain": [
       "   node      prob  propenso\n",
       "0   2.0  0.019918         1\n",
       "1   3.0  0.002941         0\n",
       "2   5.0  0.011853         1\n",
       "3   6.0  0.005645         0\n",
       "4   8.0  0.009927         1\n",
       "5   9.0  0.003893         0\n",
       "6  11.0  0.008153         0\n",
       "7  12.0  0.002020         0"
      ]
     },
     "execution_count": 25,
     "metadata": {},
     "output_type": "execute_result"
    }
   ],
   "source": [
    "probs = probs.rename(columns={\"resposta\":\"prob\"})\n",
    "probs"
   ]
  },
  {
   "cell_type": "code",
   "execution_count": 26,
   "metadata": {},
   "outputs": [],
   "source": [
    "telefonia = telefonia.merge(probs, how='left', on='node')"
   ]
  },
  {
   "cell_type": "code",
   "execution_count": 27,
   "metadata": {},
   "outputs": [],
   "source": [
    "tabela_desempenho = pd.crosstab(telefonia['resposta'], telefonia['propenso'])"
   ]
  },
  {
   "cell_type": "code",
   "execution_count": 28,
   "metadata": {},
   "outputs": [
    {
     "data": {
      "text/html": [
       "<div>\n",
       "<style scoped>\n",
       "    .dataframe tbody tr th:only-of-type {\n",
       "        vertical-align: middle;\n",
       "    }\n",
       "\n",
       "    .dataframe tbody tr th {\n",
       "        vertical-align: top;\n",
       "    }\n",
       "\n",
       "    .dataframe thead th {\n",
       "        text-align: right;\n",
       "    }\n",
       "</style>\n",
       "<table border=\"1\" class=\"dataframe\">\n",
       "  <thead>\n",
       "    <tr style=\"text-align: right;\">\n",
       "      <th>propenso</th>\n",
       "      <th>0</th>\n",
       "      <th>1</th>\n",
       "    </tr>\n",
       "    <tr>\n",
       "      <th>resposta</th>\n",
       "      <th></th>\n",
       "      <th></th>\n",
       "    </tr>\n",
       "  </thead>\n",
       "  <tbody>\n",
       "    <tr>\n",
       "      <th>0</th>\n",
       "      <td>202208</td>\n",
       "      <td>113489</td>\n",
       "    </tr>\n",
       "    <tr>\n",
       "      <th>1</th>\n",
       "      <td>834</td>\n",
       "      <td>1932</td>\n",
       "    </tr>\n",
       "  </tbody>\n",
       "</table>\n",
       "</div>"
      ],
      "text/plain": [
       "propenso       0       1\n",
       "resposta                \n",
       "0         202208  113489\n",
       "1            834    1932"
      ]
     },
     "execution_count": 28,
     "metadata": {},
     "output_type": "execute_result"
    }
   ],
   "source": [
    "tabela_desempenho"
   ]
  },
  {
   "cell_type": "code",
   "execution_count": 29,
   "metadata": {},
   "outputs": [
    {
     "data": {
      "text/plain": [
       "0.6410163818088758"
      ]
     },
     "execution_count": 29,
     "metadata": {},
     "output_type": "execute_result"
    }
   ],
   "source": [
    "acuracia = (tabela_desempenho[0][0] + tabela_desempenho[1][1])/tabela_desempenho.sum().sum()\n",
    "acuracia"
   ]
  },
  {
   "cell_type": "code",
   "execution_count": 30,
   "metadata": {},
   "outputs": [
    {
     "data": {
      "text/plain": [
       "0.6984815618221258"
      ]
     },
     "execution_count": 30,
     "metadata": {},
     "output_type": "execute_result"
    }
   ],
   "source": [
    "sensibilidade = (tabela_desempenho[1][1])/(tabela_desempenho[1][1] + tabela_desempenho[0][1])\n",
    "sensibilidade"
   ]
  },
  {
   "cell_type": "code",
   "execution_count": 31,
   "metadata": {},
   "outputs": [
    {
     "data": {
      "text/plain": [
       "0.6405128968599638"
      ]
     },
     "execution_count": 31,
     "metadata": {},
     "output_type": "execute_result"
    }
   ],
   "source": [
    "especificidade = (tabela_desempenho[0][0])/(tabela_desempenho[0][0] + tabela_desempenho[1][0])\n",
    "especificidade"
   ]
  }
 ],
 "metadata": {
  "kernelspec": {
   "display_name": "Python 3",
   "language": "python",
   "name": "python3"
  },
  "language_info": {
   "codemirror_mode": {
    "name": "ipython",
    "version": 3
   },
   "file_extension": ".py",
   "mimetype": "text/x-python",
   "name": "python",
   "nbconvert_exporter": "python",
   "pygments_lexer": "ipython3",
   "version": "3.8.3"
  }
 },
 "nbformat": 4,
 "nbformat_minor": 4
}
